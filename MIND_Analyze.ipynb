{
 "cells": [
  {
   "cell_type": "markdown",
   "source": [
    "# MIND 微软新闻数据集"
   ],
   "metadata": {
    "collapsed": false
   },
   "id": "1cd3329869c20470"
  },
  {
   "cell_type": "markdown",
   "source": [
    " MIND\n",
    "  ├── MINDlarge_dev\n",
    "  │   ├── \\_\\_placeholder\\_\\_\n",
    "  │   ├── behaviors.tsv\n",
    "  │   ├── entity_embedding.vec\n",
    "  │   ├── news.tsv\n",
    "  │   └── relation_embedding.vec\n",
    "  ├── MINDlarge_test\n",
    "  ├── MINDlarge_train\n",
    "  ├── MINDsmall_dev\n",
    "  ├── MINDsmall_train\n"
   ],
   "metadata": {
    "collapsed": false
   },
   "id": "8275d7bf0c8d7b5"
  },
  {
   "cell_type": "code",
   "execution_count": 85,
   "outputs": [],
   "source": [
    "import pandas as pd\n",
    "import numpy as np\n",
    "import re\n",
    "import ast\n",
    "from ast import literal_eval"
   ],
   "metadata": {
    "collapsed": false,
    "ExecuteTime": {
     "end_time": "2024-05-29T07:37:18.260383700Z",
     "start_time": "2024-05-29T07:37:18.255349800Z"
    }
   },
   "id": "773587577b0d6477"
  },
  {
   "cell_type": "markdown",
   "source": [
    "数据路径"
   ],
   "metadata": {
    "collapsed": false
   },
   "id": "bf9b6ea1dbf0e244"
  },
  {
   "cell_type": "code",
   "execution_count": 2,
   "id": "initial_id",
   "metadata": {
    "collapsed": true,
    "ExecuteTime": {
     "end_time": "2024-05-29T01:52:19.480684300Z",
     "start_time": "2024-05-29T01:52:19.475808900Z"
    }
   },
   "outputs": [],
   "source": [
    "data_path = \"F:/DataSets/MIND/MINDsmall_train/\"\n",
    "behaviors_path = data_path + \"behaviors.tsv\"\n",
    "entity_embeddings_path = data_path + \"entity_embedding.vec\"\n",
    "news_path = data_path + \"news.tsv\""
   ]
  },
  {
   "cell_type": "markdown",
   "source": [
    "* 印象 ID。展示的 ID。 int64\n",
    "* 用户身份。用户的匿名 ID。str\n",
    "* 时间。展示时间，格式为“MM/DD/YYYY HH:MM:SS AM/PM”。str\n",
    "* 历史。该用户在本次曝光前的新闻点击历史记录（点击新闻的ID列表）。点击的新闻文章按时间排序。str\n",
    "* 印象。本次展示中展示的新闻列表以及用户对其的点击行为（1为点击，0为未点击）。印象中的新闻顺序已被打乱。str"
   ],
   "metadata": {
    "collapsed": false
   },
   "id": "e081189919170ed2"
  },
  {
   "cell_type": "code",
   "execution_count": 3,
   "outputs": [
    {
     "name": "stdout",
     "output_type": "stream",
     "text": [
      "<class 'numpy.int64'> <class 'str'> <class 'str'> <class 'str'> <class 'str'>\n"
     ]
    },
    {
     "data": {
      "text/plain": "   impression_id user_id                   time  \\\n0              1  U13740  11/11/2019 9:05:58 AM   \n1              2  U91836  11/12/2019 6:11:30 PM   \n\n                                             history  \\\n0  N55189 N42782 N34694 N45794 N18445 N63302 N104...   \n1  N31739 N6072 N63045 N23979 N35656 N43353 N8129...   \n\n                                         impressions  \n0                                  N55689-1 N35729-0  \n1  N20678-0 N39317-0 N58114-0 N20495-0 N42977-0 N...  ",
      "text/html": "<div>\n<style scoped>\n    .dataframe tbody tr th:only-of-type {\n        vertical-align: middle;\n    }\n\n    .dataframe tbody tr th {\n        vertical-align: top;\n    }\n\n    .dataframe thead th {\n        text-align: right;\n    }\n</style>\n<table border=\"1\" class=\"dataframe\">\n  <thead>\n    <tr style=\"text-align: right;\">\n      <th></th>\n      <th>impression_id</th>\n      <th>user_id</th>\n      <th>time</th>\n      <th>history</th>\n      <th>impressions</th>\n    </tr>\n  </thead>\n  <tbody>\n    <tr>\n      <th>0</th>\n      <td>1</td>\n      <td>U13740</td>\n      <td>11/11/2019 9:05:58 AM</td>\n      <td>N55189 N42782 N34694 N45794 N18445 N63302 N104...</td>\n      <td>N55689-1 N35729-0</td>\n    </tr>\n    <tr>\n      <th>1</th>\n      <td>2</td>\n      <td>U91836</td>\n      <td>11/12/2019 6:11:30 PM</td>\n      <td>N31739 N6072 N63045 N23979 N35656 N43353 N8129...</td>\n      <td>N20678-0 N39317-0 N58114-0 N20495-0 N42977-0 N...</td>\n    </tr>\n  </tbody>\n</table>\n</div>"
     },
     "execution_count": 3,
     "metadata": {},
     "output_type": "execute_result"
    }
   ],
   "source": [
    "feature_names = ['impression_id', 'user_id', 'time', 'history', 'impressions']\n",
    "behaviors_file = pd.read_table(behaviors_path, header=None, names=feature_names)\n",
    "print(type(behaviors_file['impression_id'][0]),type(behaviors_file['user_id'][0]),type(behaviors_file['time'][0]),type(behaviors_file['history'][0]),type(behaviors_file['impressions'][0]))\n",
    "behaviors_file.head(2)"
   ],
   "metadata": {
    "collapsed": false,
    "ExecuteTime": {
     "end_time": "2024-05-29T01:52:20.395298400Z",
     "start_time": "2024-05-29T01:52:19.480684300Z"
    }
   },
   "id": "c36df78b7aadbd2c"
  },
  {
   "cell_type": "markdown",
   "source": [
    "## 嵌入表示\n",
    "读取实体嵌入向量，每个向量是一个100维的数组\n",
    "问题：\n",
    "1. 只有实体的嵌入，每个新闻有标题和摘要的若干实体，没有正文内容的实体\n",
    "2. 暂用：mean(（标题+摘要）.嵌入) 代表 新闻嵌入\n"
   ],
   "metadata": {
    "collapsed": false
   },
   "id": "6eca3134bb4722f"
  },
  {
   "cell_type": "code",
   "execution_count": 62,
   "outputs": [
    {
     "data": {
      "text/plain": "     EID                                             Vector\n0    Q41  [-0.063388, -0.181451, 0.057501, -0.091254, -0...\n1  Q1860  [0.060958, 0.069934, 0.015832, 0.079471, -0.02...",
      "text/html": "<div>\n<style scoped>\n    .dataframe tbody tr th:only-of-type {\n        vertical-align: middle;\n    }\n\n    .dataframe tbody tr th {\n        vertical-align: top;\n    }\n\n    .dataframe thead th {\n        text-align: right;\n    }\n</style>\n<table border=\"1\" class=\"dataframe\">\n  <thead>\n    <tr style=\"text-align: right;\">\n      <th></th>\n      <th>EID</th>\n      <th>Vector</th>\n    </tr>\n  </thead>\n  <tbody>\n    <tr>\n      <th>0</th>\n      <td>Q41</td>\n      <td>[-0.063388, -0.181451, 0.057501, -0.091254, -0...</td>\n    </tr>\n    <tr>\n      <th>1</th>\n      <td>Q1860</td>\n      <td>[0.060958, 0.069934, 0.015832, 0.079471, -0.02...</td>\n    </tr>\n  </tbody>\n</table>\n</div>"
     },
     "execution_count": 62,
     "metadata": {},
     "output_type": "execute_result"
    }
   ],
   "source": [
    "entity_embeddings_file = pd.read_csv(entity_embeddings_path, header=None, sep='\\t')\n",
    "\n",
    "# 将ID和向量分离，ID在第一列，向量在剩余的列\n",
    "entity_ids = entity_embeddings_file.iloc[:, 0]\n",
    "embedding_vectors = entity_embeddings_file.iloc[:, 1:-1]  # 修改这里，去除最后一个可能的空列\n",
    "\n",
    "# 使用apply函数去除\"Q\"前缀并转换为整数\n",
    "converted_entity_ids = entity_embeddings_file.iloc[:, 0].apply(lambda x: int(x[1:]))\n",
    "\n",
    "# 将向量转换为一个numpy数组，这样每个向量就是一个数组形式\n",
    "embedding_vectors = embedding_vectors.apply(lambda row: np.array(row), axis=1)\n",
    "\n",
    "# 创建一个新的DataFrame来存储这些值\n",
    "entity_embeddings = pd.DataFrame({'EID': entity_ids, 'Vector': embedding_vectors})\n",
    "\n",
    "# 设置ID为索引，方便后续查询\n",
    "# entity_embeddings.set_index('EID', inplace=True)\n",
    "entity_embeddings.head(2)"
   ],
   "metadata": {
    "collapsed": false,
    "ExecuteTime": {
     "end_time": "2024-05-29T07:07:11.584843500Z",
     "start_time": "2024-05-29T07:07:11.162371700Z"
    }
   },
   "id": "30279482c137b19f"
  },
  {
   "cell_type": "markdown",
   "source": [
    "## 构造用户兴趣表（行为表）\n",
    "不是所有新闻都存在标题实体和摘要实体\n",
    "步骤：\n",
    "1. 构建新闻-嵌入表 √\n",
    "2. 以user_id排序behavior_file\n",
    "3. impressions到处交互新闻id\n",
    "4. 通过新闻id，得到新闻嵌入\n",
    "5. groupby用户id和不同时间段，计算平均嵌入，作为用户长中短期兴趣"
   ],
   "metadata": {
    "collapsed": false
   },
   "id": "5e80677701b7a4d1"
  },
  {
   "cell_type": "code",
   "execution_count": 91,
   "outputs": [
    {
     "data": {
      "text/plain": "0    [{\"Label\": \"Prince Philip, Duke of Edinburgh\",...\n1    [{\"Label\": \"Adipose tissue\", \"Type\": \"C\", \"Wik...\n2                                                   []\n3                                                   []\n4    [{\"Label\": \"Skin tag\", \"Type\": \"C\", \"WikidataI...\nName: title_entity, dtype: object"
     },
     "execution_count": 91,
     "metadata": {},
     "output_type": "execute_result"
    }
   ],
   "source": [
    "import json\n",
    "feature_names = ['news_id', 'label', 'sub_label', 'title', 'abstract', 'url', 'title_entity', 'abstract_entity']\n",
    "news = pd.read_table(news_path, header=None, names=feature_names)\n",
    "\n",
    "news['title_entity'].head()"
   ],
   "metadata": {
    "collapsed": false,
    "ExecuteTime": {
     "end_time": "2024-05-29T07:38:39.885177300Z",
     "start_time": "2024-05-29T07:38:39.498173200Z"
    }
   },
   "id": "54d5e09a0972d9ac"
  },
  {
   "cell_type": "code",
   "execution_count": 6,
   "outputs": [
    {
     "name": "stdout",
     "output_type": "stream",
     "text": [
      "[]\n",
      "<class 'str'>\n"
     ]
    }
   ],
   "source": [
    "print(news['title_entity'][2])\n",
    "print(type(news['title_entity'][2]))"
   ],
   "metadata": {
    "collapsed": false,
    "ExecuteTime": {
     "end_time": "2024-05-29T01:52:21.305081500Z",
     "start_time": "2024-05-29T01:52:21.303572700Z"
    }
   },
   "id": "9dce14dbe7f25f31"
  },
  {
   "cell_type": "markdown",
   "source": [
    "实体存储在title_entity和abstract_entity中，以json格式的字符串存在"
   ],
   "metadata": {
    "collapsed": false
   },
   "id": "3bc0840114eff98a"
  },
  {
   "cell_type": "code",
   "execution_count": 92,
   "outputs": [],
   "source": [
    "df = news\n",
    "\n",
    "# 定义一个函数来提取WikidataId和Confidence\n",
    "def extract_wikidata_confidence(json_str):\n",
    "    if type(json_str) == str:  # 检查字符串是否为空\n",
    "        entities = json.loads(json_str)\n",
    "        return [(entity[\"WikidataId\"], entity[\"Confidence\"]) for entity in entities]\n",
    "    else:\n",
    "        return []  # 返回一个空列表\n",
    "\n",
    "# 应用这个函数到title_entity列\n",
    "df['wikidata_confidence1'] = df['title_entity'].apply(extract_wikidata_confidence)\n",
    "df['wikidata_confidence2'] = df['abstract_entity'].apply(extract_wikidata_confidence)\n",
    "\n",
    "# print(df['wikidata_confidence1'])\n",
    "# print(df['wikidata_confidence2'])"
   ],
   "metadata": {
    "collapsed": false,
    "ExecuteTime": {
     "end_time": "2024-05-29T07:39:01.589014300Z",
     "start_time": "2024-05-29T07:39:01.267261Z"
    }
   },
   "id": "6e3d0127981a4a32"
  },
  {
   "cell_type": "code",
   "execution_count": 93,
   "outputs": [],
   "source": [
    "# 定义函数计算平均嵌入\n",
    "def calculate_average_embedding(wikidata_confidence):\n",
    "    embeddings = []\n",
    "    for wikidata_id, _ in wikidata_confidence:\n",
    "        embedding = entity_embeddings.loc[entity_embeddings['EID'] == wikidata_id, 'Vector'].values\n",
    "        if embedding.size > 0:\n",
    "            embeddings.append(embedding[0])\n",
    "    \n",
    "    if embeddings:\n",
    "        # 计算找到的嵌入向量的平均值\n",
    "        average_embedding = np.mean(embeddings, axis=0)\n",
    "        return average_embedding\n",
    "    else:\n",
    "        return np.array([])  # 如果没有找到嵌入向量，返回空数组\n",
    "\n"
   ],
   "metadata": {
    "collapsed": false,
    "ExecuteTime": {
     "end_time": "2024-05-29T07:39:04.212403800Z",
     "start_time": "2024-05-29T07:39:04.205355300Z"
    }
   },
   "id": "39ac0857b9c81f2c"
  },
  {
   "cell_type": "code",
   "execution_count": 94,
   "outputs": [
    {
     "data": {
      "text/plain": "  news_id      label        sub_label  \\\n0  N55528  lifestyle  lifestyleroyals   \n1  N19639     health       weightloss   \n2  N61837       news        newsworld   \n3  N53526     health           voices   \n4  N38324     health          medical   \n\n                                               title  \\\n0  The Brands Queen Elizabeth, Prince Charles, an...   \n1                      50 Worst Habits For Belly Fat   \n2  The Cost of Trump's Aid Freeze in the Trenches...   \n3  I Was An NBA Wife. Here's How It Affected My M...   \n4  How to Get Rid of Skin Tags, According to a De...   \n\n                                            abstract  \\\n0  Shop the notebooks, jackets, and more that the...   \n1  These seemingly harmless habits are holding yo...   \n2  Lt. Ivan Molchanets peeked over a parapet of s...   \n3  I felt like I was a fraud, and being an NBA wi...   \n4  They seem harmless, but there's a very good re...   \n\n                                             url  \\\n0  https://assets.msn.com/labs/mind/AAGH0ET.html   \n1  https://assets.msn.com/labs/mind/AAB19MK.html   \n2  https://assets.msn.com/labs/mind/AAJgNsz.html   \n3  https://assets.msn.com/labs/mind/AACk2N6.html   \n4  https://assets.msn.com/labs/mind/AAAKEkt.html   \n\n                                        title_entity  \\\n0  [{\"Label\": \"Prince Philip, Duke of Edinburgh\",...   \n1  [{\"Label\": \"Adipose tissue\", \"Type\": \"C\", \"Wik...   \n2                                                 []   \n3                                                 []   \n4  [{\"Label\": \"Skin tag\", \"Type\": \"C\", \"WikidataI...   \n\n                                     abstract_entity  \\\n0                                                 []   \n1  [{\"Label\": \"Adipose tissue\", \"Type\": \"C\", \"Wik...   \n2  [{\"Label\": \"Ukraine\", \"Type\": \"G\", \"WikidataId...   \n3  [{\"Label\": \"National Basketball Association\", ...   \n4  [{\"Label\": \"Skin tag\", \"Type\": \"C\", \"WikidataI...   \n\n                            wikidata_confidence1  \\\n0  [(Q80976, 1.0), (Q43274, 1.0), (Q9682, 0.97)]   \n1                               [(Q193583, 1.0)]   \n2                                             []   \n3                                             []   \n4                              [(Q3179593, 1.0)]   \n\n                                wikidata_confidence2  \n0                                                 []  \n1                                   [(Q193583, 1.0)]  \n2                                    [(Q212, 0.946)]  \n3                                   [(Q155223, 1.0)]  \n4  [(Q3179593, 1.0), (Q171171, 1.0), (Q371820, 0....  ",
      "text/html": "<div>\n<style scoped>\n    .dataframe tbody tr th:only-of-type {\n        vertical-align: middle;\n    }\n\n    .dataframe tbody tr th {\n        vertical-align: top;\n    }\n\n    .dataframe thead th {\n        text-align: right;\n    }\n</style>\n<table border=\"1\" class=\"dataframe\">\n  <thead>\n    <tr style=\"text-align: right;\">\n      <th></th>\n      <th>news_id</th>\n      <th>label</th>\n      <th>sub_label</th>\n      <th>title</th>\n      <th>abstract</th>\n      <th>url</th>\n      <th>title_entity</th>\n      <th>abstract_entity</th>\n      <th>wikidata_confidence1</th>\n      <th>wikidata_confidence2</th>\n    </tr>\n  </thead>\n  <tbody>\n    <tr>\n      <th>0</th>\n      <td>N55528</td>\n      <td>lifestyle</td>\n      <td>lifestyleroyals</td>\n      <td>The Brands Queen Elizabeth, Prince Charles, an...</td>\n      <td>Shop the notebooks, jackets, and more that the...</td>\n      <td>https://assets.msn.com/labs/mind/AAGH0ET.html</td>\n      <td>[{\"Label\": \"Prince Philip, Duke of Edinburgh\",...</td>\n      <td>[]</td>\n      <td>[(Q80976, 1.0), (Q43274, 1.0), (Q9682, 0.97)]</td>\n      <td>[]</td>\n    </tr>\n    <tr>\n      <th>1</th>\n      <td>N19639</td>\n      <td>health</td>\n      <td>weightloss</td>\n      <td>50 Worst Habits For Belly Fat</td>\n      <td>These seemingly harmless habits are holding yo...</td>\n      <td>https://assets.msn.com/labs/mind/AAB19MK.html</td>\n      <td>[{\"Label\": \"Adipose tissue\", \"Type\": \"C\", \"Wik...</td>\n      <td>[{\"Label\": \"Adipose tissue\", \"Type\": \"C\", \"Wik...</td>\n      <td>[(Q193583, 1.0)]</td>\n      <td>[(Q193583, 1.0)]</td>\n    </tr>\n    <tr>\n      <th>2</th>\n      <td>N61837</td>\n      <td>news</td>\n      <td>newsworld</td>\n      <td>The Cost of Trump's Aid Freeze in the Trenches...</td>\n      <td>Lt. Ivan Molchanets peeked over a parapet of s...</td>\n      <td>https://assets.msn.com/labs/mind/AAJgNsz.html</td>\n      <td>[]</td>\n      <td>[{\"Label\": \"Ukraine\", \"Type\": \"G\", \"WikidataId...</td>\n      <td>[]</td>\n      <td>[(Q212, 0.946)]</td>\n    </tr>\n    <tr>\n      <th>3</th>\n      <td>N53526</td>\n      <td>health</td>\n      <td>voices</td>\n      <td>I Was An NBA Wife. Here's How It Affected My M...</td>\n      <td>I felt like I was a fraud, and being an NBA wi...</td>\n      <td>https://assets.msn.com/labs/mind/AACk2N6.html</td>\n      <td>[]</td>\n      <td>[{\"Label\": \"National Basketball Association\", ...</td>\n      <td>[]</td>\n      <td>[(Q155223, 1.0)]</td>\n    </tr>\n    <tr>\n      <th>4</th>\n      <td>N38324</td>\n      <td>health</td>\n      <td>medical</td>\n      <td>How to Get Rid of Skin Tags, According to a De...</td>\n      <td>They seem harmless, but there's a very good re...</td>\n      <td>https://assets.msn.com/labs/mind/AAAKEkt.html</td>\n      <td>[{\"Label\": \"Skin tag\", \"Type\": \"C\", \"WikidataI...</td>\n      <td>[{\"Label\": \"Skin tag\", \"Type\": \"C\", \"WikidataI...</td>\n      <td>[(Q3179593, 1.0)]</td>\n      <td>[(Q3179593, 1.0), (Q171171, 1.0), (Q371820, 0....</td>\n    </tr>\n  </tbody>\n</table>\n</div>"
     },
     "execution_count": 94,
     "metadata": {},
     "output_type": "execute_result"
    }
   ],
   "source": [
    "df.head()"
   ],
   "metadata": {
    "collapsed": false,
    "ExecuteTime": {
     "end_time": "2024-05-29T07:39:05.892243500Z",
     "start_time": "2024-05-29T07:39:05.882391500Z"
    }
   },
   "id": "3bf650b30d2d417b"
  },
  {
   "cell_type": "code",
   "execution_count": 95,
   "outputs": [
    {
     "name": "stdout",
     "output_type": "stream",
     "text": [
      "[100]\n"
     ]
    }
   ],
   "source": [
    "# 检查 entity_embeddings 中 Vector 列的每一个向量的长度\n",
    "lengths = entity_embeddings['Vector'].apply(lambda x: len(x))\n",
    "print(lengths.unique())  # 这应该只返回一个唯一值：100\n",
    "\n",
    "# 如果发现除了100以外的长度值，那么这可能是问题的来源\n"
   ],
   "metadata": {
    "collapsed": false,
    "ExecuteTime": {
     "end_time": "2024-05-29T07:39:15.824526600Z",
     "start_time": "2024-05-29T07:39:15.818109600Z"
    }
   },
   "id": "ab43a3d00ed66e9d"
  },
  {
   "cell_type": "code",
   "execution_count": 96,
   "outputs": [
    {
     "data": {
      "text/plain": "array([-0.063388, -0.181451,  0.057501, -0.091254, -0.076217, -0.052525,\n        0.0505  , -0.224871, -0.018145,  0.030722,  0.064276,  0.073063,\n        0.039489,  0.159404, -0.128784,  0.016325,  0.026797,  0.13709 ,\n        0.001849, -0.059103,  0.012091,  0.045418,  0.000591,  0.211337,\n       -0.034093, -0.074582,  0.014004, -0.099355,  0.170144,  0.109376,\n       -0.014797,  0.071172,  0.080375,  0.045563, -0.046462,  0.070108,\n        0.015413, -0.020874, -0.170324, -0.00113 ,  0.05981 ,  0.054342,\n        0.027358, -0.028995, -0.224508,  0.066281, -0.200006,  0.018186,\n        0.082396,  0.167178, -0.136239,  0.055134, -0.080195, -0.00146 ,\n        0.031078, -0.017084, -0.091176, -0.036916,  0.124642, -0.098185,\n       -0.054836,  0.152483, -0.053712,  0.092816, -0.112044, -0.072247,\n       -0.114896, -0.036541, -0.186339, -0.16061 ,  0.037342, -0.133474,\n        0.11008 ,  0.070678, -0.005586, -0.046667, -0.07201 ,  0.086424,\n        0.026165,  0.030561,  0.077888, -0.117226,  0.211597,  0.112512,\n        0.079999, -0.083398, -0.121117,  0.071751, -0.017654, -0.134979,\n       -0.051949,  0.001861,  0.124535, -0.151043, -0.263698, -0.103607,\n        0.020007, -0.101157, -0.091567,  0.035234])"
     },
     "execution_count": 96,
     "metadata": {},
     "output_type": "execute_result"
    }
   ],
   "source": [
    "entity_embeddings['Vector'][0]"
   ],
   "metadata": {
    "collapsed": false,
    "ExecuteTime": {
     "end_time": "2024-05-29T07:39:17.086348900Z",
     "start_time": "2024-05-29T07:39:17.076346200Z"
    }
   },
   "id": "3b9759fbd32180e9"
  },
  {
   "cell_type": "code",
   "execution_count": 97,
   "outputs": [
    {
     "data": {
      "text/plain": "  news_id      label        sub_label  \\\n0  N55528  lifestyle  lifestyleroyals   \n1  N19639     health       weightloss   \n2  N61837       news        newsworld   \n3  N53526     health           voices   \n4  N38324     health          medical   \n\n                                               title  \\\n0  The Brands Queen Elizabeth, Prince Charles, an...   \n1                      50 Worst Habits For Belly Fat   \n2  The Cost of Trump's Aid Freeze in the Trenches...   \n3  I Was An NBA Wife. Here's How It Affected My M...   \n4  How to Get Rid of Skin Tags, According to a De...   \n\n                                            abstract  \\\n0  Shop the notebooks, jackets, and more that the...   \n1  These seemingly harmless habits are holding yo...   \n2  Lt. Ivan Molchanets peeked over a parapet of s...   \n3  I felt like I was a fraud, and being an NBA wi...   \n4  They seem harmless, but there's a very good re...   \n\n                                             url  \\\n0  https://assets.msn.com/labs/mind/AAGH0ET.html   \n1  https://assets.msn.com/labs/mind/AAB19MK.html   \n2  https://assets.msn.com/labs/mind/AAJgNsz.html   \n3  https://assets.msn.com/labs/mind/AACk2N6.html   \n4  https://assets.msn.com/labs/mind/AAAKEkt.html   \n\n                                        title_entity  \\\n0  [{\"Label\": \"Prince Philip, Duke of Edinburgh\",...   \n1  [{\"Label\": \"Adipose tissue\", \"Type\": \"C\", \"Wik...   \n2                                                 []   \n3                                                 []   \n4  [{\"Label\": \"Skin tag\", \"Type\": \"C\", \"WikidataI...   \n\n                                     abstract_entity  \\\n0                                                 []   \n1  [{\"Label\": \"Adipose tissue\", \"Type\": \"C\", \"Wik...   \n2  [{\"Label\": \"Ukraine\", \"Type\": \"G\", \"WikidataId...   \n3  [{\"Label\": \"National Basketball Association\", ...   \n4  [{\"Label\": \"Skin tag\", \"Type\": \"C\", \"WikidataI...   \n\n                            wikidata_confidence1  \\\n0  [(Q80976, 1.0), (Q43274, 1.0), (Q9682, 0.97)]   \n1                               [(Q193583, 1.0)]   \n2                                             []   \n3                                             []   \n4                              [(Q3179593, 1.0)]   \n\n                                wikidata_confidence2  \\\n0                                                 []   \n1                                   [(Q193583, 1.0)]   \n2                                    [(Q212, 0.946)]   \n3                                   [(Q155223, 1.0)]   \n4  [(Q3179593, 1.0), (Q171171, 1.0), (Q371820, 0....   \n\n                                  average_embedding1  \\\n0  [0.004057333333333334, -0.03991733333333333, -...   \n1  [-0.013597, -0.009758, 0.01712, -0.051993, 0.0...   \n2                                                 []   \n3                                                 []   \n4  [0.014257, 0.018351, 0.005199, 0.001773, 0.031...   \n\n                                  average_embedding2  \n0                                                 []  \n1  [-0.013597, -0.009758, 0.01712, -0.051993, 0.0...  \n2  [-0.065324, -0.088163, -0.015203, -0.031949, 0...  \n3  [0.003752, -0.061771, -0.037073, 0.02677, -0.0...  \n4  [-0.008593666666666668, -0.0001680000000000003...  ",
      "text/html": "<div>\n<style scoped>\n    .dataframe tbody tr th:only-of-type {\n        vertical-align: middle;\n    }\n\n    .dataframe tbody tr th {\n        vertical-align: top;\n    }\n\n    .dataframe thead th {\n        text-align: right;\n    }\n</style>\n<table border=\"1\" class=\"dataframe\">\n  <thead>\n    <tr style=\"text-align: right;\">\n      <th></th>\n      <th>news_id</th>\n      <th>label</th>\n      <th>sub_label</th>\n      <th>title</th>\n      <th>abstract</th>\n      <th>url</th>\n      <th>title_entity</th>\n      <th>abstract_entity</th>\n      <th>wikidata_confidence1</th>\n      <th>wikidata_confidence2</th>\n      <th>average_embedding1</th>\n      <th>average_embedding2</th>\n    </tr>\n  </thead>\n  <tbody>\n    <tr>\n      <th>0</th>\n      <td>N55528</td>\n      <td>lifestyle</td>\n      <td>lifestyleroyals</td>\n      <td>The Brands Queen Elizabeth, Prince Charles, an...</td>\n      <td>Shop the notebooks, jackets, and more that the...</td>\n      <td>https://assets.msn.com/labs/mind/AAGH0ET.html</td>\n      <td>[{\"Label\": \"Prince Philip, Duke of Edinburgh\",...</td>\n      <td>[]</td>\n      <td>[(Q80976, 1.0), (Q43274, 1.0), (Q9682, 0.97)]</td>\n      <td>[]</td>\n      <td>[0.004057333333333334, -0.03991733333333333, -...</td>\n      <td>[]</td>\n    </tr>\n    <tr>\n      <th>1</th>\n      <td>N19639</td>\n      <td>health</td>\n      <td>weightloss</td>\n      <td>50 Worst Habits For Belly Fat</td>\n      <td>These seemingly harmless habits are holding yo...</td>\n      <td>https://assets.msn.com/labs/mind/AAB19MK.html</td>\n      <td>[{\"Label\": \"Adipose tissue\", \"Type\": \"C\", \"Wik...</td>\n      <td>[{\"Label\": \"Adipose tissue\", \"Type\": \"C\", \"Wik...</td>\n      <td>[(Q193583, 1.0)]</td>\n      <td>[(Q193583, 1.0)]</td>\n      <td>[-0.013597, -0.009758, 0.01712, -0.051993, 0.0...</td>\n      <td>[-0.013597, -0.009758, 0.01712, -0.051993, 0.0...</td>\n    </tr>\n    <tr>\n      <th>2</th>\n      <td>N61837</td>\n      <td>news</td>\n      <td>newsworld</td>\n      <td>The Cost of Trump's Aid Freeze in the Trenches...</td>\n      <td>Lt. Ivan Molchanets peeked over a parapet of s...</td>\n      <td>https://assets.msn.com/labs/mind/AAJgNsz.html</td>\n      <td>[]</td>\n      <td>[{\"Label\": \"Ukraine\", \"Type\": \"G\", \"WikidataId...</td>\n      <td>[]</td>\n      <td>[(Q212, 0.946)]</td>\n      <td>[]</td>\n      <td>[-0.065324, -0.088163, -0.015203, -0.031949, 0...</td>\n    </tr>\n    <tr>\n      <th>3</th>\n      <td>N53526</td>\n      <td>health</td>\n      <td>voices</td>\n      <td>I Was An NBA Wife. Here's How It Affected My M...</td>\n      <td>I felt like I was a fraud, and being an NBA wi...</td>\n      <td>https://assets.msn.com/labs/mind/AACk2N6.html</td>\n      <td>[]</td>\n      <td>[{\"Label\": \"National Basketball Association\", ...</td>\n      <td>[]</td>\n      <td>[(Q155223, 1.0)]</td>\n      <td>[]</td>\n      <td>[0.003752, -0.061771, -0.037073, 0.02677, -0.0...</td>\n    </tr>\n    <tr>\n      <th>4</th>\n      <td>N38324</td>\n      <td>health</td>\n      <td>medical</td>\n      <td>How to Get Rid of Skin Tags, According to a De...</td>\n      <td>They seem harmless, but there's a very good re...</td>\n      <td>https://assets.msn.com/labs/mind/AAAKEkt.html</td>\n      <td>[{\"Label\": \"Skin tag\", \"Type\": \"C\", \"WikidataI...</td>\n      <td>[{\"Label\": \"Skin tag\", \"Type\": \"C\", \"WikidataI...</td>\n      <td>[(Q3179593, 1.0)]</td>\n      <td>[(Q3179593, 1.0), (Q171171, 1.0), (Q371820, 0....</td>\n      <td>[0.014257, 0.018351, 0.005199, 0.001773, 0.031...</td>\n      <td>[-0.008593666666666668, -0.0001680000000000003...</td>\n    </tr>\n  </tbody>\n</table>\n</div>"
     },
     "execution_count": 97,
     "metadata": {},
     "output_type": "execute_result"
    }
   ],
   "source": [
    "# # 应用函数到wikidata_confidence列\n",
    "# df['average_embedding1'] = df['wikidata_confidence1'].apply(calculate_average_embedding)\n",
    "# df['average_embedding2'] = df['wikidata_confidence2'].apply(calculate_average_embedding)\n",
    "# \n",
    "# df.head()"
   ],
   "metadata": {
    "collapsed": false,
    "ExecuteTime": {
     "end_time": "2024-05-29T07:42:08.195204500Z",
     "start_time": "2024-05-29T07:39:18.472400400Z"
    }
   },
   "id": "8902538a112432e7"
  },
  {
   "cell_type": "markdown",
   "source": [
    "验证一下"
   ],
   "metadata": {
    "collapsed": false
   },
   "id": "b4280edec2524d14"
  },
  {
   "cell_type": "code",
   "execution_count": 10,
   "outputs": [],
   "source": [
    "# # 80976 43284 9682\n",
    "# print((entity_embeddings.loc[entity_embeddings[\"EID\"]== \"Q80976\",'Vector'].values +\n",
    "#       entity_embeddings.loc[entity_embeddings[\"EID\"]== \"Q43274\",'Vector'].values +\n",
    "#       entity_embeddings.loc[entity_embeddings[\"EID\"]== \"Q9682\",'Vector'].values)/3)\n"
   ],
   "metadata": {
    "collapsed": false,
    "ExecuteTime": {
     "end_time": "2024-05-29T01:52:21.751616200Z",
     "start_time": "2024-05-29T01:52:21.747107300Z"
    }
   },
   "id": "a2c9417242d394bc"
  },
  {
   "cell_type": "code",
   "execution_count": 111,
   "outputs": [
    {
     "name": "stdout",
     "output_type": "stream",
     "text": [
      "[100   0]\n"
     ]
    }
   ],
   "source": [
    "# 检查 entity_embeddings 中 Vector 列的每一个向量的长度\n",
    "lengths = df['average_embedding1'].apply(lambda x: len(x))\n",
    "print(lengths.unique())  # 这应该只返回一个唯二值：100和0"
   ],
   "metadata": {
    "collapsed": false,
    "ExecuteTime": {
     "end_time": "2024-05-29T07:49:20.595846Z",
     "start_time": "2024-05-29T07:49:20.579946100Z"
    }
   },
   "id": "a7f5a43e7cab78d5"
  },
  {
   "cell_type": "code",
   "execution_count": 112,
   "outputs": [],
   "source": [
    "# 定义函数计算两个向量的平均值\n",
    "def average_vectors(row):\n",
    "    v1 = row['average_embedding1']\n",
    "    v2 = row['average_embedding2']\n",
    "    \n",
    "    # 检查是否有向量是0维的空值或None\n",
    "    if isinstance(v1, np.ndarray) and v1.size > 0 and isinstance(v2, np.ndarray) and v2.size > 0:\n",
    "        return (v1 + v2) / 2\n",
    "    elif isinstance(v1, np.ndarray) and v1.size > 0:\n",
    "        return v1\n",
    "    elif isinstance(v2, np.ndarray) and v2.size > 0:\n",
    "        return v2\n",
    "    else:\n",
    "         return np.array([], dtype=float)\n"
   ],
   "metadata": {
    "collapsed": false,
    "ExecuteTime": {
     "end_time": "2024-05-29T08:23:48.929682700Z",
     "start_time": "2024-05-29T08:23:48.924669400Z"
    }
   },
   "id": "f858918d235a7b0c"
  },
  {
   "cell_type": "code",
   "execution_count": 113,
   "outputs": [
    {
     "data": {
      "text/plain": "  news_id      label        sub_label  \\\n0  N55528  lifestyle  lifestyleroyals   \n1  N19639     health       weightloss   \n2  N61837       news        newsworld   \n3  N53526     health           voices   \n4  N38324     health          medical   \n\n                                               title  \\\n0  The Brands Queen Elizabeth, Prince Charles, an...   \n1                      50 Worst Habits For Belly Fat   \n2  The Cost of Trump's Aid Freeze in the Trenches...   \n3  I Was An NBA Wife. Here's How It Affected My M...   \n4  How to Get Rid of Skin Tags, According to a De...   \n\n                                            abstract  \\\n0  Shop the notebooks, jackets, and more that the...   \n1  These seemingly harmless habits are holding yo...   \n2  Lt. Ivan Molchanets peeked over a parapet of s...   \n3  I felt like I was a fraud, and being an NBA wi...   \n4  They seem harmless, but there's a very good re...   \n\n                                             url  \\\n0  https://assets.msn.com/labs/mind/AAGH0ET.html   \n1  https://assets.msn.com/labs/mind/AAB19MK.html   \n2  https://assets.msn.com/labs/mind/AAJgNsz.html   \n3  https://assets.msn.com/labs/mind/AACk2N6.html   \n4  https://assets.msn.com/labs/mind/AAAKEkt.html   \n\n                                        title_entity  \\\n0  [{\"Label\": \"Prince Philip, Duke of Edinburgh\",...   \n1  [{\"Label\": \"Adipose tissue\", \"Type\": \"C\", \"Wik...   \n2                                                 []   \n3                                                 []   \n4  [{\"Label\": \"Skin tag\", \"Type\": \"C\", \"WikidataI...   \n\n                                     abstract_entity  \\\n0                                                 []   \n1  [{\"Label\": \"Adipose tissue\", \"Type\": \"C\", \"Wik...   \n2  [{\"Label\": \"Ukraine\", \"Type\": \"G\", \"WikidataId...   \n3  [{\"Label\": \"National Basketball Association\", ...   \n4  [{\"Label\": \"Skin tag\", \"Type\": \"C\", \"WikidataI...   \n\n                            wikidata_confidence1  \\\n0  [(Q80976, 1.0), (Q43274, 1.0), (Q9682, 0.97)]   \n1                               [(Q193583, 1.0)]   \n2                                             []   \n3                                             []   \n4                              [(Q3179593, 1.0)]   \n\n                                wikidata_confidence2  \\\n0                                                 []   \n1                                   [(Q193583, 1.0)]   \n2                                    [(Q212, 0.946)]   \n3                                   [(Q155223, 1.0)]   \n4  [(Q3179593, 1.0), (Q171171, 1.0), (Q371820, 0....   \n\n                                  average_embedding1  \\\n0  [0.004057333333333334, -0.03991733333333333, -...   \n1  [-0.013597, -0.009758, 0.01712, -0.051993, 0.0...   \n2                                                 []   \n3                                                 []   \n4  [0.014257, 0.018351, 0.005199, 0.001773, 0.031...   \n\n                                  average_embedding2  \\\n0                                                 []   \n1  [-0.013597, -0.009758, 0.01712, -0.051993, 0.0...   \n2  [-0.065324, -0.088163, -0.015203, -0.031949, 0...   \n3  [0.003752, -0.061771, -0.037073, 0.02677, -0.0...   \n4  [-0.008593666666666668, -0.0001680000000000003...   \n\n                                   average_embedding  \n0  [0.004057333333333334, -0.03991733333333333, -...  \n1  [-0.013597, -0.009758, 0.01712, -0.051993, 0.0...  \n2  [-0.065324, -0.088163, -0.015203, -0.031949, 0...  \n3  [0.003752, -0.061771, -0.037073, 0.02677, -0.0...  \n4  [0.0028316666666666664, 0.009091499999999999, ...  ",
      "text/html": "<div>\n<style scoped>\n    .dataframe tbody tr th:only-of-type {\n        vertical-align: middle;\n    }\n\n    .dataframe tbody tr th {\n        vertical-align: top;\n    }\n\n    .dataframe thead th {\n        text-align: right;\n    }\n</style>\n<table border=\"1\" class=\"dataframe\">\n  <thead>\n    <tr style=\"text-align: right;\">\n      <th></th>\n      <th>news_id</th>\n      <th>label</th>\n      <th>sub_label</th>\n      <th>title</th>\n      <th>abstract</th>\n      <th>url</th>\n      <th>title_entity</th>\n      <th>abstract_entity</th>\n      <th>wikidata_confidence1</th>\n      <th>wikidata_confidence2</th>\n      <th>average_embedding1</th>\n      <th>average_embedding2</th>\n      <th>average_embedding</th>\n    </tr>\n  </thead>\n  <tbody>\n    <tr>\n      <th>0</th>\n      <td>N55528</td>\n      <td>lifestyle</td>\n      <td>lifestyleroyals</td>\n      <td>The Brands Queen Elizabeth, Prince Charles, an...</td>\n      <td>Shop the notebooks, jackets, and more that the...</td>\n      <td>https://assets.msn.com/labs/mind/AAGH0ET.html</td>\n      <td>[{\"Label\": \"Prince Philip, Duke of Edinburgh\",...</td>\n      <td>[]</td>\n      <td>[(Q80976, 1.0), (Q43274, 1.0), (Q9682, 0.97)]</td>\n      <td>[]</td>\n      <td>[0.004057333333333334, -0.03991733333333333, -...</td>\n      <td>[]</td>\n      <td>[0.004057333333333334, -0.03991733333333333, -...</td>\n    </tr>\n    <tr>\n      <th>1</th>\n      <td>N19639</td>\n      <td>health</td>\n      <td>weightloss</td>\n      <td>50 Worst Habits For Belly Fat</td>\n      <td>These seemingly harmless habits are holding yo...</td>\n      <td>https://assets.msn.com/labs/mind/AAB19MK.html</td>\n      <td>[{\"Label\": \"Adipose tissue\", \"Type\": \"C\", \"Wik...</td>\n      <td>[{\"Label\": \"Adipose tissue\", \"Type\": \"C\", \"Wik...</td>\n      <td>[(Q193583, 1.0)]</td>\n      <td>[(Q193583, 1.0)]</td>\n      <td>[-0.013597, -0.009758, 0.01712, -0.051993, 0.0...</td>\n      <td>[-0.013597, -0.009758, 0.01712, -0.051993, 0.0...</td>\n      <td>[-0.013597, -0.009758, 0.01712, -0.051993, 0.0...</td>\n    </tr>\n    <tr>\n      <th>2</th>\n      <td>N61837</td>\n      <td>news</td>\n      <td>newsworld</td>\n      <td>The Cost of Trump's Aid Freeze in the Trenches...</td>\n      <td>Lt. Ivan Molchanets peeked over a parapet of s...</td>\n      <td>https://assets.msn.com/labs/mind/AAJgNsz.html</td>\n      <td>[]</td>\n      <td>[{\"Label\": \"Ukraine\", \"Type\": \"G\", \"WikidataId...</td>\n      <td>[]</td>\n      <td>[(Q212, 0.946)]</td>\n      <td>[]</td>\n      <td>[-0.065324, -0.088163, -0.015203, -0.031949, 0...</td>\n      <td>[-0.065324, -0.088163, -0.015203, -0.031949, 0...</td>\n    </tr>\n    <tr>\n      <th>3</th>\n      <td>N53526</td>\n      <td>health</td>\n      <td>voices</td>\n      <td>I Was An NBA Wife. Here's How It Affected My M...</td>\n      <td>I felt like I was a fraud, and being an NBA wi...</td>\n      <td>https://assets.msn.com/labs/mind/AACk2N6.html</td>\n      <td>[]</td>\n      <td>[{\"Label\": \"National Basketball Association\", ...</td>\n      <td>[]</td>\n      <td>[(Q155223, 1.0)]</td>\n      <td>[]</td>\n      <td>[0.003752, -0.061771, -0.037073, 0.02677, -0.0...</td>\n      <td>[0.003752, -0.061771, -0.037073, 0.02677, -0.0...</td>\n    </tr>\n    <tr>\n      <th>4</th>\n      <td>N38324</td>\n      <td>health</td>\n      <td>medical</td>\n      <td>How to Get Rid of Skin Tags, According to a De...</td>\n      <td>They seem harmless, but there's a very good re...</td>\n      <td>https://assets.msn.com/labs/mind/AAAKEkt.html</td>\n      <td>[{\"Label\": \"Skin tag\", \"Type\": \"C\", \"WikidataI...</td>\n      <td>[{\"Label\": \"Skin tag\", \"Type\": \"C\", \"WikidataI...</td>\n      <td>[(Q3179593, 1.0)]</td>\n      <td>[(Q3179593, 1.0), (Q171171, 1.0), (Q371820, 0....</td>\n      <td>[0.014257, 0.018351, 0.005199, 0.001773, 0.031...</td>\n      <td>[-0.008593666666666668, -0.0001680000000000003...</td>\n      <td>[0.0028316666666666664, 0.009091499999999999, ...</td>\n    </tr>\n  </tbody>\n</table>\n</div>"
     },
     "execution_count": 113,
     "metadata": {},
     "output_type": "execute_result"
    }
   ],
   "source": [
    "# # 计算两个嵌入的平均嵌入\n",
    "# df['average_embedding'] = df.apply(average_vectors, axis=1)\n",
    "# df.head()"
   ],
   "metadata": {
    "collapsed": false,
    "ExecuteTime": {
     "end_time": "2024-05-29T08:23:54.957618400Z",
     "start_time": "2024-05-29T08:23:54.639674100Z"
    }
   },
   "id": "75d63aa73648fd50"
  },
  {
   "cell_type": "code",
   "execution_count": 114,
   "outputs": [
    {
     "name": "stdout",
     "output_type": "stream",
     "text": [
      "<class 'numpy.ndarray'>\n",
      "100\n",
      "[100   0]\n"
     ]
    }
   ],
   "source": [
    "# print(type(df['average_embedding'][0]))\n",
    "# print(len(df['average_embedding'][0]))\n",
    "# lengths = df['average_embedding'].apply(lambda x: len(x))\n",
    "# print(lengths.unique())  # 这应该只返回一个唯二值：100和0"
   ],
   "metadata": {
    "collapsed": false,
    "ExecuteTime": {
     "end_time": "2024-05-29T08:23:57.177283300Z",
     "start_time": "2024-05-29T08:23:57.158824600Z"
    }
   },
   "id": "c0e267f97599a0fc"
  },
  {
   "cell_type": "markdown",
   "source": [
    "保存csv文件"
   ],
   "metadata": {
    "collapsed": false
   },
   "id": "9361e0ccfcd2249b"
  },
  {
   "cell_type": "code",
   "execution_count": 115,
   "outputs": [],
   "source": [
    "# df.to_csv(\"news_embedding.csv\")"
   ],
   "metadata": {
    "collapsed": false,
    "ExecuteTime": {
     "end_time": "2024-05-29T08:24:39.984112Z",
     "start_time": "2024-05-29T08:24:06.741998500Z"
    }
   },
   "id": "39b8eb1f6ff92c98"
  },
  {
   "cell_type": "markdown",
   "source": [
    "读取csv文件"
   ],
   "metadata": {
    "collapsed": false
   },
   "id": "ecbb42dd6240ad54"
  },
  {
   "cell_type": "markdown",
   "source": [
    "表1： 新闻-嵌入表"
   ],
   "metadata": {
    "collapsed": false
   },
   "id": "2ecce194a15844b6"
  },
  {
   "cell_type": "code",
   "execution_count": 131,
   "outputs": [
    {
     "data": {
      "text/plain": "  news_id                                  average_embedding\n0  N55528  [ 0.00405733 -0.03991733 -0.008374    0.079142...\n1  N19639  [-0.013597 -0.009758  0.01712  -0.051993  0.03...\n2  N61837  [-6.53240e-02 -8.81630e-02 -1.52030e-02 -3.194...\n3  N53526  [ 0.003752 -0.061771 -0.037073  0.02677  -0.09...\n4  N38324  [ 0.00283167  0.0090915   0.01616333 -0.020686...",
      "text/html": "<div>\n<style scoped>\n    .dataframe tbody tr th:only-of-type {\n        vertical-align: middle;\n    }\n\n    .dataframe tbody tr th {\n        vertical-align: top;\n    }\n\n    .dataframe thead th {\n        text-align: right;\n    }\n</style>\n<table border=\"1\" class=\"dataframe\">\n  <thead>\n    <tr style=\"text-align: right;\">\n      <th></th>\n      <th>news_id</th>\n      <th>average_embedding</th>\n    </tr>\n  </thead>\n  <tbody>\n    <tr>\n      <th>0</th>\n      <td>N55528</td>\n      <td>[ 0.00405733 -0.03991733 -0.008374    0.079142...</td>\n    </tr>\n    <tr>\n      <th>1</th>\n      <td>N19639</td>\n      <td>[-0.013597 -0.009758  0.01712  -0.051993  0.03...</td>\n    </tr>\n    <tr>\n      <th>2</th>\n      <td>N61837</td>\n      <td>[-6.53240e-02 -8.81630e-02 -1.52030e-02 -3.194...</td>\n    </tr>\n    <tr>\n      <th>3</th>\n      <td>N53526</td>\n      <td>[ 0.003752 -0.061771 -0.037073  0.02677  -0.09...</td>\n    </tr>\n    <tr>\n      <th>4</th>\n      <td>N38324</td>\n      <td>[ 0.00283167  0.0090915   0.01616333 -0.020686...</td>\n    </tr>\n  </tbody>\n</table>\n</div>"
     },
     "execution_count": 131,
     "metadata": {},
     "output_type": "execute_result"
    }
   ],
   "source": [
    "# 读取CSV文件时应用转换函数\n",
    "df = pd.read_csv(\"news_embedding.csv\")\n",
    "feature_names = ['news_id', 'average_embedding']\n",
    "ne = df[feature_names].copy(deep=True)\n",
    "ne.head()"
   ],
   "metadata": {
    "collapsed": false,
    "ExecuteTime": {
     "end_time": "2024-05-29T09:07:51.091227900Z",
     "start_time": "2024-05-29T09:07:49.635542200Z"
    }
   },
   "id": "9c818b396dc417fd"
  },
  {
   "cell_type": "markdown",
   "source": [
    "~~处理异常，第101维是空值~~在前面处理完成"
   ],
   "metadata": {
    "collapsed": false
   },
   "id": "285bfbee269a623f"
  },
  {
   "cell_type": "code",
   "execution_count": 132,
   "outputs": [
    {
     "data": {
      "text/plain": "   Unnamed: 0 news_id      label        sub_label  \\\n0           0  N55528  lifestyle  lifestyleroyals   \n1           1  N19639     health       weightloss   \n2           2  N61837       news        newsworld   \n3           3  N53526     health           voices   \n4           4  N38324     health          medical   \n\n                                               title  \\\n0  The Brands Queen Elizabeth, Prince Charles, an...   \n1                      50 Worst Habits For Belly Fat   \n2  The Cost of Trump's Aid Freeze in the Trenches...   \n3  I Was An NBA Wife. Here's How It Affected My M...   \n4  How to Get Rid of Skin Tags, According to a De...   \n\n                                            abstract  \\\n0  Shop the notebooks, jackets, and more that the...   \n1  These seemingly harmless habits are holding yo...   \n2  Lt. Ivan Molchanets peeked over a parapet of s...   \n3  I felt like I was a fraud, and being an NBA wi...   \n4  They seem harmless, but there's a very good re...   \n\n                                             url  \\\n0  https://assets.msn.com/labs/mind/AAGH0ET.html   \n1  https://assets.msn.com/labs/mind/AAB19MK.html   \n2  https://assets.msn.com/labs/mind/AAJgNsz.html   \n3  https://assets.msn.com/labs/mind/AACk2N6.html   \n4  https://assets.msn.com/labs/mind/AAAKEkt.html   \n\n                                        title_entity  \\\n0  [{\"Label\": \"Prince Philip, Duke of Edinburgh\",...   \n1  [{\"Label\": \"Adipose tissue\", \"Type\": \"C\", \"Wik...   \n2                                                 []   \n3                                                 []   \n4  [{\"Label\": \"Skin tag\", \"Type\": \"C\", \"WikidataI...   \n\n                                     abstract_entity  \\\n0                                                 []   \n1  [{\"Label\": \"Adipose tissue\", \"Type\": \"C\", \"Wik...   \n2  [{\"Label\": \"Ukraine\", \"Type\": \"G\", \"WikidataId...   \n3  [{\"Label\": \"National Basketball Association\", ...   \n4  [{\"Label\": \"Skin tag\", \"Type\": \"C\", \"WikidataI...   \n\n                                wikidata_confidence1  \\\n0  [('Q80976', 1.0), ('Q43274', 1.0), ('Q9682', 0...   \n1                                 [('Q193583', 1.0)]   \n2                                                 []   \n3                                                 []   \n4                                [('Q3179593', 1.0)]   \n\n                                wikidata_confidence2  \\\n0                                                 []   \n1                                 [('Q193583', 1.0)]   \n2                                  [('Q212', 0.946)]   \n3                                 [('Q155223', 1.0)]   \n4  [('Q3179593', 1.0), ('Q171171', 1.0), ('Q37182...   \n\n                                  average_embedding1  \\\n0  [ 0.00405733 -0.03991733 -0.008374    0.079142...   \n1  [-0.013597 -0.009758  0.01712  -0.051993  0.03...   \n2                                                 []   \n3                                                 []   \n4  [ 0.014257  0.018351  0.005199  0.001773  0.03...   \n\n                                  average_embedding2  \\\n0                                                 []   \n1  [-0.013597 -0.009758  0.01712  -0.051993  0.03...   \n2  [-6.53240e-02 -8.81630e-02 -1.52030e-02 -3.194...   \n3  [ 0.003752 -0.061771 -0.037073  0.02677  -0.09...   \n4  [-0.00859367 -0.000168    0.02712767 -0.043145...   \n\n                                   average_embedding  \n0  [ 0.00405733 -0.03991733 -0.008374    0.079142...  \n1  [-0.013597 -0.009758  0.01712  -0.051993  0.03...  \n2  [-6.53240e-02 -8.81630e-02 -1.52030e-02 -3.194...  \n3  [ 0.003752 -0.061771 -0.037073  0.02677  -0.09...  \n4  [ 0.00283167  0.0090915   0.01616333 -0.020686...  ",
      "text/html": "<div>\n<style scoped>\n    .dataframe tbody tr th:only-of-type {\n        vertical-align: middle;\n    }\n\n    .dataframe tbody tr th {\n        vertical-align: top;\n    }\n\n    .dataframe thead th {\n        text-align: right;\n    }\n</style>\n<table border=\"1\" class=\"dataframe\">\n  <thead>\n    <tr style=\"text-align: right;\">\n      <th></th>\n      <th>Unnamed: 0</th>\n      <th>news_id</th>\n      <th>label</th>\n      <th>sub_label</th>\n      <th>title</th>\n      <th>abstract</th>\n      <th>url</th>\n      <th>title_entity</th>\n      <th>abstract_entity</th>\n      <th>wikidata_confidence1</th>\n      <th>wikidata_confidence2</th>\n      <th>average_embedding1</th>\n      <th>average_embedding2</th>\n      <th>average_embedding</th>\n    </tr>\n  </thead>\n  <tbody>\n    <tr>\n      <th>0</th>\n      <td>0</td>\n      <td>N55528</td>\n      <td>lifestyle</td>\n      <td>lifestyleroyals</td>\n      <td>The Brands Queen Elizabeth, Prince Charles, an...</td>\n      <td>Shop the notebooks, jackets, and more that the...</td>\n      <td>https://assets.msn.com/labs/mind/AAGH0ET.html</td>\n      <td>[{\"Label\": \"Prince Philip, Duke of Edinburgh\",...</td>\n      <td>[]</td>\n      <td>[('Q80976', 1.0), ('Q43274', 1.0), ('Q9682', 0...</td>\n      <td>[]</td>\n      <td>[ 0.00405733 -0.03991733 -0.008374    0.079142...</td>\n      <td>[]</td>\n      <td>[ 0.00405733 -0.03991733 -0.008374    0.079142...</td>\n    </tr>\n    <tr>\n      <th>1</th>\n      <td>1</td>\n      <td>N19639</td>\n      <td>health</td>\n      <td>weightloss</td>\n      <td>50 Worst Habits For Belly Fat</td>\n      <td>These seemingly harmless habits are holding yo...</td>\n      <td>https://assets.msn.com/labs/mind/AAB19MK.html</td>\n      <td>[{\"Label\": \"Adipose tissue\", \"Type\": \"C\", \"Wik...</td>\n      <td>[{\"Label\": \"Adipose tissue\", \"Type\": \"C\", \"Wik...</td>\n      <td>[('Q193583', 1.0)]</td>\n      <td>[('Q193583', 1.0)]</td>\n      <td>[-0.013597 -0.009758  0.01712  -0.051993  0.03...</td>\n      <td>[-0.013597 -0.009758  0.01712  -0.051993  0.03...</td>\n      <td>[-0.013597 -0.009758  0.01712  -0.051993  0.03...</td>\n    </tr>\n    <tr>\n      <th>2</th>\n      <td>2</td>\n      <td>N61837</td>\n      <td>news</td>\n      <td>newsworld</td>\n      <td>The Cost of Trump's Aid Freeze in the Trenches...</td>\n      <td>Lt. Ivan Molchanets peeked over a parapet of s...</td>\n      <td>https://assets.msn.com/labs/mind/AAJgNsz.html</td>\n      <td>[]</td>\n      <td>[{\"Label\": \"Ukraine\", \"Type\": \"G\", \"WikidataId...</td>\n      <td>[]</td>\n      <td>[('Q212', 0.946)]</td>\n      <td>[]</td>\n      <td>[-6.53240e-02 -8.81630e-02 -1.52030e-02 -3.194...</td>\n      <td>[-6.53240e-02 -8.81630e-02 -1.52030e-02 -3.194...</td>\n    </tr>\n    <tr>\n      <th>3</th>\n      <td>3</td>\n      <td>N53526</td>\n      <td>health</td>\n      <td>voices</td>\n      <td>I Was An NBA Wife. Here's How It Affected My M...</td>\n      <td>I felt like I was a fraud, and being an NBA wi...</td>\n      <td>https://assets.msn.com/labs/mind/AACk2N6.html</td>\n      <td>[]</td>\n      <td>[{\"Label\": \"National Basketball Association\", ...</td>\n      <td>[]</td>\n      <td>[('Q155223', 1.0)]</td>\n      <td>[]</td>\n      <td>[ 0.003752 -0.061771 -0.037073  0.02677  -0.09...</td>\n      <td>[ 0.003752 -0.061771 -0.037073  0.02677  -0.09...</td>\n    </tr>\n    <tr>\n      <th>4</th>\n      <td>4</td>\n      <td>N38324</td>\n      <td>health</td>\n      <td>medical</td>\n      <td>How to Get Rid of Skin Tags, According to a De...</td>\n      <td>They seem harmless, but there's a very good re...</td>\n      <td>https://assets.msn.com/labs/mind/AAAKEkt.html</td>\n      <td>[{\"Label\": \"Skin tag\", \"Type\": \"C\", \"WikidataI...</td>\n      <td>[{\"Label\": \"Skin tag\", \"Type\": \"C\", \"WikidataI...</td>\n      <td>[('Q3179593', 1.0)]</td>\n      <td>[('Q3179593', 1.0), ('Q171171', 1.0), ('Q37182...</td>\n      <td>[ 0.014257  0.018351  0.005199  0.001773  0.03...</td>\n      <td>[-0.00859367 -0.000168    0.02712767 -0.043145...</td>\n      <td>[ 0.00283167  0.0090915   0.01616333 -0.020686...</td>\n    </tr>\n  </tbody>\n</table>\n</div>"
     },
     "execution_count": 132,
     "metadata": {},
     "output_type": "execute_result"
    }
   ],
   "source": [
    "df.head()"
   ],
   "metadata": {
    "collapsed": false,
    "ExecuteTime": {
     "end_time": "2024-05-29T09:07:51.267397100Z",
     "start_time": "2024-05-29T09:07:51.263124Z"
    }
   },
   "id": "558dbe8d76f90afd"
  },
  {
   "cell_type": "code",
   "execution_count": 133,
   "outputs": [
    {
     "data": {
      "text/plain": "str"
     },
     "execution_count": 133,
     "metadata": {},
     "output_type": "execute_result"
    }
   ],
   "source": [
    "type(ne['average_embedding'][0])"
   ],
   "metadata": {
    "collapsed": false,
    "ExecuteTime": {
     "end_time": "2024-05-29T09:07:53.136350800Z",
     "start_time": "2024-05-29T09:07:53.129402300Z"
    }
   },
   "id": "9368d8a53602cf4b"
  },
  {
   "cell_type": "code",
   "execution_count": 134,
   "outputs": [
    {
     "name": "stdout",
     "output_type": "stream",
     "text": [
      "<class 'numpy.ndarray'>\n"
     ]
    }
   ],
   "source": [
    "# 定义一个转换函数，它将字符串表示的数组转换为numpy数组\n",
    "def string_to_ndarray(string):\n",
    "    try:\n",
    "        # 移除字符串两端的方括号，然后以空格分割\n",
    "        string = string.strip('[]')\n",
    "        # 如果存在，则移除内部的换行符，并将连续空白替换为单个空格\n",
    "        string = ' '.join(string.split())\n",
    "        # 将字符串分割为一个数字字符串列表，然后转换为浮点数列表\n",
    "        float_list = np.fromstring(string, sep=' ')\n",
    "        return float_list\n",
    "    except ValueError:\n",
    "        # 如果字符串格式不正确，返回一个空的numpy数组\n",
    "        return np.array([])\n",
    "\n",
    "# 假设ne是已经读取的DataFrame，现在转换'average_embedding'列\n",
    "ne['average_embedding'] = ne['average_embedding'].apply(string_to_ndarray)\n",
    "# print(ne['average_embedding'][0])\n",
    "# 现在'average_embedding'列中的每个项应该是一个numpy.ndarray了\n",
    "# 打印出第一个元素的类型来验证\n",
    "print(type(ne['average_embedding'].iloc[0]))"
   ],
   "metadata": {
    "collapsed": false,
    "ExecuteTime": {
     "end_time": "2024-05-29T09:07:55.607248400Z",
     "start_time": "2024-05-29T09:07:54.327758500Z"
    }
   },
   "id": "2259fc8e948561a8"
  },
  {
   "cell_type": "code",
   "execution_count": 138,
   "outputs": [
    {
     "name": "stdout",
     "output_type": "stream",
     "text": [
      "100\n",
      "<class 'numpy.ndarray'>\n"
     ]
    }
   ],
   "source": [
    "print(len(ne['average_embedding'][0]))\n",
    "print(type(ne['average_embedding'][0]))"
   ],
   "metadata": {
    "collapsed": false,
    "ExecuteTime": {
     "end_time": "2024-05-29T09:09:14.822551800Z",
     "start_time": "2024-05-29T09:09:14.817530300Z"
    }
   },
   "id": "f10dcfd47481fa92"
  },
  {
   "cell_type": "markdown",
   "source": [
    "在这之后，ne都是可直接使用的str-ndarray数据。"
   ],
   "metadata": {
    "collapsed": false
   },
   "id": "f1495c4517997595"
  },
  {
   "cell_type": "code",
   "execution_count": 15,
   "outputs": [
    {
     "data": {
      "text/plain": "  user_id                   time  \\\n0  U13740  11/11/2019 9:05:58 AM   \n1  U91836  11/12/2019 6:11:30 PM   \n2  U73700  11/14/2019 7:01:48 AM   \n3  U34670  11/11/2019 5:28:05 AM   \n4   U8125  11/12/2019 4:11:21 PM   \n\n                                             history  \\\n0  N55189 N42782 N34694 N45794 N18445 N63302 N104...   \n1  N31739 N6072 N63045 N23979 N35656 N43353 N8129...   \n2  N10732 N25792 N7563 N21087 N41087 N5445 N60384...   \n3  N45729 N2203 N871 N53880 N41375 N43142 N33013 ...   \n4                        N10078 N56514 N14904 N33740   \n\n                                         impressions  \n0                                  N55689-1 N35729-0  \n1  N20678-0 N39317-0 N58114-0 N20495-0 N42977-0 N...  \n2  N50014-0 N23877-0 N35389-0 N49712-0 N16844-0 N...  \n3                N35729-0 N33632-0 N49685-1 N27581-0  \n4  N39985-0 N36050-0 N16096-0 N8400-1 N22407-0 N6...  ",
      "text/html": "<div>\n<style scoped>\n    .dataframe tbody tr th:only-of-type {\n        vertical-align: middle;\n    }\n\n    .dataframe tbody tr th {\n        vertical-align: top;\n    }\n\n    .dataframe thead th {\n        text-align: right;\n    }\n</style>\n<table border=\"1\" class=\"dataframe\">\n  <thead>\n    <tr style=\"text-align: right;\">\n      <th></th>\n      <th>user_id</th>\n      <th>time</th>\n      <th>history</th>\n      <th>impressions</th>\n    </tr>\n  </thead>\n  <tbody>\n    <tr>\n      <th>0</th>\n      <td>U13740</td>\n      <td>11/11/2019 9:05:58 AM</td>\n      <td>N55189 N42782 N34694 N45794 N18445 N63302 N104...</td>\n      <td>N55689-1 N35729-0</td>\n    </tr>\n    <tr>\n      <th>1</th>\n      <td>U91836</td>\n      <td>11/12/2019 6:11:30 PM</td>\n      <td>N31739 N6072 N63045 N23979 N35656 N43353 N8129...</td>\n      <td>N20678-0 N39317-0 N58114-0 N20495-0 N42977-0 N...</td>\n    </tr>\n    <tr>\n      <th>2</th>\n      <td>U73700</td>\n      <td>11/14/2019 7:01:48 AM</td>\n      <td>N10732 N25792 N7563 N21087 N41087 N5445 N60384...</td>\n      <td>N50014-0 N23877-0 N35389-0 N49712-0 N16844-0 N...</td>\n    </tr>\n    <tr>\n      <th>3</th>\n      <td>U34670</td>\n      <td>11/11/2019 5:28:05 AM</td>\n      <td>N45729 N2203 N871 N53880 N41375 N43142 N33013 ...</td>\n      <td>N35729-0 N33632-0 N49685-1 N27581-0</td>\n    </tr>\n    <tr>\n      <th>4</th>\n      <td>U8125</td>\n      <td>11/12/2019 4:11:21 PM</td>\n      <td>N10078 N56514 N14904 N33740</td>\n      <td>N39985-0 N36050-0 N16096-0 N8400-1 N22407-0 N6...</td>\n    </tr>\n  </tbody>\n</table>\n</div>"
     },
     "execution_count": 15,
     "metadata": {},
     "output_type": "execute_result"
    }
   ],
   "source": [
    "behaviors_file.head()\n",
    "feature_names = ['user_id', 'time', 'history', 'impressions']\n",
    "bf = behaviors_file[feature_names].copy()\n",
    "bf.head()"
   ],
   "metadata": {
    "collapsed": false,
    "ExecuteTime": {
     "end_time": "2024-05-29T01:52:23.491879700Z",
     "start_time": "2024-05-29T01:52:23.458831200Z"
    }
   },
   "id": "469de0653a13e50"
  },
  {
   "cell_type": "code",
   "execution_count": 16,
   "outputs": [
    {
     "name": "stdout",
     "output_type": "stream",
     "text": [
      "N55689-1 N35729-0\n",
      "<class 'str'>\n"
     ]
    }
   ],
   "source": [
    "print(bf['impressions'][0])\n",
    "print(type(bf['impressions'][0]))"
   ],
   "metadata": {
    "collapsed": false,
    "ExecuteTime": {
     "end_time": "2024-05-29T01:52:23.512785500Z",
     "start_time": "2024-05-29T01:52:23.482587400Z"
    }
   },
   "id": "f143e5e3a3f130b1"
  },
  {
   "cell_type": "code",
   "execution_count": 17,
   "outputs": [],
   "source": [
    "# 定义一个函数，用于从impression中提取被选取的物品ID\n",
    "def extract_chosen_items(impression):\n",
    "    # 将impression拆分为物品ID列表\n",
    "    items = impression.split()\n",
    "    # 过滤出被选取的物品ID\n",
    "    chosen_items = [item.split('-')[0] for item in items if item.endswith('-1')]\n",
    "    # 返回被选取的物品ID列表\n",
    "    return ', '.join(chosen_items)"
   ],
   "metadata": {
    "collapsed": false,
    "ExecuteTime": {
     "end_time": "2024-05-29T01:52:23.513787800Z",
     "start_time": "2024-05-29T01:52:23.486855500Z"
    }
   },
   "id": "d23c9b18389d8d9"
  },
  {
   "cell_type": "code",
   "execution_count": 18,
   "outputs": [],
   "source": [
    "# 使用apply方法应用上述函数到'impression'列，并创建新的choose列\n",
    "bf.loc[:, 'choose'] = bf['impressions'].apply(extract_chosen_items)\n",
    "# bf.drop('impressions', axis=1, inplace=True)"
   ],
   "metadata": {
    "collapsed": false,
    "ExecuteTime": {
     "end_time": "2024-05-29T01:52:24.147994Z",
     "start_time": "2024-05-29T01:52:23.489370800Z"
    }
   },
   "id": "ef82cf3ffa1cd6b8"
  },
  {
   "cell_type": "markdown",
   "source": [
    "为什么会有多个choose？"
   ],
   "metadata": {
    "collapsed": false
   },
   "id": "1c02995259cd00b9"
  },
  {
   "cell_type": "code",
   "execution_count": 19,
   "outputs": [
    {
     "data": {
      "text/plain": "  user_id                   time  \\\n0  U13740  11/11/2019 9:05:58 AM   \n1  U91836  11/12/2019 6:11:30 PM   \n2  U73700  11/14/2019 7:01:48 AM   \n3  U34670  11/11/2019 5:28:05 AM   \n4   U8125  11/12/2019 4:11:21 PM   \n5  U19739  11/11/2019 6:52:13 PM   \n\n                                             history  \\\n0  N55189 N42782 N34694 N45794 N18445 N63302 N104...   \n1  N31739 N6072 N63045 N23979 N35656 N43353 N8129...   \n2  N10732 N25792 N7563 N21087 N41087 N5445 N60384...   \n3  N45729 N2203 N871 N53880 N41375 N43142 N33013 ...   \n4                        N10078 N56514 N14904 N33740   \n5  N39074 N14343 N32607 N32320 N22007 N442 N19001...   \n\n                                         impressions          choose  \n0                                  N55689-1 N35729-0          N55689  \n1  N20678-0 N39317-0 N58114-0 N20495-0 N42977-0 N...          N17059  \n2  N50014-0 N23877-0 N35389-0 N49712-0 N16844-0 N...          N23814  \n3                N35729-0 N33632-0 N49685-1 N27581-0          N49685  \n4  N39985-0 N36050-0 N16096-0 N8400-1 N22407-0 N6...           N8400  \n5        N21119-1 N53696-0 N33619-1 N25722-0 N2869-0  N21119, N33619  ",
      "text/html": "<div>\n<style scoped>\n    .dataframe tbody tr th:only-of-type {\n        vertical-align: middle;\n    }\n\n    .dataframe tbody tr th {\n        vertical-align: top;\n    }\n\n    .dataframe thead th {\n        text-align: right;\n    }\n</style>\n<table border=\"1\" class=\"dataframe\">\n  <thead>\n    <tr style=\"text-align: right;\">\n      <th></th>\n      <th>user_id</th>\n      <th>time</th>\n      <th>history</th>\n      <th>impressions</th>\n      <th>choose</th>\n    </tr>\n  </thead>\n  <tbody>\n    <tr>\n      <th>0</th>\n      <td>U13740</td>\n      <td>11/11/2019 9:05:58 AM</td>\n      <td>N55189 N42782 N34694 N45794 N18445 N63302 N104...</td>\n      <td>N55689-1 N35729-0</td>\n      <td>N55689</td>\n    </tr>\n    <tr>\n      <th>1</th>\n      <td>U91836</td>\n      <td>11/12/2019 6:11:30 PM</td>\n      <td>N31739 N6072 N63045 N23979 N35656 N43353 N8129...</td>\n      <td>N20678-0 N39317-0 N58114-0 N20495-0 N42977-0 N...</td>\n      <td>N17059</td>\n    </tr>\n    <tr>\n      <th>2</th>\n      <td>U73700</td>\n      <td>11/14/2019 7:01:48 AM</td>\n      <td>N10732 N25792 N7563 N21087 N41087 N5445 N60384...</td>\n      <td>N50014-0 N23877-0 N35389-0 N49712-0 N16844-0 N...</td>\n      <td>N23814</td>\n    </tr>\n    <tr>\n      <th>3</th>\n      <td>U34670</td>\n      <td>11/11/2019 5:28:05 AM</td>\n      <td>N45729 N2203 N871 N53880 N41375 N43142 N33013 ...</td>\n      <td>N35729-0 N33632-0 N49685-1 N27581-0</td>\n      <td>N49685</td>\n    </tr>\n    <tr>\n      <th>4</th>\n      <td>U8125</td>\n      <td>11/12/2019 4:11:21 PM</td>\n      <td>N10078 N56514 N14904 N33740</td>\n      <td>N39985-0 N36050-0 N16096-0 N8400-1 N22407-0 N6...</td>\n      <td>N8400</td>\n    </tr>\n    <tr>\n      <th>5</th>\n      <td>U19739</td>\n      <td>11/11/2019 6:52:13 PM</td>\n      <td>N39074 N14343 N32607 N32320 N22007 N442 N19001...</td>\n      <td>N21119-1 N53696-0 N33619-1 N25722-0 N2869-0</td>\n      <td>N21119, N33619</td>\n    </tr>\n  </tbody>\n</table>\n</div>"
     },
     "execution_count": 19,
     "metadata": {},
     "output_type": "execute_result"
    }
   ],
   "source": [
    "bf.head(6)"
   ],
   "metadata": {
    "collapsed": false,
    "ExecuteTime": {
     "end_time": "2024-05-29T01:52:24.156433500Z",
     "start_time": "2024-05-29T01:52:24.148994300Z"
    }
   },
   "id": "df084e416fb7f5de"
  },
  {
   "cell_type": "code",
   "execution_count": 20,
   "outputs": [
    {
     "data": {
      "text/plain": "                          time  \\\nuser_id                          \n2        11/13/2019 5:06:59 AM   \n2        11/12/2019 4:50:07 AM   \n2        11/12/2019 4:31:13 AM   \n6        11/12/2019 1:27:46 PM   \n6        11/10/2019 2:07:23 PM   \n\n                                                   history  \\\nuser_id                                                      \n2        N58584 N12900 N6233 N51706 N18777 N593 N16793 ...   \n2        N58584 N12900 N6233 N51706 N18777 N593 N16793 ...   \n2        N58584 N12900 N6233 N51706 N18777 N593 N16793 ...   \n6        N56586 N3046 N4209 N22293 N40545 N44495 N38659...   \n6        N56586 N3046 N4209 N22293 N40545 N44495 N38659...   \n\n                                               impressions  \\\nuser_id                                                      \n2        N45266-0 N20076-0 N22230-0 N62128-0 N13579-0 N...   \n2        N20527-0 N20041-0 N14184-0 N28847-0 N25722-0 N...   \n2                                        N20079-1 N33619-0   \n6        N23593-0 N51285-0 N45422-0 N33212-0 N64851-0 N...   \n6        N350-0 N15855-0 N23784-0 N7128-0 N28413-0 N288...   \n\n                                 choose  \nuser_id                                  \n2                                N28213  \n2                        N31978, N57809  \n2                                N20079  \n6                         N62360, N3123  \n6        N33981, N44324, N22061, N58183  ",
      "text/html": "<div>\n<style scoped>\n    .dataframe tbody tr th:only-of-type {\n        vertical-align: middle;\n    }\n\n    .dataframe tbody tr th {\n        vertical-align: top;\n    }\n\n    .dataframe thead th {\n        text-align: right;\n    }\n</style>\n<table border=\"1\" class=\"dataframe\">\n  <thead>\n    <tr style=\"text-align: right;\">\n      <th></th>\n      <th>time</th>\n      <th>history</th>\n      <th>impressions</th>\n      <th>choose</th>\n    </tr>\n    <tr>\n      <th>user_id</th>\n      <th></th>\n      <th></th>\n      <th></th>\n      <th></th>\n    </tr>\n  </thead>\n  <tbody>\n    <tr>\n      <th>2</th>\n      <td>11/13/2019 5:06:59 AM</td>\n      <td>N58584 N12900 N6233 N51706 N18777 N593 N16793 ...</td>\n      <td>N45266-0 N20076-0 N22230-0 N62128-0 N13579-0 N...</td>\n      <td>N28213</td>\n    </tr>\n    <tr>\n      <th>2</th>\n      <td>11/12/2019 4:50:07 AM</td>\n      <td>N58584 N12900 N6233 N51706 N18777 N593 N16793 ...</td>\n      <td>N20527-0 N20041-0 N14184-0 N28847-0 N25722-0 N...</td>\n      <td>N31978, N57809</td>\n    </tr>\n    <tr>\n      <th>2</th>\n      <td>11/12/2019 4:31:13 AM</td>\n      <td>N58584 N12900 N6233 N51706 N18777 N593 N16793 ...</td>\n      <td>N20079-1 N33619-0</td>\n      <td>N20079</td>\n    </tr>\n    <tr>\n      <th>6</th>\n      <td>11/12/2019 1:27:46 PM</td>\n      <td>N56586 N3046 N4209 N22293 N40545 N44495 N38659...</td>\n      <td>N23593-0 N51285-0 N45422-0 N33212-0 N64851-0 N...</td>\n      <td>N62360, N3123</td>\n    </tr>\n    <tr>\n      <th>6</th>\n      <td>11/10/2019 2:07:23 PM</td>\n      <td>N56586 N3046 N4209 N22293 N40545 N44495 N38659...</td>\n      <td>N350-0 N15855-0 N23784-0 N7128-0 N28413-0 N288...</td>\n      <td>N33981, N44324, N22061, N58183</td>\n    </tr>\n  </tbody>\n</table>\n</div>"
     },
     "execution_count": 20,
     "metadata": {},
     "output_type": "execute_result"
    }
   ],
   "source": [
    "# 修改user_id列，去掉前缀\"U\"并保留数字\n",
    "bf['user_id'] = bf['user_id'].str.replace('U', '').astype(int)\n",
    "# 按照修改后的user_id列进行排序\n",
    "bf = bf.sort_values(by='user_id')\n",
    "bf.set_index('user_id', inplace=True)\n",
    "bf.head()"
   ],
   "metadata": {
    "collapsed": false,
    "ExecuteTime": {
     "end_time": "2024-05-29T01:52:24.263293500Z",
     "start_time": "2024-05-29T01:52:24.185996300Z"
    }
   },
   "id": "7ba5e4c9f312d34f"
  },
  {
   "cell_type": "markdown",
   "source": [
    "统计日期区间,一共就6天，最多比较短期兴趣和中期兴趣"
   ],
   "metadata": {
    "collapsed": false
   },
   "id": "5e53598a7d45c1ea"
  },
  {
   "cell_type": "code",
   "execution_count": 21,
   "outputs": [],
   "source": [
    "# 将 'time' 列转换为 datetime 类型\n",
    "bf['time'] = pd.to_datetime(bf['time'])\n",
    "\n",
    "# 找到最大和最小日期\n",
    "min_date = bf['time'].min()\n",
    "max_date = bf['time'].max()"
   ],
   "metadata": {
    "collapsed": false,
    "ExecuteTime": {
     "end_time": "2024-05-29T01:52:24.588120Z",
     "start_time": "2024-05-29T01:52:24.219220Z"
    }
   },
   "id": "d49a2b7dcf93cd84"
  },
  {
   "cell_type": "code",
   "execution_count": 22,
   "outputs": [
    {
     "name": "stdout",
     "output_type": "stream",
     "text": [
      "最小日期: 2019-11-09 00:00:19\n",
      "最大日期: 2019-11-14 23:59:13\n"
     ]
    }
   ],
   "source": [
    "print(f\"最小日期: {min_date}\")\n",
    "print(f\"最大日期: {max_date}\")"
   ],
   "metadata": {
    "collapsed": false,
    "ExecuteTime": {
     "end_time": "2024-05-29T01:52:24.596162600Z",
     "start_time": "2024-05-29T01:52:24.590124200Z"
    }
   },
   "id": "ca2238d5e6af3051"
  },
  {
   "cell_type": "code",
   "execution_count": 23,
   "outputs": [
    {
     "data": {
      "text/plain": "                       time  \\\nuser_id                       \n2       2019-11-13 05:06:59   \n2       2019-11-12 04:50:07   \n2       2019-11-12 04:31:13   \n6       2019-11-12 13:27:46   \n6       2019-11-10 14:07:23   \n\n                                                   history  \\\nuser_id                                                      \n2        N58584 N12900 N6233 N51706 N18777 N593 N16793 ...   \n2        N58584 N12900 N6233 N51706 N18777 N593 N16793 ...   \n2        N58584 N12900 N6233 N51706 N18777 N593 N16793 ...   \n6        N56586 N3046 N4209 N22293 N40545 N44495 N38659...   \n6        N56586 N3046 N4209 N22293 N40545 N44495 N38659...   \n\n                                               impressions  \\\nuser_id                                                      \n2        N45266-0 N20076-0 N22230-0 N62128-0 N13579-0 N...   \n2        N20527-0 N20041-0 N14184-0 N28847-0 N25722-0 N...   \n2                                        N20079-1 N33619-0   \n6        N23593-0 N51285-0 N45422-0 N33212-0 N64851-0 N...   \n6        N350-0 N15855-0 N23784-0 N7128-0 N28413-0 N288...   \n\n                                 choose  \nuser_id                                  \n2                                N28213  \n2                        N31978, N57809  \n2                                N20079  \n6                         N62360, N3123  \n6        N33981, N44324, N22061, N58183  ",
      "text/html": "<div>\n<style scoped>\n    .dataframe tbody tr th:only-of-type {\n        vertical-align: middle;\n    }\n\n    .dataframe tbody tr th {\n        vertical-align: top;\n    }\n\n    .dataframe thead th {\n        text-align: right;\n    }\n</style>\n<table border=\"1\" class=\"dataframe\">\n  <thead>\n    <tr style=\"text-align: right;\">\n      <th></th>\n      <th>time</th>\n      <th>history</th>\n      <th>impressions</th>\n      <th>choose</th>\n    </tr>\n    <tr>\n      <th>user_id</th>\n      <th></th>\n      <th></th>\n      <th></th>\n      <th></th>\n    </tr>\n  </thead>\n  <tbody>\n    <tr>\n      <th>2</th>\n      <td>2019-11-13 05:06:59</td>\n      <td>N58584 N12900 N6233 N51706 N18777 N593 N16793 ...</td>\n      <td>N45266-0 N20076-0 N22230-0 N62128-0 N13579-0 N...</td>\n      <td>N28213</td>\n    </tr>\n    <tr>\n      <th>2</th>\n      <td>2019-11-12 04:50:07</td>\n      <td>N58584 N12900 N6233 N51706 N18777 N593 N16793 ...</td>\n      <td>N20527-0 N20041-0 N14184-0 N28847-0 N25722-0 N...</td>\n      <td>N31978, N57809</td>\n    </tr>\n    <tr>\n      <th>2</th>\n      <td>2019-11-12 04:31:13</td>\n      <td>N58584 N12900 N6233 N51706 N18777 N593 N16793 ...</td>\n      <td>N20079-1 N33619-0</td>\n      <td>N20079</td>\n    </tr>\n    <tr>\n      <th>6</th>\n      <td>2019-11-12 13:27:46</td>\n      <td>N56586 N3046 N4209 N22293 N40545 N44495 N38659...</td>\n      <td>N23593-0 N51285-0 N45422-0 N33212-0 N64851-0 N...</td>\n      <td>N62360, N3123</td>\n    </tr>\n    <tr>\n      <th>6</th>\n      <td>2019-11-10 14:07:23</td>\n      <td>N56586 N3046 N4209 N22293 N40545 N44495 N38659...</td>\n      <td>N350-0 N15855-0 N23784-0 N7128-0 N28413-0 N288...</td>\n      <td>N33981, N44324, N22061, N58183</td>\n    </tr>\n  </tbody>\n</table>\n</div>"
     },
     "execution_count": 23,
     "metadata": {},
     "output_type": "execute_result"
    }
   ],
   "source": [
    "bf.head()"
   ],
   "metadata": {
    "collapsed": false,
    "ExecuteTime": {
     "end_time": "2024-05-29T01:52:24.605742Z",
     "start_time": "2024-05-29T01:52:24.595163500Z"
    }
   },
   "id": "dfd07c540e5d6acc"
  },
  {
   "cell_type": "markdown",
   "source": [
    "单个用户的交互太少了，没有办法划分出长期，中期，短期兴趣\n",
    "一共有5W个用户"
   ],
   "metadata": {
    "collapsed": false
   },
   "id": "b1655dc5bbaec403"
  },
  {
   "cell_type": "code",
   "execution_count": 24,
   "outputs": [],
   "source": [
    "# 统计每个user_id有多少行\n",
    "user_id_counts = bf.groupby('user_id').size()"
   ],
   "metadata": {
    "collapsed": false,
    "ExecuteTime": {
     "end_time": "2024-05-29T01:52:24.613030200Z",
     "start_time": "2024-05-29T01:52:24.601842400Z"
    }
   },
   "id": "24ae8bde3d71255c"
  },
  {
   "cell_type": "code",
   "execution_count": 25,
   "outputs": [
    {
     "data": {
      "text/plain": "   user_id  count\n0        2      3\n1        6     13\n2        7      3\n3        8      2\n4        9      1",
      "text/html": "<div>\n<style scoped>\n    .dataframe tbody tr th:only-of-type {\n        vertical-align: middle;\n    }\n\n    .dataframe tbody tr th {\n        vertical-align: top;\n    }\n\n    .dataframe thead th {\n        text-align: right;\n    }\n</style>\n<table border=\"1\" class=\"dataframe\">\n  <thead>\n    <tr style=\"text-align: right;\">\n      <th></th>\n      <th>user_id</th>\n      <th>count</th>\n    </tr>\n  </thead>\n  <tbody>\n    <tr>\n      <th>0</th>\n      <td>2</td>\n      <td>3</td>\n    </tr>\n    <tr>\n      <th>1</th>\n      <td>6</td>\n      <td>13</td>\n    </tr>\n    <tr>\n      <th>2</th>\n      <td>7</td>\n      <td>3</td>\n    </tr>\n    <tr>\n      <th>3</th>\n      <td>8</td>\n      <td>2</td>\n    </tr>\n    <tr>\n      <th>4</th>\n      <td>9</td>\n      <td>1</td>\n    </tr>\n  </tbody>\n</table>\n</div>"
     },
     "execution_count": 25,
     "metadata": {},
     "output_type": "execute_result"
    }
   ],
   "source": [
    "uc = user_id_counts.reset_index()\n",
    "uc.columns = ['user_id', 'count']\n",
    "uc.head()"
   ],
   "metadata": {
    "collapsed": false,
    "ExecuteTime": {
     "end_time": "2024-05-29T01:52:24.650291Z",
     "start_time": "2024-05-29T01:52:24.610499900Z"
    }
   },
   "id": "c70d77fac712d594"
  },
  {
   "cell_type": "markdown",
   "source": [
    "平均每个用户只有3.14个交互\n",
    "最小1最大62中位数2"
   ],
   "metadata": {
    "collapsed": false
   },
   "id": "e971b0c7774abf3a"
  },
  {
   "cell_type": "code",
   "execution_count": 26,
   "outputs": [
    {
     "data": {
      "text/plain": "            user_id         count\ncount  50000.000000  50000.000000\nmean   47060.916280      3.139300\nstd    27176.022621      3.001026\nmin        2.000000      1.000000\n25%    23460.500000      1.000000\n50%    47203.500000      2.000000\n75%    70706.000000      4.000000\nmax    94056.000000     62.000000",
      "text/html": "<div>\n<style scoped>\n    .dataframe tbody tr th:only-of-type {\n        vertical-align: middle;\n    }\n\n    .dataframe tbody tr th {\n        vertical-align: top;\n    }\n\n    .dataframe thead th {\n        text-align: right;\n    }\n</style>\n<table border=\"1\" class=\"dataframe\">\n  <thead>\n    <tr style=\"text-align: right;\">\n      <th></th>\n      <th>user_id</th>\n      <th>count</th>\n    </tr>\n  </thead>\n  <tbody>\n    <tr>\n      <th>count</th>\n      <td>50000.000000</td>\n      <td>50000.000000</td>\n    </tr>\n    <tr>\n      <th>mean</th>\n      <td>47060.916280</td>\n      <td>3.139300</td>\n    </tr>\n    <tr>\n      <th>std</th>\n      <td>27176.022621</td>\n      <td>3.001026</td>\n    </tr>\n    <tr>\n      <th>min</th>\n      <td>2.000000</td>\n      <td>1.000000</td>\n    </tr>\n    <tr>\n      <th>25%</th>\n      <td>23460.500000</td>\n      <td>1.000000</td>\n    </tr>\n    <tr>\n      <th>50%</th>\n      <td>47203.500000</td>\n      <td>2.000000</td>\n    </tr>\n    <tr>\n      <th>75%</th>\n      <td>70706.000000</td>\n      <td>4.000000</td>\n    </tr>\n    <tr>\n      <th>max</th>\n      <td>94056.000000</td>\n      <td>62.000000</td>\n    </tr>\n  </tbody>\n</table>\n</div>"
     },
     "execution_count": 26,
     "metadata": {},
     "output_type": "execute_result"
    }
   ],
   "source": [
    "uc.describe()"
   ],
   "metadata": {
    "collapsed": false,
    "ExecuteTime": {
     "end_time": "2024-05-29T01:52:24.653810500Z",
     "start_time": "2024-05-29T01:52:24.619073800Z"
    }
   },
   "id": "1bcfa011895ac8ac"
  },
  {
   "cell_type": "code",
   "execution_count": 27,
   "outputs": [],
   "source": [
    "# 使用cut函数将count1的值分到不同的区间\n",
    "bins = np.arange(1, 80, 10)  # 创建区间边界，从1开始，到80结束，步长为10\n",
    "labels = [f'{bins[i]}-{bins[i+1]-1}' for i in range(len(bins)-1)]  # 创建区间标签\n",
    "\n",
    "uc['count_range'] = pd.cut(uc['count'], bins=bins, labels=labels, include_lowest=True)\n",
    "\n",
    "# 统计每个区间的user_id数量\n",
    "count_range_counts = uc['count_range'].value_counts()"
   ],
   "metadata": {
    "collapsed": false,
    "ExecuteTime": {
     "end_time": "2024-05-29T01:52:24.654808800Z",
     "start_time": "2024-05-29T01:52:24.629353300Z"
    }
   },
   "id": "32f993ff97fac2b4"
  },
  {
   "cell_type": "markdown",
   "source": [
    "用户交互数（活跃度）分布图"
   ],
   "metadata": {
    "collapsed": false
   },
   "id": "c3a2efefd0253dc5"
  },
  {
   "cell_type": "code",
   "execution_count": 28,
   "outputs": [
    {
     "data": {
      "text/plain": "count_range\n1-10     48817\n11-20     1065\n21-30       94\n31-40       22\n41-50        1\n61-70        1\n51-60        0\nName: count, dtype: int64"
     },
     "execution_count": 28,
     "metadata": {},
     "output_type": "execute_result"
    }
   ],
   "source": [
    "count_range_counts"
   ],
   "metadata": {
    "collapsed": false,
    "ExecuteTime": {
     "end_time": "2024-05-29T01:52:24.677856600Z",
     "start_time": "2024-05-29T01:52:24.638668100Z"
    }
   },
   "id": "3b2e65500386765e"
  },
  {
   "cell_type": "code",
   "execution_count": 29,
   "outputs": [
    {
     "data": {
      "text/plain": "<Figure size 1000x400 with 1 Axes>",
      "image/png": "[encoded data removed]"
     },
     "metadata": {},
     "output_type": "display_data"
    }
   ],
   "source": [
    "import matplotlib.pyplot as plt\n",
    "# 创建直方图\n",
    "plt.figure(figsize=(10, 4))  # 设置图形大小\n",
    "bars = count_range_counts.plot(kind='bar', color='skyblue')  # 绘制条形图\n",
    "\n",
    "# 添加标题和轴标签\n",
    "plt.title('Distribution of User Counts by Range')  # 设置标题\n",
    "plt.xlabel('Count Range')  # 设置x轴标签\n",
    "plt.ylabel('Number of Users')  # 设置y轴标签\n",
    "\n",
    "# 计算总用户数\n",
    "total_users = count_range_counts.sum()\n",
    "\n",
    "# 在每个条形上添加百分比\n",
    "for bar in bars.patches:\n",
    "    # 计算百分比\n",
    "    percentage = (bar.get_height() / total_users) * 100\n",
    "    # 在条形图上添加文本\n",
    "    plt.text(bar.get_x() + bar.get_width() / 2,  # x位置，位于条形中心\n",
    "             bar.get_height(),  # y位置，位于条形顶部\n",
    "             f'{percentage:.3f}%',  # 文本内容，百分比格式\n",
    "             ha='center',  # 水平对齐方式\n",
    "             va='bottom',  # 垂直对齐方式\n",
    "             color='black',  # 文本颜色\n",
    "             fontsize=10)  # 字体大小\n",
    "\n",
    "# 显示图形\n",
    "plt.show()"
   ],
   "metadata": {
    "collapsed": false,
    "ExecuteTime": {
     "end_time": "2024-05-29T01:52:25.505713Z",
     "start_time": "2024-05-29T01:52:24.644288Z"
    }
   },
   "id": "5b2dd5f8829bd101"
  },
  {
   "cell_type": "markdown",
   "source": [
    "先筛选出交互大于20的用户，再筛选时间间隔,间隔小,一共只有6天，该数据集，应该不符合长中短期兴趣"
   ],
   "metadata": {
    "collapsed": false
   },
   "id": "34727086f587f6b1"
  },
  {
   "cell_type": "code",
   "execution_count": 30,
   "outputs": [],
   "source": [
    "# 将bf和uc按照user_id进行左连接\n",
    "merged_df = pd.merge(bf, uc, on='user_id', how='left')\n",
    "\n",
    "# 使用query方法筛选出count大于等于20的行\n",
    "trimmed_bf = merged_df.query('count >= 20')"
   ],
   "metadata": {
    "collapsed": false,
    "ExecuteTime": {
     "end_time": "2024-05-29T01:52:25.639932500Z",
     "start_time": "2024-05-29T01:52:25.506712800Z"
    }
   },
   "id": "18000ea6138b7e91"
  },
  {
   "cell_type": "code",
   "execution_count": 31,
   "outputs": [
    {
     "data": {
      "text/plain": "     user_id                time  \\\n465      287 2019-11-12 06:04:22   \n466      287 2019-11-14 08:06:16   \n467      287 2019-11-09 15:08:20   \n468      287 2019-11-10 23:24:46   \n469      287 2019-11-14 07:26:00   \n\n                                               history  \\\n465  N6466 N53954 N51163 N26618 N55743 N44796 N5670...   \n466  N6466 N53954 N51163 N26618 N55743 N44796 N5670...   \n467  N6466 N53954 N51163 N26618 N55743 N44796 N5670...   \n468  N6466 N53954 N51163 N26618 N55743 N44796 N5670...   \n469  N6466 N53954 N51163 N26618 N55743 N44796 N5670...   \n\n                                           impressions  choose  count  \\\n465                                  N33619-1 N49180-0  N33619     20   \n466                                  N23446-0 N38779-1  N38779     20   \n467  N8929-0 N43595-0 N5442-0 N60374-0 N27845-0 N18...  N18870     20   \n468  N27486-0 N63646-0 N50060-1 N28047-0 N27581-0 N...  N50060     20   \n469  N48017-0 N47098-1 N49712-0 N50872-0 N51570-0 N...  N47098     20   \n\n    count_range  \n465       11-20  \n466       11-20  \n467       11-20  \n468       11-20  \n469       11-20  ",
      "text/html": "<div>\n<style scoped>\n    .dataframe tbody tr th:only-of-type {\n        vertical-align: middle;\n    }\n\n    .dataframe tbody tr th {\n        vertical-align: top;\n    }\n\n    .dataframe thead th {\n        text-align: right;\n    }\n</style>\n<table border=\"1\" class=\"dataframe\">\n  <thead>\n    <tr style=\"text-align: right;\">\n      <th></th>\n      <th>user_id</th>\n      <th>time</th>\n      <th>history</th>\n      <th>impressions</th>\n      <th>choose</th>\n      <th>count</th>\n      <th>count_range</th>\n    </tr>\n  </thead>\n  <tbody>\n    <tr>\n      <th>465</th>\n      <td>287</td>\n      <td>2019-11-12 06:04:22</td>\n      <td>N6466 N53954 N51163 N26618 N55743 N44796 N5670...</td>\n      <td>N33619-1 N49180-0</td>\n      <td>N33619</td>\n      <td>20</td>\n      <td>11-20</td>\n    </tr>\n    <tr>\n      <th>466</th>\n      <td>287</td>\n      <td>2019-11-14 08:06:16</td>\n      <td>N6466 N53954 N51163 N26618 N55743 N44796 N5670...</td>\n      <td>N23446-0 N38779-1</td>\n      <td>N38779</td>\n      <td>20</td>\n      <td>11-20</td>\n    </tr>\n    <tr>\n      <th>467</th>\n      <td>287</td>\n      <td>2019-11-09 15:08:20</td>\n      <td>N6466 N53954 N51163 N26618 N55743 N44796 N5670...</td>\n      <td>N8929-0 N43595-0 N5442-0 N60374-0 N27845-0 N18...</td>\n      <td>N18870</td>\n      <td>20</td>\n      <td>11-20</td>\n    </tr>\n    <tr>\n      <th>468</th>\n      <td>287</td>\n      <td>2019-11-10 23:24:46</td>\n      <td>N6466 N53954 N51163 N26618 N55743 N44796 N5670...</td>\n      <td>N27486-0 N63646-0 N50060-1 N28047-0 N27581-0 N...</td>\n      <td>N50060</td>\n      <td>20</td>\n      <td>11-20</td>\n    </tr>\n    <tr>\n      <th>469</th>\n      <td>287</td>\n      <td>2019-11-14 07:26:00</td>\n      <td>N6466 N53954 N51163 N26618 N55743 N44796 N5670...</td>\n      <td>N48017-0 N47098-1 N49712-0 N50872-0 N51570-0 N...</td>\n      <td>N47098</td>\n      <td>20</td>\n      <td>11-20</td>\n    </tr>\n  </tbody>\n</table>\n</div>"
     },
     "execution_count": 31,
     "metadata": {},
     "output_type": "execute_result"
    }
   ],
   "source": [
    "trimmed_bf.head()"
   ],
   "metadata": {
    "collapsed": false,
    "ExecuteTime": {
     "end_time": "2024-05-29T01:52:25.640933300Z",
     "start_time": "2024-05-29T01:52:25.552827300Z"
    }
   },
   "id": "c15cbd947fa17eb2"
  },
  {
   "cell_type": "markdown",
   "source": [
    "把impressions中的-0-1去掉"
   ],
   "metadata": {
    "collapsed": false
   },
   "id": "bfc217f309969cbd"
  },
  {
   "cell_type": "code",
   "execution_count": 32,
   "outputs": [
    {
     "data": {
      "text/plain": "     user_id                time  \\\n465      287 2019-11-12 06:04:22   \n466      287 2019-11-14 08:06:16   \n467      287 2019-11-09 15:08:20   \n468      287 2019-11-10 23:24:46   \n469      287 2019-11-14 07:26:00   \n\n                                               history  \\\n465  N6466 N53954 N51163 N26618 N55743 N44796 N5670...   \n466  N6466 N53954 N51163 N26618 N55743 N44796 N5670...   \n467  N6466 N53954 N51163 N26618 N55743 N44796 N5670...   \n468  N6466 N53954 N51163 N26618 N55743 N44796 N5670...   \n469  N6466 N53954 N51163 N26618 N55743 N44796 N5670...   \n\n                                           impressions  choose  count  \\\n465                                      N33619 N49180  N33619     20   \n466                                      N23446 N38779  N38779     20   \n467  N8929 N43595 N5442 N60374 N27845 N18870 N3930 ...  N18870     20   \n468  N27486 N63646 N50060 N28047 N27581 N31273 N430...  N50060     20   \n469  N48017 N47098 N49712 N50872 N51570 N46821 N234...  N47098     20   \n\n    count_range  \n465       11-20  \n466       11-20  \n467       11-20  \n468       11-20  \n469       11-20  ",
      "text/html": "<div>\n<style scoped>\n    .dataframe tbody tr th:only-of-type {\n        vertical-align: middle;\n    }\n\n    .dataframe tbody tr th {\n        vertical-align: top;\n    }\n\n    .dataframe thead th {\n        text-align: right;\n    }\n</style>\n<table border=\"1\" class=\"dataframe\">\n  <thead>\n    <tr style=\"text-align: right;\">\n      <th></th>\n      <th>user_id</th>\n      <th>time</th>\n      <th>history</th>\n      <th>impressions</th>\n      <th>choose</th>\n      <th>count</th>\n      <th>count_range</th>\n    </tr>\n  </thead>\n  <tbody>\n    <tr>\n      <th>465</th>\n      <td>287</td>\n      <td>2019-11-12 06:04:22</td>\n      <td>N6466 N53954 N51163 N26618 N55743 N44796 N5670...</td>\n      <td>N33619 N49180</td>\n      <td>N33619</td>\n      <td>20</td>\n      <td>11-20</td>\n    </tr>\n    <tr>\n      <th>466</th>\n      <td>287</td>\n      <td>2019-11-14 08:06:16</td>\n      <td>N6466 N53954 N51163 N26618 N55743 N44796 N5670...</td>\n      <td>N23446 N38779</td>\n      <td>N38779</td>\n      <td>20</td>\n      <td>11-20</td>\n    </tr>\n    <tr>\n      <th>467</th>\n      <td>287</td>\n      <td>2019-11-09 15:08:20</td>\n      <td>N6466 N53954 N51163 N26618 N55743 N44796 N5670...</td>\n      <td>N8929 N43595 N5442 N60374 N27845 N18870 N3930 ...</td>\n      <td>N18870</td>\n      <td>20</td>\n      <td>11-20</td>\n    </tr>\n    <tr>\n      <th>468</th>\n      <td>287</td>\n      <td>2019-11-10 23:24:46</td>\n      <td>N6466 N53954 N51163 N26618 N55743 N44796 N5670...</td>\n      <td>N27486 N63646 N50060 N28047 N27581 N31273 N430...</td>\n      <td>N50060</td>\n      <td>20</td>\n      <td>11-20</td>\n    </tr>\n    <tr>\n      <th>469</th>\n      <td>287</td>\n      <td>2019-11-14 07:26:00</td>\n      <td>N6466 N53954 N51163 N26618 N55743 N44796 N5670...</td>\n      <td>N48017 N47098 N49712 N50872 N51570 N46821 N234...</td>\n      <td>N47098</td>\n      <td>20</td>\n      <td>11-20</td>\n    </tr>\n  </tbody>\n</table>\n</div>"
     },
     "execution_count": 32,
     "metadata": {},
     "output_type": "execute_result"
    }
   ],
   "source": [
    "trimmed_bf.loc[:, 'impressions'] = trimmed_bf['impressions'].apply(lambda x: ' '.join([item.split('-')[0] for item in x.split(' ')]))\n",
    "\n",
    "trimmed_bf.head()"
   ],
   "metadata": {
    "collapsed": false,
    "ExecuteTime": {
     "end_time": "2024-05-29T01:52:25.666463400Z",
     "start_time": "2024-05-29T01:52:25.562941100Z"
    }
   },
   "id": "d6b55b3e3ec2fbe0"
  },
  {
   "cell_type": "code",
   "execution_count": 33,
   "outputs": [
    {
     "data": {
      "text/plain": "     user_id                time  choose  \\\n465      287 2019-11-12 06:04:22  N33619   \n466      287 2019-11-14 08:06:16  N38779   \n467      287 2019-11-09 15:08:20  N18870   \n468      287 2019-11-10 23:24:46  N50060   \n469      287 2019-11-14 07:26:00  N47098   \n\n                                           impressions  \\\n465                                      N33619 N49180   \n466                                      N23446 N38779   \n467  N8929 N43595 N5442 N60374 N27845 N18870 N3930 ...   \n468  N27486 N63646 N50060 N28047 N27581 N31273 N430...   \n469  N48017 N47098 N49712 N50872 N51570 N46821 N234...   \n\n                                               history  \n465  N6466 N53954 N51163 N26618 N55743 N44796 N5670...  \n466  N6466 N53954 N51163 N26618 N55743 N44796 N5670...  \n467  N6466 N53954 N51163 N26618 N55743 N44796 N5670...  \n468  N6466 N53954 N51163 N26618 N55743 N44796 N5670...  \n469  N6466 N53954 N51163 N26618 N55743 N44796 N5670...  ",
      "text/html": "<div>\n<style scoped>\n    .dataframe tbody tr th:only-of-type {\n        vertical-align: middle;\n    }\n\n    .dataframe tbody tr th {\n        vertical-align: top;\n    }\n\n    .dataframe thead th {\n        text-align: right;\n    }\n</style>\n<table border=\"1\" class=\"dataframe\">\n  <thead>\n    <tr style=\"text-align: right;\">\n      <th></th>\n      <th>user_id</th>\n      <th>time</th>\n      <th>choose</th>\n      <th>impressions</th>\n      <th>history</th>\n    </tr>\n  </thead>\n  <tbody>\n    <tr>\n      <th>465</th>\n      <td>287</td>\n      <td>2019-11-12 06:04:22</td>\n      <td>N33619</td>\n      <td>N33619 N49180</td>\n      <td>N6466 N53954 N51163 N26618 N55743 N44796 N5670...</td>\n    </tr>\n    <tr>\n      <th>466</th>\n      <td>287</td>\n      <td>2019-11-14 08:06:16</td>\n      <td>N38779</td>\n      <td>N23446 N38779</td>\n      <td>N6466 N53954 N51163 N26618 N55743 N44796 N5670...</td>\n    </tr>\n    <tr>\n      <th>467</th>\n      <td>287</td>\n      <td>2019-11-09 15:08:20</td>\n      <td>N18870</td>\n      <td>N8929 N43595 N5442 N60374 N27845 N18870 N3930 ...</td>\n      <td>N6466 N53954 N51163 N26618 N55743 N44796 N5670...</td>\n    </tr>\n    <tr>\n      <th>468</th>\n      <td>287</td>\n      <td>2019-11-10 23:24:46</td>\n      <td>N50060</td>\n      <td>N27486 N63646 N50060 N28047 N27581 N31273 N430...</td>\n      <td>N6466 N53954 N51163 N26618 N55743 N44796 N5670...</td>\n    </tr>\n    <tr>\n      <th>469</th>\n      <td>287</td>\n      <td>2019-11-14 07:26:00</td>\n      <td>N47098</td>\n      <td>N48017 N47098 N49712 N50872 N51570 N46821 N234...</td>\n      <td>N6466 N53954 N51163 N26618 N55743 N44796 N5670...</td>\n    </tr>\n  </tbody>\n</table>\n</div>"
     },
     "execution_count": 33,
     "metadata": {},
     "output_type": "execute_result"
    }
   ],
   "source": [
    "feature_names = ['user_id', 'time', 'choose', 'impressions', 'history']\n",
    "trimmed_bf = trimmed_bf[feature_names]\n",
    "trimmed_bf.head()"
   ],
   "metadata": {
    "collapsed": false,
    "ExecuteTime": {
     "end_time": "2024-05-29T01:52:25.669464Z",
     "start_time": "2024-05-29T01:52:25.595479900Z"
    }
   },
   "id": "f266cebc155b9d3b"
  },
  {
   "cell_type": "code",
   "execution_count": 34,
   "outputs": [
    {
     "data": {
      "text/plain": "   user_id                time  choose  \\\n0      287 2019-11-12 06:04:22  N33619   \n1      287 2019-11-14 08:06:16  N38779   \n2      287 2019-11-09 15:08:20  N18870   \n3      287 2019-11-10 23:24:46  N50060   \n4      287 2019-11-14 07:26:00  N47098   \n\n                                         impressions  \\\n0                                      N33619 N49180   \n1                                      N23446 N38779   \n2  N8929 N43595 N5442 N60374 N27845 N18870 N3930 ...   \n3  N27486 N63646 N50060 N28047 N27581 N31273 N430...   \n4  N48017 N47098 N49712 N50872 N51570 N46821 N234...   \n\n                                             history  \n0  N6466 N53954 N51163 N26618 N55743 N44796 N5670...  \n1  N6466 N53954 N51163 N26618 N55743 N44796 N5670...  \n2  N6466 N53954 N51163 N26618 N55743 N44796 N5670...  \n3  N6466 N53954 N51163 N26618 N55743 N44796 N5670...  \n4  N6466 N53954 N51163 N26618 N55743 N44796 N5670...  ",
      "text/html": "<div>\n<style scoped>\n    .dataframe tbody tr th:only-of-type {\n        vertical-align: middle;\n    }\n\n    .dataframe tbody tr th {\n        vertical-align: top;\n    }\n\n    .dataframe thead th {\n        text-align: right;\n    }\n</style>\n<table border=\"1\" class=\"dataframe\">\n  <thead>\n    <tr style=\"text-align: right;\">\n      <th></th>\n      <th>user_id</th>\n      <th>time</th>\n      <th>choose</th>\n      <th>impressions</th>\n      <th>history</th>\n    </tr>\n  </thead>\n  <tbody>\n    <tr>\n      <th>0</th>\n      <td>287</td>\n      <td>2019-11-12 06:04:22</td>\n      <td>N33619</td>\n      <td>N33619 N49180</td>\n      <td>N6466 N53954 N51163 N26618 N55743 N44796 N5670...</td>\n    </tr>\n    <tr>\n      <th>1</th>\n      <td>287</td>\n      <td>2019-11-14 08:06:16</td>\n      <td>N38779</td>\n      <td>N23446 N38779</td>\n      <td>N6466 N53954 N51163 N26618 N55743 N44796 N5670...</td>\n    </tr>\n    <tr>\n      <th>2</th>\n      <td>287</td>\n      <td>2019-11-09 15:08:20</td>\n      <td>N18870</td>\n      <td>N8929 N43595 N5442 N60374 N27845 N18870 N3930 ...</td>\n      <td>N6466 N53954 N51163 N26618 N55743 N44796 N5670...</td>\n    </tr>\n    <tr>\n      <th>3</th>\n      <td>287</td>\n      <td>2019-11-10 23:24:46</td>\n      <td>N50060</td>\n      <td>N27486 N63646 N50060 N28047 N27581 N31273 N430...</td>\n      <td>N6466 N53954 N51163 N26618 N55743 N44796 N5670...</td>\n    </tr>\n    <tr>\n      <th>4</th>\n      <td>287</td>\n      <td>2019-11-14 07:26:00</td>\n      <td>N47098</td>\n      <td>N48017 N47098 N49712 N50872 N51570 N46821 N234...</td>\n      <td>N6466 N53954 N51163 N26618 N55743 N44796 N5670...</td>\n    </tr>\n  </tbody>\n</table>\n</div>"
     },
     "execution_count": 34,
     "metadata": {},
     "output_type": "execute_result"
    }
   ],
   "source": [
    "trimmed_bf = trimmed_bf.reset_index(drop=True)\n",
    "trimmed_bf.head()"
   ],
   "metadata": {
    "collapsed": false,
    "ExecuteTime": {
     "end_time": "2024-05-29T01:52:25.670463600Z",
     "start_time": "2024-05-29T01:52:25.604199Z"
    }
   },
   "id": "70ce787f9032d3ca"
  },
  {
   "cell_type": "markdown",
   "source": [
    "计算用户的中期兴趣"
   ],
   "metadata": {
    "collapsed": false
   },
   "id": "cc1cb621b8ff0862"
  },
  {
   "cell_type": "markdown",
   "source": [
    "形似定义？什么样的相似度属于中期兴趣，什么样的相似度属于短期兴趣。因为没有topic，什么样的实体属于topic，实体和topic维度差距较大\n",
    "只能通过比较，但是相似度没法区分“探索兴趣”"
   ],
   "metadata": {
    "collapsed": false
   },
   "id": "69eae9b8a9991996"
  },
  {
   "cell_type": "markdown",
   "source": [
    "为何不直接搜索到用户最后一天的交互，history就是历史兴趣，impressions就是系统推荐流量(展示量)\n",
    "若有时间，可以试试收集refuse，即负反馈，但是负反馈不能代表负面兴趣，它不是隐式反馈\n",
    "拿“活跃用户”进行试验看看，长期兴趣的相似度\n",
    "思路：每一行计算一个组相似度：\n",
    "* interest: history_avg_embedding作为**用户兴趣（当前时间）**。\n",
    "* item_diversity: impressions成对距离作为**多样性（项目间）**（不同用户兴趣本身就不同，可能没有参考价值），相似度和多样性负相关。\n",
    "* rec_diversity: 用户兴趣和impressions的平均距离作为**推荐多样性**（最后归一化处理），距离和多样性负相关，和准确度正相关。\n",
    "* faithful/belief: choose和interest的距离作为用户忠于现有兴趣（固有兴趣？）的程度，一定程度上反应陷入过滤气泡的深浅。(忠诚，信念)用户信念？"
   ],
   "metadata": {
    "collapsed": false
   },
   "id": "a7bea3670c482f34"
  },
  {
   "cell_type": "code",
   "execution_count": 34,
   "outputs": [],
   "source": [
    "# 应用于数据列的apply函数\n",
    "# 定义一个函数，计算history对应的平均嵌入距离\n",
    "def history_avg_embedding(history):\n",
    "    # 将history拆分为物品ID列表\n",
    "    items = history.split()\n",
    "    interest = np.mean()\n",
    "    # 返回被选取的物品ID列表\n",
    "    return ', '.join(chosen_items)"
   ],
   "metadata": {
    "collapsed": false,
    "ExecuteTime": {
     "end_time": "2024-05-29T01:52:25.679970500Z",
     "start_time": "2024-05-29T01:52:25.632932500Z"
    }
   },
   "id": "c3ab58490dbb8850"
  },
  {
   "cell_type": "code",
   "execution_count": 38,
   "outputs": [
    {
     "data": {
      "text/plain": "'[-0.013597 -0.009758  0.01712  -0.051993  0.037963  0.045238  0.077176\\n -0.033402  0.032126  0.000231 -0.041168  0.006686 -0.042137  0.003012\\n -0.007492  0.004021 -0.044446  0.060362  0.036527  0.000915 -0.0881\\n  0.013638  0.00664   0.023534 -0.006483 -0.030089 -0.01769  -0.076201\\n  0.010523 -0.015482 -0.029464 -0.000577  0.011122  0.020931  0.019831\\n -0.020024  0.046285 -0.087435 -0.014035 -0.032755  0.000882  0.058146\\n -0.063754 -0.01612  -0.028519 -0.006055  0.043857  0.012439  0.008123\\n  0.068035 -0.025732 -0.082524  0.012157  0.005102  0.050669 -0.029057\\n -0.097563  0.01637   0.104147 -0.013962 -0.085338  0.002964  0.002371\\n  0.033141 -0.094885 -0.041572 -0.083391 -0.017752 -0.021868  0.003052\\n  0.065026  0.018371 -0.009355  0.078348  0.028948 -0.043366  0.007608\\n  0.031137  0.054513  0.030671 -0.021131 -0.048048 -0.013872 -0.000741\\n -0.059595 -0.109701  0.046302  0.016114  0.05821  -0.015325 -0.085929\\n -0.059981  0.004588 -0.028985 -0.059973 -0.035562  0.106053 -0.10042\\n  0.051723  0.001144       nan]'"
     },
     "execution_count": 38,
     "metadata": {},
     "output_type": "execute_result"
    }
   ],
   "source": [
    "ne[\"average_embedding\"][1]"
   ],
   "metadata": {
    "collapsed": false,
    "ExecuteTime": {
     "end_time": "2024-05-29T03:19:58.730699800Z",
     "start_time": "2024-05-29T03:19:58.726203300Z"
    }
   },
   "id": "7ea9b8232b81dcd3"
  }
 ],
 "metadata": {
  "kernelspec": {
   "display_name": "Python 3",
   "language": "python",
   "name": "python3"
  },
  "language_info": {
   "codemirror_mode": {
    "name": "ipython",
    "version": 2
   },
   "file_extension": ".py",
   "mimetype": "text/x-python",
   "name": "python",
   "nbconvert_exporter": "python",
   "pygments_lexer": "ipython2",
   "version": "2.7.6"
  }
 },
 "nbformat": 4,
 "nbformat_minor": 5
}
