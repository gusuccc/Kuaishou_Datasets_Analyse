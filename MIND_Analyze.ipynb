{
 "cells": [
  {
   "cell_type": "markdown",
   "source": [
    "# MIND 微软新闻数据集"
   ],
   "metadata": {
    "collapsed": false
   },
   "id": "1cd3329869c20470"
  },
  {
   "cell_type": "markdown",
   "source": [
    " MIND\n",
    "  ├── MINDlarge_dev\n",
    "  │   ├── \\_\\_placeholder\\_\\_\n",
    "  │   ├── behaviors.tsv\n",
    "  │   ├── entity_embedding.vec\n",
    "  │   ├── news.tsv\n",
    "  │   └── relation_embedding.vec\n",
    "  ├── MINDlarge_test\n",
    "  ├── MINDlarge_train\n",
    "  ├── MINDsmall_dev\n",
    "  ├── MINDsmall_train\n"
   ],
   "metadata": {
    "collapsed": false
   },
   "id": "8275d7bf0c8d7b5"
  },
  {
   "cell_type": "code",
   "execution_count": 116,
   "outputs": [],
   "source": [
    "import pandas as pd\n",
    "import numpy as np\n",
    "import re\n",
    "import ast\n",
    "from ast import literal_eval\n",
    "from sklearn.preprocessing import MinMaxScaler\n",
    "from sklearn.decomposition import PCA\n",
    "import matplotlib.pyplot as plt"
   ],
   "metadata": {
    "collapsed": false,
    "ExecuteTime": {
     "end_time": "2024-05-30T09:12:46.568333Z",
     "start_time": "2024-05-30T09:12:46.560807800Z"
    }
   },
   "id": "773587577b0d6477"
  },
  {
   "cell_type": "markdown",
   "source": [
    "## 数据路径"
   ],
   "metadata": {
    "collapsed": false
   },
   "id": "bf9b6ea1dbf0e244"
  },
  {
   "cell_type": "code",
   "execution_count": 2,
   "id": "initial_id",
   "metadata": {
    "collapsed": true,
    "ExecuteTime": {
     "end_time": "2024-05-30T01:48:08.538039700Z",
     "start_time": "2024-05-30T01:48:08.530475800Z"
    }
   },
   "outputs": [],
   "source": [
    "data_path = \"F:/DataSets/MIND/MINDsmall_train/\"\n",
    "behaviors_path = data_path + \"behaviors.tsv\"\n",
    "entity_embeddings_path = data_path + \"entity_embedding.vec\"\n",
    "news_path = data_path + \"news.tsv\""
   ]
  },
  {
   "cell_type": "markdown",
   "source": [
    "* 印象 ID。展示的 ID。 int64\n",
    "* 用户身份。用户的匿名 ID。str\n",
    "* 时间。展示时间，格式为“MM/DD/YYYY HH:MM:SS AM/PM”。str\n",
    "* 历史。该用户在本次曝光前的新闻点击历史记录（点击新闻的ID列表）。点击的新闻文章按时间排序。str\n",
    "* 印象。本次展示中展示的新闻列表以及用户对其的点击行为（1为点击，0为未点击）。印象中的新闻顺序已被打乱。str"
   ],
   "metadata": {
    "collapsed": false
   },
   "id": "e081189919170ed2"
  },
  {
   "cell_type": "code",
   "execution_count": 3,
   "outputs": [
    {
     "name": "stdout",
     "output_type": "stream",
     "text": [
      "<class 'numpy.int64'> <class 'str'> <class 'str'> <class 'str'> <class 'str'>\n"
     ]
    },
    {
     "data": {
      "text/plain": "   impression_id user_id                   time  \\\n0              1  U13740  11/11/2019 9:05:58 AM   \n1              2  U91836  11/12/2019 6:11:30 PM   \n\n                                             history  \\\n0  N55189 N42782 N34694 N45794 N18445 N63302 N104...   \n1  N31739 N6072 N63045 N23979 N35656 N43353 N8129...   \n\n                                         impressions  \n0                                  N55689-1 N35729-0  \n1  N20678-0 N39317-0 N58114-0 N20495-0 N42977-0 N...  ",
      "text/html": "<div>\n<style scoped>\n    .dataframe tbody tr th:only-of-type {\n        vertical-align: middle;\n    }\n\n    .dataframe tbody tr th {\n        vertical-align: top;\n    }\n\n    .dataframe thead th {\n        text-align: right;\n    }\n</style>\n<table border=\"1\" class=\"dataframe\">\n  <thead>\n    <tr style=\"text-align: right;\">\n      <th></th>\n      <th>impression_id</th>\n      <th>user_id</th>\n      <th>time</th>\n      <th>history</th>\n      <th>impressions</th>\n    </tr>\n  </thead>\n  <tbody>\n    <tr>\n      <th>0</th>\n      <td>1</td>\n      <td>U13740</td>\n      <td>11/11/2019 9:05:58 AM</td>\n      <td>N55189 N42782 N34694 N45794 N18445 N63302 N104...</td>\n      <td>N55689-1 N35729-0</td>\n    </tr>\n    <tr>\n      <th>1</th>\n      <td>2</td>\n      <td>U91836</td>\n      <td>11/12/2019 6:11:30 PM</td>\n      <td>N31739 N6072 N63045 N23979 N35656 N43353 N8129...</td>\n      <td>N20678-0 N39317-0 N58114-0 N20495-0 N42977-0 N...</td>\n    </tr>\n  </tbody>\n</table>\n</div>"
     },
     "execution_count": 3,
     "metadata": {},
     "output_type": "execute_result"
    }
   ],
   "source": [
    "feature_names = ['impression_id', 'user_id', 'time', 'history', 'impressions']\n",
    "behaviors_file = pd.read_table(behaviors_path, header=None, names=feature_names)\n",
    "print(type(behaviors_file['impression_id'][0]),type(behaviors_file['user_id'][0]),type(behaviors_file['time'][0]),type(behaviors_file['history'][0]),type(behaviors_file['impressions'][0]))\n",
    "behaviors_file.head(2)"
   ],
   "metadata": {
    "collapsed": false,
    "ExecuteTime": {
     "end_time": "2024-05-30T01:48:09.241931700Z",
     "start_time": "2024-05-30T01:48:08.535038600Z"
    }
   },
   "id": "c36df78b7aadbd2c"
  },
  {
   "cell_type": "markdown",
   "source": [
    "## 嵌入表示\n",
    "读取实体嵌入向量，每个向量是一个100维的数组\n",
    "问题：\n",
    "1. 只有实体的嵌入，每个新闻有标题和摘要的若干实体，没有正文内容的实体\n",
    "2. 暂用：mean(（标题+摘要）.嵌入) 代表 新闻嵌入\n"
   ],
   "metadata": {
    "collapsed": false
   },
   "id": "6eca3134bb4722f"
  },
  {
   "cell_type": "code",
   "execution_count": 4,
   "outputs": [
    {
     "data": {
      "text/plain": "     EID                                             Vector\n0    Q41  [-0.063388, -0.181451, 0.057501, -0.091254, -0...\n1  Q1860  [0.060958, 0.069934, 0.015832, 0.079471, -0.02...",
      "text/html": "<div>\n<style scoped>\n    .dataframe tbody tr th:only-of-type {\n        vertical-align: middle;\n    }\n\n    .dataframe tbody tr th {\n        vertical-align: top;\n    }\n\n    .dataframe thead th {\n        text-align: right;\n    }\n</style>\n<table border=\"1\" class=\"dataframe\">\n  <thead>\n    <tr style=\"text-align: right;\">\n      <th></th>\n      <th>EID</th>\n      <th>Vector</th>\n    </tr>\n  </thead>\n  <tbody>\n    <tr>\n      <th>0</th>\n      <td>Q41</td>\n      <td>[-0.063388, -0.181451, 0.057501, -0.091254, -0...</td>\n    </tr>\n    <tr>\n      <th>1</th>\n      <td>Q1860</td>\n      <td>[0.060958, 0.069934, 0.015832, 0.079471, -0.02...</td>\n    </tr>\n  </tbody>\n</table>\n</div>"
     },
     "execution_count": 4,
     "metadata": {},
     "output_type": "execute_result"
    }
   ],
   "source": [
    "entity_embeddings_file = pd.read_csv(entity_embeddings_path, header=None, sep='\\t')\n",
    "\n",
    "# 将ID和向量分离，ID在第一列，向量在剩余的列\n",
    "entity_ids = entity_embeddings_file.iloc[:, 0]\n",
    "embedding_vectors = entity_embeddings_file.iloc[:, 1:-1]  # 修改这里，去除最后一个可能的空列\n",
    "\n",
    "# 使用apply函数去除\"Q\"前缀并转换为整数\n",
    "converted_entity_ids = entity_embeddings_file.iloc[:, 0].apply(lambda x: int(x[1:]))\n",
    "\n",
    "# 将向量转换为一个numpy数组，这样每个向量就是一个数组形式\n",
    "embedding_vectors = embedding_vectors.apply(lambda row: np.array(row), axis=1)\n",
    "\n",
    "# 创建一个新的DataFrame来存储这些值\n",
    "entity_embeddings = pd.DataFrame({'EID': entity_ids, 'Vector': embedding_vectors})\n",
    "\n",
    "# 设置ID为索引，方便后续查询\n",
    "# entity_embeddings.set_index('EID', inplace=True)\n",
    "entity_embeddings.head(2)"
   ],
   "metadata": {
    "collapsed": false,
    "ExecuteTime": {
     "end_time": "2024-05-30T01:48:09.686015500Z",
     "start_time": "2024-05-30T01:48:09.239931400Z"
    }
   },
   "id": "30279482c137b19f"
  },
  {
   "cell_type": "markdown",
   "source": [
    "## 构造用户兴趣表（行为表）\n",
    "不是所有新闻都存在标题实体和摘要实体\n",
    "步骤：\n",
    "1. 构建新闻-嵌入表 √\n",
    "2. 以user_id排序behavior_file\n",
    "3. impressions到处交互新闻id\n",
    "4. 通过新闻id，得到新闻嵌入\n",
    "5. groupby用户id和不同时间段，计算平均嵌入，作为用户长中短期兴趣"
   ],
   "metadata": {
    "collapsed": false
   },
   "id": "5e80677701b7a4d1"
  },
  {
   "cell_type": "code",
   "execution_count": 5,
   "outputs": [
    {
     "data": {
      "text/plain": "0    [{\"Label\": \"Prince Philip, Duke of Edinburgh\",...\n1    [{\"Label\": \"Adipose tissue\", \"Type\": \"C\", \"Wik...\n2                                                   []\n3                                                   []\n4    [{\"Label\": \"Skin tag\", \"Type\": \"C\", \"WikidataI...\nName: title_entity, dtype: object"
     },
     "execution_count": 5,
     "metadata": {},
     "output_type": "execute_result"
    }
   ],
   "source": [
    "import json\n",
    "feature_names = ['news_id', 'label', 'sub_label', 'title', 'abstract', 'url', 'title_entity', 'abstract_entity']\n",
    "news = pd.read_table(news_path, header=None, names=feature_names)\n",
    "\n",
    "news['title_entity'].head()"
   ],
   "metadata": {
    "collapsed": false,
    "ExecuteTime": {
     "end_time": "2024-05-30T01:48:10.046671900Z",
     "start_time": "2024-05-30T01:48:09.685015900Z"
    }
   },
   "id": "54d5e09a0972d9ac"
  },
  {
   "cell_type": "code",
   "execution_count": 6,
   "outputs": [
    {
     "name": "stdout",
     "output_type": "stream",
     "text": [
      "[]\n",
      "<class 'str'>\n"
     ]
    }
   ],
   "source": [
    "print(news['title_entity'][2])\n",
    "print(type(news['title_entity'][2]))"
   ],
   "metadata": {
    "collapsed": false,
    "ExecuteTime": {
     "end_time": "2024-05-30T01:48:10.053506400Z",
     "start_time": "2024-05-30T01:48:10.048998400Z"
    }
   },
   "id": "9dce14dbe7f25f31"
  },
  {
   "cell_type": "markdown",
   "source": [
    "实体存储在title_entity和abstract_entity中，以json格式的字符串存在"
   ],
   "metadata": {
    "collapsed": false
   },
   "id": "3bc0840114eff98a"
  },
  {
   "cell_type": "code",
   "execution_count": 7,
   "outputs": [],
   "source": [
    "df = news\n",
    "\n",
    "# 定义一个函数来提取WikidataId和Confidence\n",
    "def extract_wikidata_confidence(json_str):\n",
    "    if type(json_str) == str:  # 检查字符串是否为空\n",
    "        entities = json.loads(json_str)\n",
    "        return [(entity[\"WikidataId\"], entity[\"Confidence\"]) for entity in entities]\n",
    "    else:\n",
    "        return []  # 返回一个空列表\n",
    "\n",
    "# 应用这个函数到title_entity列\n",
    "df['wikidata_confidence1'] = df['title_entity'].apply(extract_wikidata_confidence)\n",
    "df['wikidata_confidence2'] = df['abstract_entity'].apply(extract_wikidata_confidence)\n",
    "\n",
    "# print(df['wikidata_confidence1'])\n",
    "# print(df['wikidata_confidence2'])"
   ],
   "metadata": {
    "collapsed": false,
    "ExecuteTime": {
     "end_time": "2024-05-30T01:48:10.449035900Z",
     "start_time": "2024-05-30T01:48:10.053506400Z"
    }
   },
   "id": "6e3d0127981a4a32"
  },
  {
   "cell_type": "code",
   "execution_count": 8,
   "outputs": [],
   "source": [
    "# 定义函数计算平均嵌入\n",
    "def calculate_average_embedding(wikidata_confidence):\n",
    "    embeddings = []\n",
    "    for wikidata_id, _ in wikidata_confidence:\n",
    "        embedding = entity_embeddings.loc[entity_embeddings['EID'] == wikidata_id, 'Vector'].values\n",
    "        if embedding.size > 0:\n",
    "            embeddings.append(embedding[0])\n",
    "    \n",
    "    if embeddings:\n",
    "        # 计算找到的嵌入向量的平均值\n",
    "        average_embedding = np.mean(embeddings, axis=0)\n",
    "        return average_embedding\n",
    "    else:\n",
    "        return np.array([])  # 如果没有找到嵌入向量，返回空数组\n",
    "\n"
   ],
   "metadata": {
    "collapsed": false,
    "ExecuteTime": {
     "end_time": "2024-05-30T01:48:10.455415100Z",
     "start_time": "2024-05-30T01:48:10.450900400Z"
    }
   },
   "id": "39ac0857b9c81f2c"
  },
  {
   "cell_type": "code",
   "execution_count": 9,
   "outputs": [
    {
     "data": {
      "text/plain": "  news_id      label        sub_label  \\\n0  N55528  lifestyle  lifestyleroyals   \n1  N19639     health       weightloss   \n2  N61837       news        newsworld   \n3  N53526     health           voices   \n4  N38324     health          medical   \n\n                                               title  \\\n0  The Brands Queen Elizabeth, Prince Charles, an...   \n1                      50 Worst Habits For Belly Fat   \n2  The Cost of Trump's Aid Freeze in the Trenches...   \n3  I Was An NBA Wife. Here's How It Affected My M...   \n4  How to Get Rid of Skin Tags, According to a De...   \n\n                                            abstract  \\\n0  Shop the notebooks, jackets, and more that the...   \n1  These seemingly harmless habits are holding yo...   \n2  Lt. Ivan Molchanets peeked over a parapet of s...   \n3  I felt like I was a fraud, and being an NBA wi...   \n4  They seem harmless, but there's a very good re...   \n\n                                             url  \\\n0  https://assets.msn.com/labs/mind/AAGH0ET.html   \n1  https://assets.msn.com/labs/mind/AAB19MK.html   \n2  https://assets.msn.com/labs/mind/AAJgNsz.html   \n3  https://assets.msn.com/labs/mind/AACk2N6.html   \n4  https://assets.msn.com/labs/mind/AAAKEkt.html   \n\n                                        title_entity  \\\n0  [{\"Label\": \"Prince Philip, Duke of Edinburgh\",...   \n1  [{\"Label\": \"Adipose tissue\", \"Type\": \"C\", \"Wik...   \n2                                                 []   \n3                                                 []   \n4  [{\"Label\": \"Skin tag\", \"Type\": \"C\", \"WikidataI...   \n\n                                     abstract_entity  \\\n0                                                 []   \n1  [{\"Label\": \"Adipose tissue\", \"Type\": \"C\", \"Wik...   \n2  [{\"Label\": \"Ukraine\", \"Type\": \"G\", \"WikidataId...   \n3  [{\"Label\": \"National Basketball Association\", ...   \n4  [{\"Label\": \"Skin tag\", \"Type\": \"C\", \"WikidataI...   \n\n                            wikidata_confidence1  \\\n0  [(Q80976, 1.0), (Q43274, 1.0), (Q9682, 0.97)]   \n1                               [(Q193583, 1.0)]   \n2                                             []   \n3                                             []   \n4                              [(Q3179593, 1.0)]   \n\n                                wikidata_confidence2  \n0                                                 []  \n1                                   [(Q193583, 1.0)]  \n2                                    [(Q212, 0.946)]  \n3                                   [(Q155223, 1.0)]  \n4  [(Q3179593, 1.0), (Q171171, 1.0), (Q371820, 0....  ",
      "text/html": "<div>\n<style scoped>\n    .dataframe tbody tr th:only-of-type {\n        vertical-align: middle;\n    }\n\n    .dataframe tbody tr th {\n        vertical-align: top;\n    }\n\n    .dataframe thead th {\n        text-align: right;\n    }\n</style>\n<table border=\"1\" class=\"dataframe\">\n  <thead>\n    <tr style=\"text-align: right;\">\n      <th></th>\n      <th>news_id</th>\n      <th>label</th>\n      <th>sub_label</th>\n      <th>title</th>\n      <th>abstract</th>\n      <th>url</th>\n      <th>title_entity</th>\n      <th>abstract_entity</th>\n      <th>wikidata_confidence1</th>\n      <th>wikidata_confidence2</th>\n    </tr>\n  </thead>\n  <tbody>\n    <tr>\n      <th>0</th>\n      <td>N55528</td>\n      <td>lifestyle</td>\n      <td>lifestyleroyals</td>\n      <td>The Brands Queen Elizabeth, Prince Charles, an...</td>\n      <td>Shop the notebooks, jackets, and more that the...</td>\n      <td>https://assets.msn.com/labs/mind/AAGH0ET.html</td>\n      <td>[{\"Label\": \"Prince Philip, Duke of Edinburgh\",...</td>\n      <td>[]</td>\n      <td>[(Q80976, 1.0), (Q43274, 1.0), (Q9682, 0.97)]</td>\n      <td>[]</td>\n    </tr>\n    <tr>\n      <th>1</th>\n      <td>N19639</td>\n      <td>health</td>\n      <td>weightloss</td>\n      <td>50 Worst Habits For Belly Fat</td>\n      <td>These seemingly harmless habits are holding yo...</td>\n      <td>https://assets.msn.com/labs/mind/AAB19MK.html</td>\n      <td>[{\"Label\": \"Adipose tissue\", \"Type\": \"C\", \"Wik...</td>\n      <td>[{\"Label\": \"Adipose tissue\", \"Type\": \"C\", \"Wik...</td>\n      <td>[(Q193583, 1.0)]</td>\n      <td>[(Q193583, 1.0)]</td>\n    </tr>\n    <tr>\n      <th>2</th>\n      <td>N61837</td>\n      <td>news</td>\n      <td>newsworld</td>\n      <td>The Cost of Trump's Aid Freeze in the Trenches...</td>\n      <td>Lt. Ivan Molchanets peeked over a parapet of s...</td>\n      <td>https://assets.msn.com/labs/mind/AAJgNsz.html</td>\n      <td>[]</td>\n      <td>[{\"Label\": \"Ukraine\", \"Type\": \"G\", \"WikidataId...</td>\n      <td>[]</td>\n      <td>[(Q212, 0.946)]</td>\n    </tr>\n    <tr>\n      <th>3</th>\n      <td>N53526</td>\n      <td>health</td>\n      <td>voices</td>\n      <td>I Was An NBA Wife. Here's How It Affected My M...</td>\n      <td>I felt like I was a fraud, and being an NBA wi...</td>\n      <td>https://assets.msn.com/labs/mind/AACk2N6.html</td>\n      <td>[]</td>\n      <td>[{\"Label\": \"National Basketball Association\", ...</td>\n      <td>[]</td>\n      <td>[(Q155223, 1.0)]</td>\n    </tr>\n    <tr>\n      <th>4</th>\n      <td>N38324</td>\n      <td>health</td>\n      <td>medical</td>\n      <td>How to Get Rid of Skin Tags, According to a De...</td>\n      <td>They seem harmless, but there's a very good re...</td>\n      <td>https://assets.msn.com/labs/mind/AAAKEkt.html</td>\n      <td>[{\"Label\": \"Skin tag\", \"Type\": \"C\", \"WikidataI...</td>\n      <td>[{\"Label\": \"Skin tag\", \"Type\": \"C\", \"WikidataI...</td>\n      <td>[(Q3179593, 1.0)]</td>\n      <td>[(Q3179593, 1.0), (Q171171, 1.0), (Q371820, 0....</td>\n    </tr>\n  </tbody>\n</table>\n</div>"
     },
     "execution_count": 9,
     "metadata": {},
     "output_type": "execute_result"
    }
   ],
   "source": [
    "df.head()"
   ],
   "metadata": {
    "collapsed": false,
    "ExecuteTime": {
     "end_time": "2024-05-30T01:48:10.466379400Z",
     "start_time": "2024-05-30T01:48:10.454416300Z"
    }
   },
   "id": "3bf650b30d2d417b"
  },
  {
   "cell_type": "code",
   "execution_count": 10,
   "outputs": [
    {
     "name": "stdout",
     "output_type": "stream",
     "text": [
      "[100]\n"
     ]
    }
   ],
   "source": [
    "# 检查 entity_embeddings 中 Vector 列的每一个向量的长度\n",
    "lengths = entity_embeddings['Vector'].apply(lambda x: len(x))\n",
    "print(lengths.unique())  # 这应该只返回一个唯一值：100\n",
    "\n",
    "# 如果发现除了100以外的长度值，那么这可能是问题的来源\n"
   ],
   "metadata": {
    "collapsed": false,
    "ExecuteTime": {
     "end_time": "2024-05-30T01:48:10.492579200Z",
     "start_time": "2024-05-30T01:48:10.467379400Z"
    }
   },
   "id": "ab43a3d00ed66e9d"
  },
  {
   "cell_type": "code",
   "execution_count": 11,
   "outputs": [
    {
     "data": {
      "text/plain": "array([-0.063388, -0.181451,  0.057501, -0.091254, -0.076217, -0.052525,\n        0.0505  , -0.224871, -0.018145,  0.030722,  0.064276,  0.073063,\n        0.039489,  0.159404, -0.128784,  0.016325,  0.026797,  0.13709 ,\n        0.001849, -0.059103,  0.012091,  0.045418,  0.000591,  0.211337,\n       -0.034093, -0.074582,  0.014004, -0.099355,  0.170144,  0.109376,\n       -0.014797,  0.071172,  0.080375,  0.045563, -0.046462,  0.070108,\n        0.015413, -0.020874, -0.170324, -0.00113 ,  0.05981 ,  0.054342,\n        0.027358, -0.028995, -0.224508,  0.066281, -0.200006,  0.018186,\n        0.082396,  0.167178, -0.136239,  0.055134, -0.080195, -0.00146 ,\n        0.031078, -0.017084, -0.091176, -0.036916,  0.124642, -0.098185,\n       -0.054836,  0.152483, -0.053712,  0.092816, -0.112044, -0.072247,\n       -0.114896, -0.036541, -0.186339, -0.16061 ,  0.037342, -0.133474,\n        0.11008 ,  0.070678, -0.005586, -0.046667, -0.07201 ,  0.086424,\n        0.026165,  0.030561,  0.077888, -0.117226,  0.211597,  0.112512,\n        0.079999, -0.083398, -0.121117,  0.071751, -0.017654, -0.134979,\n       -0.051949,  0.001861,  0.124535, -0.151043, -0.263698, -0.103607,\n        0.020007, -0.101157, -0.091567,  0.035234])"
     },
     "execution_count": 11,
     "metadata": {},
     "output_type": "execute_result"
    }
   ],
   "source": [
    "entity_embeddings['Vector'][0]"
   ],
   "metadata": {
    "collapsed": false,
    "ExecuteTime": {
     "end_time": "2024-05-30T01:48:10.494580500Z",
     "start_time": "2024-05-30T01:48:10.477517400Z"
    }
   },
   "id": "3b9759fbd32180e9"
  },
  {
   "cell_type": "code",
   "execution_count": 12,
   "outputs": [],
   "source": [
    "# # 应用函数到wikidata_confidence列\n",
    "# df['average_embedding1'] = df['wikidata_confidence1'].apply(calculate_average_embedding)\n",
    "# df['average_embedding2'] = df['wikidata_confidence2'].apply(calculate_average_embedding)\n",
    "# \n",
    "# df.head()"
   ],
   "metadata": {
    "collapsed": false,
    "ExecuteTime": {
     "end_time": "2024-05-30T01:48:10.512578300Z",
     "start_time": "2024-05-30T01:48:10.483091200Z"
    }
   },
   "id": "8902538a112432e7"
  },
  {
   "cell_type": "markdown",
   "source": [
    "验证一下"
   ],
   "metadata": {
    "collapsed": false
   },
   "id": "b4280edec2524d14"
  },
  {
   "cell_type": "code",
   "execution_count": 13,
   "outputs": [],
   "source": [
    "# # 80976 43284 9682\n",
    "# print((entity_embeddings.loc[entity_embeddings[\"EID\"]== \"Q80976\",'Vector'].values +\n",
    "#       entity_embeddings.loc[entity_embeddings[\"EID\"]== \"Q43274\",'Vector'].values +\n",
    "#       entity_embeddings.loc[entity_embeddings[\"EID\"]== \"Q9682\",'Vector'].values)/3)\n"
   ],
   "metadata": {
    "collapsed": false,
    "ExecuteTime": {
     "end_time": "2024-05-30T01:48:10.513585700Z",
     "start_time": "2024-05-30T01:48:10.485099100Z"
    }
   },
   "id": "a2c9417242d394bc"
  },
  {
   "cell_type": "code",
   "execution_count": 14,
   "outputs": [
    {
     "ename": "KeyError",
     "evalue": "'average_embedding1'",
     "output_type": "error",
     "traceback": [
      "\u001B[1;31m---------------------------------------------------------------------------\u001B[0m",
      "\u001B[1;31mKeyError\u001B[0m                                  Traceback (most recent call last)",
      "File \u001B[1;32m~\\.conda\\envs\\Kuaishou\\Lib\\site-packages\\pandas\\core\\indexes\\base.py:3805\u001B[0m, in \u001B[0;36mIndex.get_loc\u001B[1;34m(self, key)\u001B[0m\n\u001B[0;32m   3804\u001B[0m \u001B[38;5;28;01mtry\u001B[39;00m:\n\u001B[1;32m-> 3805\u001B[0m     \u001B[38;5;28;01mreturn\u001B[39;00m \u001B[38;5;28mself\u001B[39m\u001B[38;5;241m.\u001B[39m_engine\u001B[38;5;241m.\u001B[39mget_loc(casted_key)\n\u001B[0;32m   3806\u001B[0m \u001B[38;5;28;01mexcept\u001B[39;00m \u001B[38;5;167;01mKeyError\u001B[39;00m \u001B[38;5;28;01mas\u001B[39;00m err:\n",
      "File \u001B[1;32mindex.pyx:167\u001B[0m, in \u001B[0;36mpandas._libs.index.IndexEngine.get_loc\u001B[1;34m()\u001B[0m\n",
      "File \u001B[1;32mindex.pyx:196\u001B[0m, in \u001B[0;36mpandas._libs.index.IndexEngine.get_loc\u001B[1;34m()\u001B[0m\n",
      "File \u001B[1;32mpandas\\\\_libs\\\\hashtable_class_helper.pxi:7081\u001B[0m, in \u001B[0;36mpandas._libs.hashtable.PyObjectHashTable.get_item\u001B[1;34m()\u001B[0m\n",
      "File \u001B[1;32mpandas\\\\_libs\\\\hashtable_class_helper.pxi:7089\u001B[0m, in \u001B[0;36mpandas._libs.hashtable.PyObjectHashTable.get_item\u001B[1;34m()\u001B[0m\n",
      "\u001B[1;31mKeyError\u001B[0m: 'average_embedding1'",
      "\nThe above exception was the direct cause of the following exception:\n",
      "\u001B[1;31mKeyError\u001B[0m                                  Traceback (most recent call last)",
      "Cell \u001B[1;32mIn[14], line 2\u001B[0m\n\u001B[0;32m      1\u001B[0m \u001B[38;5;66;03m# 检查 entity_embeddings 中 Vector 列的每一个向量的长度\u001B[39;00m\n\u001B[1;32m----> 2\u001B[0m lengths \u001B[38;5;241m=\u001B[39m df[\u001B[38;5;124m'\u001B[39m\u001B[38;5;124maverage_embedding1\u001B[39m\u001B[38;5;124m'\u001B[39m]\u001B[38;5;241m.\u001B[39mapply(\u001B[38;5;28;01mlambda\u001B[39;00m x: \u001B[38;5;28mlen\u001B[39m(x))\n\u001B[0;32m      3\u001B[0m \u001B[38;5;28mprint\u001B[39m(lengths\u001B[38;5;241m.\u001B[39munique())\n",
      "File \u001B[1;32m~\\.conda\\envs\\Kuaishou\\Lib\\site-packages\\pandas\\core\\frame.py:4090\u001B[0m, in \u001B[0;36mDataFrame.__getitem__\u001B[1;34m(self, key)\u001B[0m\n\u001B[0;32m   4088\u001B[0m \u001B[38;5;28;01mif\u001B[39;00m \u001B[38;5;28mself\u001B[39m\u001B[38;5;241m.\u001B[39mcolumns\u001B[38;5;241m.\u001B[39mnlevels \u001B[38;5;241m>\u001B[39m \u001B[38;5;241m1\u001B[39m:\n\u001B[0;32m   4089\u001B[0m     \u001B[38;5;28;01mreturn\u001B[39;00m \u001B[38;5;28mself\u001B[39m\u001B[38;5;241m.\u001B[39m_getitem_multilevel(key)\n\u001B[1;32m-> 4090\u001B[0m indexer \u001B[38;5;241m=\u001B[39m \u001B[38;5;28mself\u001B[39m\u001B[38;5;241m.\u001B[39mcolumns\u001B[38;5;241m.\u001B[39mget_loc(key)\n\u001B[0;32m   4091\u001B[0m \u001B[38;5;28;01mif\u001B[39;00m is_integer(indexer):\n\u001B[0;32m   4092\u001B[0m     indexer \u001B[38;5;241m=\u001B[39m [indexer]\n",
      "File \u001B[1;32m~\\.conda\\envs\\Kuaishou\\Lib\\site-packages\\pandas\\core\\indexes\\base.py:3812\u001B[0m, in \u001B[0;36mIndex.get_loc\u001B[1;34m(self, key)\u001B[0m\n\u001B[0;32m   3807\u001B[0m     \u001B[38;5;28;01mif\u001B[39;00m \u001B[38;5;28misinstance\u001B[39m(casted_key, \u001B[38;5;28mslice\u001B[39m) \u001B[38;5;129;01mor\u001B[39;00m (\n\u001B[0;32m   3808\u001B[0m         \u001B[38;5;28misinstance\u001B[39m(casted_key, abc\u001B[38;5;241m.\u001B[39mIterable)\n\u001B[0;32m   3809\u001B[0m         \u001B[38;5;129;01mand\u001B[39;00m \u001B[38;5;28many\u001B[39m(\u001B[38;5;28misinstance\u001B[39m(x, \u001B[38;5;28mslice\u001B[39m) \u001B[38;5;28;01mfor\u001B[39;00m x \u001B[38;5;129;01min\u001B[39;00m casted_key)\n\u001B[0;32m   3810\u001B[0m     ):\n\u001B[0;32m   3811\u001B[0m         \u001B[38;5;28;01mraise\u001B[39;00m InvalidIndexError(key)\n\u001B[1;32m-> 3812\u001B[0m     \u001B[38;5;28;01mraise\u001B[39;00m \u001B[38;5;167;01mKeyError\u001B[39;00m(key) \u001B[38;5;28;01mfrom\u001B[39;00m \u001B[38;5;21;01merr\u001B[39;00m\n\u001B[0;32m   3813\u001B[0m \u001B[38;5;28;01mexcept\u001B[39;00m \u001B[38;5;167;01mTypeError\u001B[39;00m:\n\u001B[0;32m   3814\u001B[0m     \u001B[38;5;66;03m# If we have a listlike key, _check_indexing_error will raise\u001B[39;00m\n\u001B[0;32m   3815\u001B[0m     \u001B[38;5;66;03m#  InvalidIndexError. Otherwise we fall through and re-raise\u001B[39;00m\n\u001B[0;32m   3816\u001B[0m     \u001B[38;5;66;03m#  the TypeError.\u001B[39;00m\n\u001B[0;32m   3817\u001B[0m     \u001B[38;5;28mself\u001B[39m\u001B[38;5;241m.\u001B[39m_check_indexing_error(key)\n",
      "\u001B[1;31mKeyError\u001B[0m: 'average_embedding1'"
     ]
    }
   ],
   "source": [
    "# # 检查 entity_embeddings 中 Vector 列的每一个向量的长度\n",
    "# lengths = df['average_embedding1'].apply(lambda x: len(x))\n",
    "# print(lengths.unique())  # 这应该只返回一个唯二值：100和0"
   ],
   "metadata": {
    "collapsed": false,
    "ExecuteTime": {
     "end_time": "2024-05-30T01:48:11.956131800Z",
     "start_time": "2024-05-30T01:48:10.489582200Z"
    }
   },
   "id": "a7f5a43e7cab78d5"
  },
  {
   "cell_type": "code",
   "execution_count": 15,
   "outputs": [],
   "source": [
    "# 定义函数计算两个向量的平均值\n",
    "def average_vectors(row):\n",
    "    v1 = row['average_embedding1']\n",
    "    v2 = row['average_embedding2']\n",
    "    \n",
    "    # 检查是否有向量是0维的空值或None\n",
    "    if isinstance(v1, np.ndarray) and v1.size > 0 and isinstance(v2, np.ndarray) and v2.size > 0:\n",
    "        return (v1 + v2) / 2\n",
    "    elif isinstance(v1, np.ndarray) and v1.size > 0:\n",
    "        return v1\n",
    "    elif isinstance(v2, np.ndarray) and v2.size > 0:\n",
    "        return v2\n",
    "    else:\n",
    "         return np.array([], dtype=float)\n"
   ],
   "metadata": {
    "collapsed": false,
    "ExecuteTime": {
     "end_time": "2024-05-30T01:48:56.659290700Z",
     "start_time": "2024-05-30T01:48:56.625741600Z"
    }
   },
   "id": "f858918d235a7b0c"
  },
  {
   "cell_type": "code",
   "execution_count": null,
   "outputs": [],
   "source": [
    "# # 计算两个嵌入的平均嵌入\n",
    "# df['average_embedding'] = df.apply(average_vectors, axis=1)\n",
    "# df.head()"
   ],
   "metadata": {
    "collapsed": false,
    "ExecuteTime": {
     "start_time": "2024-05-30T01:48:11.960130800Z"
    }
   },
   "id": "75d63aa73648fd50"
  },
  {
   "cell_type": "code",
   "execution_count": null,
   "outputs": [],
   "source": [
    "# print(type(df['average_embedding'][0]))\n",
    "# print(len(df['average_embedding'][0]))\n",
    "# lengths = df['average_embedding'].apply(lambda x: len(x))\n",
    "# print(lengths.unique())  # 这应该只返回一个唯二值：100和0"
   ],
   "metadata": {
    "collapsed": false,
    "ExecuteTime": {
     "start_time": "2024-05-30T01:48:11.962130900Z"
    }
   },
   "id": "c0e267f97599a0fc"
  },
  {
   "cell_type": "markdown",
   "source": [
    "保存csv文件"
   ],
   "metadata": {
    "collapsed": false
   },
   "id": "9361e0ccfcd2249b"
  },
  {
   "cell_type": "code",
   "execution_count": null,
   "outputs": [],
   "source": [
    "# df.to_csv(\"news_embedding.csv\")"
   ],
   "metadata": {
    "collapsed": false,
    "ExecuteTime": {
     "start_time": "2024-05-30T01:48:11.963131Z"
    }
   },
   "id": "39b8eb1f6ff92c98"
  },
  {
   "cell_type": "markdown",
   "source": [
    "读取csv文件"
   ],
   "metadata": {
    "collapsed": false
   },
   "id": "ecbb42dd6240ad54"
  },
  {
   "cell_type": "markdown",
   "source": [
    "## 表1： 新闻-嵌入表"
   ],
   "metadata": {
    "collapsed": false
   },
   "id": "2ecce194a15844b6"
  },
  {
   "cell_type": "code",
   "execution_count": 16,
   "outputs": [
    {
     "data": {
      "text/plain": "  news_id                                  average_embedding\n0  N55528  [ 0.00405733 -0.03991733 -0.008374    0.079142...\n1  N19639  [-0.013597 -0.009758  0.01712  -0.051993  0.03...\n2  N61837  [-6.53240e-02 -8.81630e-02 -1.52030e-02 -3.194...\n3  N53526  [ 0.003752 -0.061771 -0.037073  0.02677  -0.09...\n4  N38324  [ 0.00283167  0.0090915   0.01616333 -0.020686...",
      "text/html": "<div>\n<style scoped>\n    .dataframe tbody tr th:only-of-type {\n        vertical-align: middle;\n    }\n\n    .dataframe tbody tr th {\n        vertical-align: top;\n    }\n\n    .dataframe thead th {\n        text-align: right;\n    }\n</style>\n<table border=\"1\" class=\"dataframe\">\n  <thead>\n    <tr style=\"text-align: right;\">\n      <th></th>\n      <th>news_id</th>\n      <th>average_embedding</th>\n    </tr>\n  </thead>\n  <tbody>\n    <tr>\n      <th>0</th>\n      <td>N55528</td>\n      <td>[ 0.00405733 -0.03991733 -0.008374    0.079142...</td>\n    </tr>\n    <tr>\n      <th>1</th>\n      <td>N19639</td>\n      <td>[-0.013597 -0.009758  0.01712  -0.051993  0.03...</td>\n    </tr>\n    <tr>\n      <th>2</th>\n      <td>N61837</td>\n      <td>[-6.53240e-02 -8.81630e-02 -1.52030e-02 -3.194...</td>\n    </tr>\n    <tr>\n      <th>3</th>\n      <td>N53526</td>\n      <td>[ 0.003752 -0.061771 -0.037073  0.02677  -0.09...</td>\n    </tr>\n    <tr>\n      <th>4</th>\n      <td>N38324</td>\n      <td>[ 0.00283167  0.0090915   0.01616333 -0.020686...</td>\n    </tr>\n  </tbody>\n</table>\n</div>"
     },
     "execution_count": 16,
     "metadata": {},
     "output_type": "execute_result"
    }
   ],
   "source": [
    "# 读取CSV文件时应用转换函数\n",
    "df = pd.read_csv(\"news_embedding.csv\")\n",
    "feature_names = ['news_id', 'average_embedding']\n",
    "ne = df[feature_names].copy(deep=True)\n",
    "ne.head()"
   ],
   "metadata": {
    "collapsed": false,
    "ExecuteTime": {
     "end_time": "2024-05-30T01:49:02.153782400Z",
     "start_time": "2024-05-30T01:49:00.758835700Z"
    }
   },
   "id": "9c818b396dc417fd"
  },
  {
   "cell_type": "markdown",
   "source": [
    "~~处理异常，第101维是空值~~在前面处理完成"
   ],
   "metadata": {
    "collapsed": false
   },
   "id": "285bfbee269a623f"
  },
  {
   "cell_type": "code",
   "execution_count": 17,
   "outputs": [
    {
     "data": {
      "text/plain": "   Unnamed: 0 news_id      label        sub_label  \\\n0           0  N55528  lifestyle  lifestyleroyals   \n1           1  N19639     health       weightloss   \n2           2  N61837       news        newsworld   \n3           3  N53526     health           voices   \n4           4  N38324     health          medical   \n\n                                               title  \\\n0  The Brands Queen Elizabeth, Prince Charles, an...   \n1                      50 Worst Habits For Belly Fat   \n2  The Cost of Trump's Aid Freeze in the Trenches...   \n3  I Was An NBA Wife. Here's How It Affected My M...   \n4  How to Get Rid of Skin Tags, According to a De...   \n\n                                            abstract  \\\n0  Shop the notebooks, jackets, and more that the...   \n1  These seemingly harmless habits are holding yo...   \n2  Lt. Ivan Molchanets peeked over a parapet of s...   \n3  I felt like I was a fraud, and being an NBA wi...   \n4  They seem harmless, but there's a very good re...   \n\n                                             url  \\\n0  https://assets.msn.com/labs/mind/AAGH0ET.html   \n1  https://assets.msn.com/labs/mind/AAB19MK.html   \n2  https://assets.msn.com/labs/mind/AAJgNsz.html   \n3  https://assets.msn.com/labs/mind/AACk2N6.html   \n4  https://assets.msn.com/labs/mind/AAAKEkt.html   \n\n                                        title_entity  \\\n0  [{\"Label\": \"Prince Philip, Duke of Edinburgh\",...   \n1  [{\"Label\": \"Adipose tissue\", \"Type\": \"C\", \"Wik...   \n2                                                 []   \n3                                                 []   \n4  [{\"Label\": \"Skin tag\", \"Type\": \"C\", \"WikidataI...   \n\n                                     abstract_entity  \\\n0                                                 []   \n1  [{\"Label\": \"Adipose tissue\", \"Type\": \"C\", \"Wik...   \n2  [{\"Label\": \"Ukraine\", \"Type\": \"G\", \"WikidataId...   \n3  [{\"Label\": \"National Basketball Association\", ...   \n4  [{\"Label\": \"Skin tag\", \"Type\": \"C\", \"WikidataI...   \n\n                                wikidata_confidence1  \\\n0  [('Q80976', 1.0), ('Q43274', 1.0), ('Q9682', 0...   \n1                                 [('Q193583', 1.0)]   \n2                                                 []   \n3                                                 []   \n4                                [('Q3179593', 1.0)]   \n\n                                wikidata_confidence2  \\\n0                                                 []   \n1                                 [('Q193583', 1.0)]   \n2                                  [('Q212', 0.946)]   \n3                                 [('Q155223', 1.0)]   \n4  [('Q3179593', 1.0), ('Q171171', 1.0), ('Q37182...   \n\n                                  average_embedding1  \\\n0  [ 0.00405733 -0.03991733 -0.008374    0.079142...   \n1  [-0.013597 -0.009758  0.01712  -0.051993  0.03...   \n2                                                 []   \n3                                                 []   \n4  [ 0.014257  0.018351  0.005199  0.001773  0.03...   \n\n                                  average_embedding2  \\\n0                                                 []   \n1  [-0.013597 -0.009758  0.01712  -0.051993  0.03...   \n2  [-6.53240e-02 -8.81630e-02 -1.52030e-02 -3.194...   \n3  [ 0.003752 -0.061771 -0.037073  0.02677  -0.09...   \n4  [-0.00859367 -0.000168    0.02712767 -0.043145...   \n\n                                   average_embedding  \n0  [ 0.00405733 -0.03991733 -0.008374    0.079142...  \n1  [-0.013597 -0.009758  0.01712  -0.051993  0.03...  \n2  [-6.53240e-02 -8.81630e-02 -1.52030e-02 -3.194...  \n3  [ 0.003752 -0.061771 -0.037073  0.02677  -0.09...  \n4  [ 0.00283167  0.0090915   0.01616333 -0.020686...  ",
      "text/html": "<div>\n<style scoped>\n    .dataframe tbody tr th:only-of-type {\n        vertical-align: middle;\n    }\n\n    .dataframe tbody tr th {\n        vertical-align: top;\n    }\n\n    .dataframe thead th {\n        text-align: right;\n    }\n</style>\n<table border=\"1\" class=\"dataframe\">\n  <thead>\n    <tr style=\"text-align: right;\">\n      <th></th>\n      <th>Unnamed: 0</th>\n      <th>news_id</th>\n      <th>label</th>\n      <th>sub_label</th>\n      <th>title</th>\n      <th>abstract</th>\n      <th>url</th>\n      <th>title_entity</th>\n      <th>abstract_entity</th>\n      <th>wikidata_confidence1</th>\n      <th>wikidata_confidence2</th>\n      <th>average_embedding1</th>\n      <th>average_embedding2</th>\n      <th>average_embedding</th>\n    </tr>\n  </thead>\n  <tbody>\n    <tr>\n      <th>0</th>\n      <td>0</td>\n      <td>N55528</td>\n      <td>lifestyle</td>\n      <td>lifestyleroyals</td>\n      <td>The Brands Queen Elizabeth, Prince Charles, an...</td>\n      <td>Shop the notebooks, jackets, and more that the...</td>\n      <td>https://assets.msn.com/labs/mind/AAGH0ET.html</td>\n      <td>[{\"Label\": \"Prince Philip, Duke of Edinburgh\",...</td>\n      <td>[]</td>\n      <td>[('Q80976', 1.0), ('Q43274', 1.0), ('Q9682', 0...</td>\n      <td>[]</td>\n      <td>[ 0.00405733 -0.03991733 -0.008374    0.079142...</td>\n      <td>[]</td>\n      <td>[ 0.00405733 -0.03991733 -0.008374    0.079142...</td>\n    </tr>\n    <tr>\n      <th>1</th>\n      <td>1</td>\n      <td>N19639</td>\n      <td>health</td>\n      <td>weightloss</td>\n      <td>50 Worst Habits For Belly Fat</td>\n      <td>These seemingly harmless habits are holding yo...</td>\n      <td>https://assets.msn.com/labs/mind/AAB19MK.html</td>\n      <td>[{\"Label\": \"Adipose tissue\", \"Type\": \"C\", \"Wik...</td>\n      <td>[{\"Label\": \"Adipose tissue\", \"Type\": \"C\", \"Wik...</td>\n      <td>[('Q193583', 1.0)]</td>\n      <td>[('Q193583', 1.0)]</td>\n      <td>[-0.013597 -0.009758  0.01712  -0.051993  0.03...</td>\n      <td>[-0.013597 -0.009758  0.01712  -0.051993  0.03...</td>\n      <td>[-0.013597 -0.009758  0.01712  -0.051993  0.03...</td>\n    </tr>\n    <tr>\n      <th>2</th>\n      <td>2</td>\n      <td>N61837</td>\n      <td>news</td>\n      <td>newsworld</td>\n      <td>The Cost of Trump's Aid Freeze in the Trenches...</td>\n      <td>Lt. Ivan Molchanets peeked over a parapet of s...</td>\n      <td>https://assets.msn.com/labs/mind/AAJgNsz.html</td>\n      <td>[]</td>\n      <td>[{\"Label\": \"Ukraine\", \"Type\": \"G\", \"WikidataId...</td>\n      <td>[]</td>\n      <td>[('Q212', 0.946)]</td>\n      <td>[]</td>\n      <td>[-6.53240e-02 -8.81630e-02 -1.52030e-02 -3.194...</td>\n      <td>[-6.53240e-02 -8.81630e-02 -1.52030e-02 -3.194...</td>\n    </tr>\n    <tr>\n      <th>3</th>\n      <td>3</td>\n      <td>N53526</td>\n      <td>health</td>\n      <td>voices</td>\n      <td>I Was An NBA Wife. Here's How It Affected My M...</td>\n      <td>I felt like I was a fraud, and being an NBA wi...</td>\n      <td>https://assets.msn.com/labs/mind/AACk2N6.html</td>\n      <td>[]</td>\n      <td>[{\"Label\": \"National Basketball Association\", ...</td>\n      <td>[]</td>\n      <td>[('Q155223', 1.0)]</td>\n      <td>[]</td>\n      <td>[ 0.003752 -0.061771 -0.037073  0.02677  -0.09...</td>\n      <td>[ 0.003752 -0.061771 -0.037073  0.02677  -0.09...</td>\n    </tr>\n    <tr>\n      <th>4</th>\n      <td>4</td>\n      <td>N38324</td>\n      <td>health</td>\n      <td>medical</td>\n      <td>How to Get Rid of Skin Tags, According to a De...</td>\n      <td>They seem harmless, but there's a very good re...</td>\n      <td>https://assets.msn.com/labs/mind/AAAKEkt.html</td>\n      <td>[{\"Label\": \"Skin tag\", \"Type\": \"C\", \"WikidataI...</td>\n      <td>[{\"Label\": \"Skin tag\", \"Type\": \"C\", \"WikidataI...</td>\n      <td>[('Q3179593', 1.0)]</td>\n      <td>[('Q3179593', 1.0), ('Q171171', 1.0), ('Q37182...</td>\n      <td>[ 0.014257  0.018351  0.005199  0.001773  0.03...</td>\n      <td>[-0.00859367 -0.000168    0.02712767 -0.043145...</td>\n      <td>[ 0.00283167  0.0090915   0.01616333 -0.020686...</td>\n    </tr>\n  </tbody>\n</table>\n</div>"
     },
     "execution_count": 17,
     "metadata": {},
     "output_type": "execute_result"
    }
   ],
   "source": [
    "df.head()"
   ],
   "metadata": {
    "collapsed": false,
    "ExecuteTime": {
     "end_time": "2024-05-30T01:49:04.687974100Z",
     "start_time": "2024-05-30T01:49:04.680150700Z"
    }
   },
   "id": "558dbe8d76f90afd"
  },
  {
   "cell_type": "code",
   "execution_count": 18,
   "outputs": [
    {
     "data": {
      "text/plain": "str"
     },
     "execution_count": 18,
     "metadata": {},
     "output_type": "execute_result"
    }
   ],
   "source": [
    "type(ne['average_embedding'][0])"
   ],
   "metadata": {
    "collapsed": false,
    "ExecuteTime": {
     "end_time": "2024-05-30T01:49:09.902651Z",
     "start_time": "2024-05-30T01:49:09.892454700Z"
    }
   },
   "id": "9368d8a53602cf4b"
  },
  {
   "cell_type": "code",
   "execution_count": 19,
   "outputs": [
    {
     "name": "stdout",
     "output_type": "stream",
     "text": [
      "<class 'numpy.ndarray'>\n"
     ]
    }
   ],
   "source": [
    "# 定义一个转换函数，它将字符串表示的数组转换为numpy数组\n",
    "def string_to_ndarray(string):\n",
    "    try:\n",
    "        # 移除字符串两端的方括号，然后以空格分割\n",
    "        string = string.strip('[]')\n",
    "        # 如果存在，则移除内部的换行符，并将连续空白替换为单个空格\n",
    "        string = ' '.join(string.split())\n",
    "        # 将字符串分割为一个数字字符串列表，然后转换为浮点数列表\n",
    "        float_list = np.fromstring(string, sep=' ')\n",
    "        return float_list\n",
    "    except ValueError:\n",
    "        # 如果字符串格式不正确，返回一个空的numpy数组\n",
    "        return np.array([])\n",
    "\n",
    "# 假设ne是已经读取的DataFrame，现在转换'average_embedding'列\n",
    "ne['average_embedding'] = ne['average_embedding'].apply(string_to_ndarray)\n",
    "# print(ne['average_embedding'][0])\n",
    "# 现在'average_embedding'列中的每个项应该是一个numpy.ndarray了\n",
    "# 打印出第一个元素的类型来验证\n",
    "print(type(ne['average_embedding'].iloc[0]))"
   ],
   "metadata": {
    "collapsed": false,
    "ExecuteTime": {
     "end_time": "2024-05-30T01:49:13.785571100Z",
     "start_time": "2024-05-30T01:49:12.581745Z"
    }
   },
   "id": "2259fc8e948561a8"
  },
  {
   "cell_type": "code",
   "execution_count": 20,
   "outputs": [
    {
     "name": "stdout",
     "output_type": "stream",
     "text": [
      "100\n",
      "<class 'numpy.ndarray'>\n"
     ]
    }
   ],
   "source": [
    "print(len(ne['average_embedding'][0]))\n",
    "print(type(ne['average_embedding'][0]))"
   ],
   "metadata": {
    "collapsed": false,
    "ExecuteTime": {
     "end_time": "2024-05-30T01:49:16.838884600Z",
     "start_time": "2024-05-30T01:49:16.832813100Z"
    }
   },
   "id": "f10dcfd47481fa92"
  },
  {
   "cell_type": "code",
   "execution_count": 41,
   "outputs": [
    {
     "data": {
      "text/plain": "  news_id                                          embedding\n0  N55528  [0.00405733, -0.03991733, -0.008374, 0.0791423...",
      "text/html": "<div>\n<style scoped>\n    .dataframe tbody tr th:only-of-type {\n        vertical-align: middle;\n    }\n\n    .dataframe tbody tr th {\n        vertical-align: top;\n    }\n\n    .dataframe thead th {\n        text-align: right;\n    }\n</style>\n<table border=\"1\" class=\"dataframe\">\n  <thead>\n    <tr style=\"text-align: right;\">\n      <th></th>\n      <th>news_id</th>\n      <th>embedding</th>\n    </tr>\n  </thead>\n  <tbody>\n    <tr>\n      <th>0</th>\n      <td>N55528</td>\n      <td>[0.00405733, -0.03991733, -0.008374, 0.0791423...</td>\n    </tr>\n  </tbody>\n</table>\n</div>"
     },
     "execution_count": 41,
     "metadata": {},
     "output_type": "execute_result"
    }
   ],
   "source": [
    "ne.columns = ['news_id', 'embedding']\n",
    "ne.head(1)"
   ],
   "metadata": {
    "collapsed": false,
    "ExecuteTime": {
     "end_time": "2024-05-30T01:57:55.208243800Z",
     "start_time": "2024-05-30T01:57:55.203726100Z"
    }
   },
   "id": "5710728ef363679"
  },
  {
   "cell_type": "markdown",
   "source": [
    "在这之后，ne都是可直接使用的str-ndarray数据。"
   ],
   "metadata": {
    "collapsed": false
   },
   "id": "f1495c4517997595"
  },
  {
   "cell_type": "code",
   "execution_count": 21,
   "outputs": [
    {
     "data": {
      "text/plain": "  user_id                   time  \\\n0  U13740  11/11/2019 9:05:58 AM   \n1  U91836  11/12/2019 6:11:30 PM   \n2  U73700  11/14/2019 7:01:48 AM   \n3  U34670  11/11/2019 5:28:05 AM   \n4   U8125  11/12/2019 4:11:21 PM   \n\n                                             history  \\\n0  N55189 N42782 N34694 N45794 N18445 N63302 N104...   \n1  N31739 N6072 N63045 N23979 N35656 N43353 N8129...   \n2  N10732 N25792 N7563 N21087 N41087 N5445 N60384...   \n3  N45729 N2203 N871 N53880 N41375 N43142 N33013 ...   \n4                        N10078 N56514 N14904 N33740   \n\n                                         impressions  \n0                                  N55689-1 N35729-0  \n1  N20678-0 N39317-0 N58114-0 N20495-0 N42977-0 N...  \n2  N50014-0 N23877-0 N35389-0 N49712-0 N16844-0 N...  \n3                N35729-0 N33632-0 N49685-1 N27581-0  \n4  N39985-0 N36050-0 N16096-0 N8400-1 N22407-0 N6...  ",
      "text/html": "<div>\n<style scoped>\n    .dataframe tbody tr th:only-of-type {\n        vertical-align: middle;\n    }\n\n    .dataframe tbody tr th {\n        vertical-align: top;\n    }\n\n    .dataframe thead th {\n        text-align: right;\n    }\n</style>\n<table border=\"1\" class=\"dataframe\">\n  <thead>\n    <tr style=\"text-align: right;\">\n      <th></th>\n      <th>user_id</th>\n      <th>time</th>\n      <th>history</th>\n      <th>impressions</th>\n    </tr>\n  </thead>\n  <tbody>\n    <tr>\n      <th>0</th>\n      <td>U13740</td>\n      <td>11/11/2019 9:05:58 AM</td>\n      <td>N55189 N42782 N34694 N45794 N18445 N63302 N104...</td>\n      <td>N55689-1 N35729-0</td>\n    </tr>\n    <tr>\n      <th>1</th>\n      <td>U91836</td>\n      <td>11/12/2019 6:11:30 PM</td>\n      <td>N31739 N6072 N63045 N23979 N35656 N43353 N8129...</td>\n      <td>N20678-0 N39317-0 N58114-0 N20495-0 N42977-0 N...</td>\n    </tr>\n    <tr>\n      <th>2</th>\n      <td>U73700</td>\n      <td>11/14/2019 7:01:48 AM</td>\n      <td>N10732 N25792 N7563 N21087 N41087 N5445 N60384...</td>\n      <td>N50014-0 N23877-0 N35389-0 N49712-0 N16844-0 N...</td>\n    </tr>\n    <tr>\n      <th>3</th>\n      <td>U34670</td>\n      <td>11/11/2019 5:28:05 AM</td>\n      <td>N45729 N2203 N871 N53880 N41375 N43142 N33013 ...</td>\n      <td>N35729-0 N33632-0 N49685-1 N27581-0</td>\n    </tr>\n    <tr>\n      <th>4</th>\n      <td>U8125</td>\n      <td>11/12/2019 4:11:21 PM</td>\n      <td>N10078 N56514 N14904 N33740</td>\n      <td>N39985-0 N36050-0 N16096-0 N8400-1 N22407-0 N6...</td>\n    </tr>\n  </tbody>\n</table>\n</div>"
     },
     "execution_count": 21,
     "metadata": {},
     "output_type": "execute_result"
    }
   ],
   "source": [
    "behaviors_file.head()\n",
    "feature_names = ['user_id', 'time', 'history', 'impressions']\n",
    "bf = behaviors_file[feature_names].copy()\n",
    "bf.head()"
   ],
   "metadata": {
    "collapsed": false,
    "ExecuteTime": {
     "end_time": "2024-05-30T01:49:24.367985900Z",
     "start_time": "2024-05-30T01:49:24.358218400Z"
    }
   },
   "id": "469de0653a13e50"
  },
  {
   "cell_type": "code",
   "execution_count": 22,
   "outputs": [
    {
     "name": "stdout",
     "output_type": "stream",
     "text": [
      "N55689-1 N35729-0\n",
      "<class 'str'>\n"
     ]
    }
   ],
   "source": [
    "print(bf['impressions'][0])\n",
    "print(type(bf['impressions'][0]))"
   ],
   "metadata": {
    "collapsed": false,
    "ExecuteTime": {
     "end_time": "2024-05-30T01:49:27.535026500Z",
     "start_time": "2024-05-30T01:49:27.527178300Z"
    }
   },
   "id": "f143e5e3a3f130b1"
  },
  {
   "cell_type": "code",
   "execution_count": 23,
   "outputs": [],
   "source": [
    "# 定义一个函数，用于从impression中提取被选取的物品ID\n",
    "def extract_chosen_items(impression):\n",
    "    # 将impression拆分为物品ID列表\n",
    "    items = impression.split()\n",
    "    # 过滤出被选取的物品ID\n",
    "    chosen_items = [item.split('-')[0] for item in items if item.endswith('-1')]\n",
    "    # 返回被选取的物品ID列表\n",
    "    return ', '.join(chosen_items)"
   ],
   "metadata": {
    "collapsed": false,
    "ExecuteTime": {
     "end_time": "2024-05-30T01:49:28.776872700Z",
     "start_time": "2024-05-30T01:49:28.770356100Z"
    }
   },
   "id": "d23c9b18389d8d9"
  },
  {
   "cell_type": "code",
   "execution_count": 24,
   "outputs": [],
   "source": [
    "# 使用apply方法应用上述函数到'impression'列，并创建新的choose列\n",
    "bf.loc[:, 'choose'] = bf['impressions'].apply(extract_chosen_items)\n",
    "# bf.drop('impressions', axis=1, inplace=True)"
   ],
   "metadata": {
    "collapsed": false,
    "ExecuteTime": {
     "end_time": "2024-05-30T01:49:42.965848500Z",
     "start_time": "2024-05-30T01:49:42.222651900Z"
    }
   },
   "id": "ef82cf3ffa1cd6b8"
  },
  {
   "cell_type": "markdown",
   "source": [
    "为什么会有多个choose？"
   ],
   "metadata": {
    "collapsed": false
   },
   "id": "1c02995259cd00b9"
  },
  {
   "cell_type": "code",
   "execution_count": 25,
   "outputs": [
    {
     "data": {
      "text/plain": "  user_id                   time  \\\n0  U13740  11/11/2019 9:05:58 AM   \n1  U91836  11/12/2019 6:11:30 PM   \n2  U73700  11/14/2019 7:01:48 AM   \n3  U34670  11/11/2019 5:28:05 AM   \n4   U8125  11/12/2019 4:11:21 PM   \n5  U19739  11/11/2019 6:52:13 PM   \n\n                                             history  \\\n0  N55189 N42782 N34694 N45794 N18445 N63302 N104...   \n1  N31739 N6072 N63045 N23979 N35656 N43353 N8129...   \n2  N10732 N25792 N7563 N21087 N41087 N5445 N60384...   \n3  N45729 N2203 N871 N53880 N41375 N43142 N33013 ...   \n4                        N10078 N56514 N14904 N33740   \n5  N39074 N14343 N32607 N32320 N22007 N442 N19001...   \n\n                                         impressions          choose  \n0                                  N55689-1 N35729-0          N55689  \n1  N20678-0 N39317-0 N58114-0 N20495-0 N42977-0 N...          N17059  \n2  N50014-0 N23877-0 N35389-0 N49712-0 N16844-0 N...          N23814  \n3                N35729-0 N33632-0 N49685-1 N27581-0          N49685  \n4  N39985-0 N36050-0 N16096-0 N8400-1 N22407-0 N6...           N8400  \n5        N21119-1 N53696-0 N33619-1 N25722-0 N2869-0  N21119, N33619  ",
      "text/html": "<div>\n<style scoped>\n    .dataframe tbody tr th:only-of-type {\n        vertical-align: middle;\n    }\n\n    .dataframe tbody tr th {\n        vertical-align: top;\n    }\n\n    .dataframe thead th {\n        text-align: right;\n    }\n</style>\n<table border=\"1\" class=\"dataframe\">\n  <thead>\n    <tr style=\"text-align: right;\">\n      <th></th>\n      <th>user_id</th>\n      <th>time</th>\n      <th>history</th>\n      <th>impressions</th>\n      <th>choose</th>\n    </tr>\n  </thead>\n  <tbody>\n    <tr>\n      <th>0</th>\n      <td>U13740</td>\n      <td>11/11/2019 9:05:58 AM</td>\n      <td>N55189 N42782 N34694 N45794 N18445 N63302 N104...</td>\n      <td>N55689-1 N35729-0</td>\n      <td>N55689</td>\n    </tr>\n    <tr>\n      <th>1</th>\n      <td>U91836</td>\n      <td>11/12/2019 6:11:30 PM</td>\n      <td>N31739 N6072 N63045 N23979 N35656 N43353 N8129...</td>\n      <td>N20678-0 N39317-0 N58114-0 N20495-0 N42977-0 N...</td>\n      <td>N17059</td>\n    </tr>\n    <tr>\n      <th>2</th>\n      <td>U73700</td>\n      <td>11/14/2019 7:01:48 AM</td>\n      <td>N10732 N25792 N7563 N21087 N41087 N5445 N60384...</td>\n      <td>N50014-0 N23877-0 N35389-0 N49712-0 N16844-0 N...</td>\n      <td>N23814</td>\n    </tr>\n    <tr>\n      <th>3</th>\n      <td>U34670</td>\n      <td>11/11/2019 5:28:05 AM</td>\n      <td>N45729 N2203 N871 N53880 N41375 N43142 N33013 ...</td>\n      <td>N35729-0 N33632-0 N49685-1 N27581-0</td>\n      <td>N49685</td>\n    </tr>\n    <tr>\n      <th>4</th>\n      <td>U8125</td>\n      <td>11/12/2019 4:11:21 PM</td>\n      <td>N10078 N56514 N14904 N33740</td>\n      <td>N39985-0 N36050-0 N16096-0 N8400-1 N22407-0 N6...</td>\n      <td>N8400</td>\n    </tr>\n    <tr>\n      <th>5</th>\n      <td>U19739</td>\n      <td>11/11/2019 6:52:13 PM</td>\n      <td>N39074 N14343 N32607 N32320 N22007 N442 N19001...</td>\n      <td>N21119-1 N53696-0 N33619-1 N25722-0 N2869-0</td>\n      <td>N21119, N33619</td>\n    </tr>\n  </tbody>\n</table>\n</div>"
     },
     "execution_count": 25,
     "metadata": {},
     "output_type": "execute_result"
    }
   ],
   "source": [
    "bf.head(6)"
   ],
   "metadata": {
    "collapsed": false,
    "ExecuteTime": {
     "end_time": "2024-05-30T01:49:46.038033200Z",
     "start_time": "2024-05-30T01:49:46.011919100Z"
    }
   },
   "id": "df084e416fb7f5de"
  },
  {
   "cell_type": "code",
   "execution_count": 26,
   "outputs": [
    {
     "data": {
      "text/plain": "                          time  \\\nuser_id                          \n2        11/13/2019 5:06:59 AM   \n2        11/12/2019 4:50:07 AM   \n2        11/12/2019 4:31:13 AM   \n6        11/12/2019 1:27:46 PM   \n6        11/10/2019 2:07:23 PM   \n\n                                                   history  \\\nuser_id                                                      \n2        N58584 N12900 N6233 N51706 N18777 N593 N16793 ...   \n2        N58584 N12900 N6233 N51706 N18777 N593 N16793 ...   \n2        N58584 N12900 N6233 N51706 N18777 N593 N16793 ...   \n6        N56586 N3046 N4209 N22293 N40545 N44495 N38659...   \n6        N56586 N3046 N4209 N22293 N40545 N44495 N38659...   \n\n                                               impressions  \\\nuser_id                                                      \n2        N45266-0 N20076-0 N22230-0 N62128-0 N13579-0 N...   \n2        N20527-0 N20041-0 N14184-0 N28847-0 N25722-0 N...   \n2                                        N20079-1 N33619-0   \n6        N23593-0 N51285-0 N45422-0 N33212-0 N64851-0 N...   \n6        N350-0 N15855-0 N23784-0 N7128-0 N28413-0 N288...   \n\n                                 choose  \nuser_id                                  \n2                                N28213  \n2                        N31978, N57809  \n2                                N20079  \n6                         N62360, N3123  \n6        N33981, N44324, N22061, N58183  ",
      "text/html": "<div>\n<style scoped>\n    .dataframe tbody tr th:only-of-type {\n        vertical-align: middle;\n    }\n\n    .dataframe tbody tr th {\n        vertical-align: top;\n    }\n\n    .dataframe thead th {\n        text-align: right;\n    }\n</style>\n<table border=\"1\" class=\"dataframe\">\n  <thead>\n    <tr style=\"text-align: right;\">\n      <th></th>\n      <th>time</th>\n      <th>history</th>\n      <th>impressions</th>\n      <th>choose</th>\n    </tr>\n    <tr>\n      <th>user_id</th>\n      <th></th>\n      <th></th>\n      <th></th>\n      <th></th>\n    </tr>\n  </thead>\n  <tbody>\n    <tr>\n      <th>2</th>\n      <td>11/13/2019 5:06:59 AM</td>\n      <td>N58584 N12900 N6233 N51706 N18777 N593 N16793 ...</td>\n      <td>N45266-0 N20076-0 N22230-0 N62128-0 N13579-0 N...</td>\n      <td>N28213</td>\n    </tr>\n    <tr>\n      <th>2</th>\n      <td>11/12/2019 4:50:07 AM</td>\n      <td>N58584 N12900 N6233 N51706 N18777 N593 N16793 ...</td>\n      <td>N20527-0 N20041-0 N14184-0 N28847-0 N25722-0 N...</td>\n      <td>N31978, N57809</td>\n    </tr>\n    <tr>\n      <th>2</th>\n      <td>11/12/2019 4:31:13 AM</td>\n      <td>N58584 N12900 N6233 N51706 N18777 N593 N16793 ...</td>\n      <td>N20079-1 N33619-0</td>\n      <td>N20079</td>\n    </tr>\n    <tr>\n      <th>6</th>\n      <td>11/12/2019 1:27:46 PM</td>\n      <td>N56586 N3046 N4209 N22293 N40545 N44495 N38659...</td>\n      <td>N23593-0 N51285-0 N45422-0 N33212-0 N64851-0 N...</td>\n      <td>N62360, N3123</td>\n    </tr>\n    <tr>\n      <th>6</th>\n      <td>11/10/2019 2:07:23 PM</td>\n      <td>N56586 N3046 N4209 N22293 N40545 N44495 N38659...</td>\n      <td>N350-0 N15855-0 N23784-0 N7128-0 N28413-0 N288...</td>\n      <td>N33981, N44324, N22061, N58183</td>\n    </tr>\n  </tbody>\n</table>\n</div>"
     },
     "execution_count": 26,
     "metadata": {},
     "output_type": "execute_result"
    }
   ],
   "source": [
    "# 修改user_id列，去掉前缀\"U\"并保留数字\n",
    "bf['user_id'] = bf['user_id'].str.replace('U', '').astype(int)\n",
    "# 按照修改后的user_id列进行排序\n",
    "bf = bf.sort_values(by='user_id')\n",
    "bf.set_index('user_id', inplace=True)\n",
    "bf.head()"
   ],
   "metadata": {
    "collapsed": false,
    "ExecuteTime": {
     "end_time": "2024-05-30T01:49:56.159136700Z",
     "start_time": "2024-05-30T01:49:56.100060200Z"
    }
   },
   "id": "7ba5e4c9f312d34f"
  },
  {
   "cell_type": "markdown",
   "source": [
    "统计日期区间,一共就6天，最多比较短期兴趣和中期兴趣"
   ],
   "metadata": {
    "collapsed": false
   },
   "id": "5e53598a7d45c1ea"
  },
  {
   "cell_type": "code",
   "execution_count": 27,
   "outputs": [],
   "source": [
    "# 将 'time' 列转换为 datetime 类型\n",
    "bf['time'] = pd.to_datetime(bf['time'])\n",
    "\n",
    "# 找到最大和最小日期\n",
    "min_date = bf['time'].min()\n",
    "max_date = bf['time'].max()"
   ],
   "metadata": {
    "collapsed": false,
    "ExecuteTime": {
     "end_time": "2024-05-30T01:50:08.332854600Z",
     "start_time": "2024-05-30T01:50:07.973750900Z"
    }
   },
   "id": "d49a2b7dcf93cd84"
  },
  {
   "cell_type": "code",
   "execution_count": 28,
   "outputs": [
    {
     "name": "stdout",
     "output_type": "stream",
     "text": [
      "最小日期: 2019-11-09 00:00:19\n",
      "最大日期: 2019-11-14 23:59:13\n"
     ]
    }
   ],
   "source": [
    "print(f\"最小日期: {min_date}\")\n",
    "print(f\"最大日期: {max_date}\")"
   ],
   "metadata": {
    "collapsed": false,
    "ExecuteTime": {
     "end_time": "2024-05-30T01:50:08.891943900Z",
     "start_time": "2024-05-30T01:50:08.885411500Z"
    }
   },
   "id": "ca2238d5e6af3051"
  },
  {
   "cell_type": "code",
   "execution_count": 29,
   "outputs": [
    {
     "data": {
      "text/plain": "                       time  \\\nuser_id                       \n2       2019-11-13 05:06:59   \n2       2019-11-12 04:50:07   \n2       2019-11-12 04:31:13   \n6       2019-11-12 13:27:46   \n6       2019-11-10 14:07:23   \n\n                                                   history  \\\nuser_id                                                      \n2        N58584 N12900 N6233 N51706 N18777 N593 N16793 ...   \n2        N58584 N12900 N6233 N51706 N18777 N593 N16793 ...   \n2        N58584 N12900 N6233 N51706 N18777 N593 N16793 ...   \n6        N56586 N3046 N4209 N22293 N40545 N44495 N38659...   \n6        N56586 N3046 N4209 N22293 N40545 N44495 N38659...   \n\n                                               impressions  \\\nuser_id                                                      \n2        N45266-0 N20076-0 N22230-0 N62128-0 N13579-0 N...   \n2        N20527-0 N20041-0 N14184-0 N28847-0 N25722-0 N...   \n2                                        N20079-1 N33619-0   \n6        N23593-0 N51285-0 N45422-0 N33212-0 N64851-0 N...   \n6        N350-0 N15855-0 N23784-0 N7128-0 N28413-0 N288...   \n\n                                 choose  \nuser_id                                  \n2                                N28213  \n2                        N31978, N57809  \n2                                N20079  \n6                         N62360, N3123  \n6        N33981, N44324, N22061, N58183  ",
      "text/html": "<div>\n<style scoped>\n    .dataframe tbody tr th:only-of-type {\n        vertical-align: middle;\n    }\n\n    .dataframe tbody tr th {\n        vertical-align: top;\n    }\n\n    .dataframe thead th {\n        text-align: right;\n    }\n</style>\n<table border=\"1\" class=\"dataframe\">\n  <thead>\n    <tr style=\"text-align: right;\">\n      <th></th>\n      <th>time</th>\n      <th>history</th>\n      <th>impressions</th>\n      <th>choose</th>\n    </tr>\n    <tr>\n      <th>user_id</th>\n      <th></th>\n      <th></th>\n      <th></th>\n      <th></th>\n    </tr>\n  </thead>\n  <tbody>\n    <tr>\n      <th>2</th>\n      <td>2019-11-13 05:06:59</td>\n      <td>N58584 N12900 N6233 N51706 N18777 N593 N16793 ...</td>\n      <td>N45266-0 N20076-0 N22230-0 N62128-0 N13579-0 N...</td>\n      <td>N28213</td>\n    </tr>\n    <tr>\n      <th>2</th>\n      <td>2019-11-12 04:50:07</td>\n      <td>N58584 N12900 N6233 N51706 N18777 N593 N16793 ...</td>\n      <td>N20527-0 N20041-0 N14184-0 N28847-0 N25722-0 N...</td>\n      <td>N31978, N57809</td>\n    </tr>\n    <tr>\n      <th>2</th>\n      <td>2019-11-12 04:31:13</td>\n      <td>N58584 N12900 N6233 N51706 N18777 N593 N16793 ...</td>\n      <td>N20079-1 N33619-0</td>\n      <td>N20079</td>\n    </tr>\n    <tr>\n      <th>6</th>\n      <td>2019-11-12 13:27:46</td>\n      <td>N56586 N3046 N4209 N22293 N40545 N44495 N38659...</td>\n      <td>N23593-0 N51285-0 N45422-0 N33212-0 N64851-0 N...</td>\n      <td>N62360, N3123</td>\n    </tr>\n    <tr>\n      <th>6</th>\n      <td>2019-11-10 14:07:23</td>\n      <td>N56586 N3046 N4209 N22293 N40545 N44495 N38659...</td>\n      <td>N350-0 N15855-0 N23784-0 N7128-0 N28413-0 N288...</td>\n      <td>N33981, N44324, N22061, N58183</td>\n    </tr>\n  </tbody>\n</table>\n</div>"
     },
     "execution_count": 29,
     "metadata": {},
     "output_type": "execute_result"
    }
   ],
   "source": [
    "bf.head()"
   ],
   "metadata": {
    "collapsed": false,
    "ExecuteTime": {
     "end_time": "2024-05-30T01:50:10.643684Z",
     "start_time": "2024-05-30T01:50:10.639204400Z"
    }
   },
   "id": "dfd07c540e5d6acc"
  },
  {
   "cell_type": "markdown",
   "source": [
    "## 用户分析\n",
    "单个用户的交互太少了，没有办法划分出长期，中期，短期兴趣\n",
    "一共有5W个用户"
   ],
   "metadata": {
    "collapsed": false
   },
   "id": "b1655dc5bbaec403"
  },
  {
   "cell_type": "code",
   "execution_count": 30,
   "outputs": [],
   "source": [
    "# 统计每个user_id有多少行\n",
    "user_id_counts = bf.groupby('user_id').size()"
   ],
   "metadata": {
    "collapsed": false,
    "ExecuteTime": {
     "end_time": "2024-05-30T01:50:12.456054Z",
     "start_time": "2024-05-30T01:50:12.440176900Z"
    }
   },
   "id": "24ae8bde3d71255c"
  },
  {
   "cell_type": "code",
   "execution_count": 31,
   "outputs": [
    {
     "data": {
      "text/plain": "   user_id  count\n0        2      3\n1        6     13\n2        7      3\n3        8      2\n4        9      1",
      "text/html": "<div>\n<style scoped>\n    .dataframe tbody tr th:only-of-type {\n        vertical-align: middle;\n    }\n\n    .dataframe tbody tr th {\n        vertical-align: top;\n    }\n\n    .dataframe thead th {\n        text-align: right;\n    }\n</style>\n<table border=\"1\" class=\"dataframe\">\n  <thead>\n    <tr style=\"text-align: right;\">\n      <th></th>\n      <th>user_id</th>\n      <th>count</th>\n    </tr>\n  </thead>\n  <tbody>\n    <tr>\n      <th>0</th>\n      <td>2</td>\n      <td>3</td>\n    </tr>\n    <tr>\n      <th>1</th>\n      <td>6</td>\n      <td>13</td>\n    </tr>\n    <tr>\n      <th>2</th>\n      <td>7</td>\n      <td>3</td>\n    </tr>\n    <tr>\n      <th>3</th>\n      <td>8</td>\n      <td>2</td>\n    </tr>\n    <tr>\n      <th>4</th>\n      <td>9</td>\n      <td>1</td>\n    </tr>\n  </tbody>\n</table>\n</div>"
     },
     "execution_count": 31,
     "metadata": {},
     "output_type": "execute_result"
    }
   ],
   "source": [
    "uc = user_id_counts.reset_index()\n",
    "uc.columns = ['user_id', 'count']\n",
    "uc.head()"
   ],
   "metadata": {
    "collapsed": false,
    "ExecuteTime": {
     "end_time": "2024-05-30T01:50:13.759022900Z",
     "start_time": "2024-05-30T01:50:13.753080400Z"
    }
   },
   "id": "c70d77fac712d594"
  },
  {
   "cell_type": "markdown",
   "source": [
    "平均每个用户只有3.14个交互\n",
    "最小1最大62中位数2"
   ],
   "metadata": {
    "collapsed": false
   },
   "id": "e971b0c7774abf3a"
  },
  {
   "cell_type": "code",
   "execution_count": 32,
   "outputs": [
    {
     "data": {
      "text/plain": "            user_id         count\ncount  50000.000000  50000.000000\nmean   47060.916280      3.139300\nstd    27176.022621      3.001026\nmin        2.000000      1.000000\n25%    23460.500000      1.000000\n50%    47203.500000      2.000000\n75%    70706.000000      4.000000\nmax    94056.000000     62.000000",
      "text/html": "<div>\n<style scoped>\n    .dataframe tbody tr th:only-of-type {\n        vertical-align: middle;\n    }\n\n    .dataframe tbody tr th {\n        vertical-align: top;\n    }\n\n    .dataframe thead th {\n        text-align: right;\n    }\n</style>\n<table border=\"1\" class=\"dataframe\">\n  <thead>\n    <tr style=\"text-align: right;\">\n      <th></th>\n      <th>user_id</th>\n      <th>count</th>\n    </tr>\n  </thead>\n  <tbody>\n    <tr>\n      <th>count</th>\n      <td>50000.000000</td>\n      <td>50000.000000</td>\n    </tr>\n    <tr>\n      <th>mean</th>\n      <td>47060.916280</td>\n      <td>3.139300</td>\n    </tr>\n    <tr>\n      <th>std</th>\n      <td>27176.022621</td>\n      <td>3.001026</td>\n    </tr>\n    <tr>\n      <th>min</th>\n      <td>2.000000</td>\n      <td>1.000000</td>\n    </tr>\n    <tr>\n      <th>25%</th>\n      <td>23460.500000</td>\n      <td>1.000000</td>\n    </tr>\n    <tr>\n      <th>50%</th>\n      <td>47203.500000</td>\n      <td>2.000000</td>\n    </tr>\n    <tr>\n      <th>75%</th>\n      <td>70706.000000</td>\n      <td>4.000000</td>\n    </tr>\n    <tr>\n      <th>max</th>\n      <td>94056.000000</td>\n      <td>62.000000</td>\n    </tr>\n  </tbody>\n</table>\n</div>"
     },
     "execution_count": 32,
     "metadata": {},
     "output_type": "execute_result"
    }
   ],
   "source": [
    "uc.describe()"
   ],
   "metadata": {
    "collapsed": false,
    "ExecuteTime": {
     "end_time": "2024-05-30T01:50:16.568229Z",
     "start_time": "2024-05-30T01:50:16.558419600Z"
    }
   },
   "id": "1bcfa011895ac8ac"
  },
  {
   "cell_type": "code",
   "execution_count": 33,
   "outputs": [],
   "source": [
    "# 使用cut函数将count1的值分到不同的区间\n",
    "bins = np.arange(1, 80, 10)  # 创建区间边界，从1开始，到80结束，步长为10\n",
    "labels = [f'{bins[i]}-{bins[i+1]-1}' for i in range(len(bins)-1)]  # 创建区间标签\n",
    "\n",
    "uc['count_range'] = pd.cut(uc['count'], bins=bins, labels=labels, include_lowest=True)\n",
    "\n",
    "# 统计每个区间的user_id数量\n",
    "count_range_counts = uc['count_range'].value_counts()"
   ],
   "metadata": {
    "collapsed": false,
    "ExecuteTime": {
     "end_time": "2024-05-30T01:50:18.380804200Z",
     "start_time": "2024-05-30T01:50:18.374264400Z"
    }
   },
   "id": "32f993ff97fac2b4"
  },
  {
   "cell_type": "markdown",
   "source": [
    "用户交互数（活跃度）分布图"
   ],
   "metadata": {
    "collapsed": false
   },
   "id": "c3a2efefd0253dc5"
  },
  {
   "cell_type": "code",
   "execution_count": 34,
   "outputs": [
    {
     "data": {
      "text/plain": "count_range\n1-10     48817\n11-20     1065\n21-30       94\n31-40       22\n41-50        1\n61-70        1\n51-60        0\nName: count, dtype: int64"
     },
     "execution_count": 34,
     "metadata": {},
     "output_type": "execute_result"
    }
   ],
   "source": [
    "count_range_counts"
   ],
   "metadata": {
    "collapsed": false,
    "ExecuteTime": {
     "end_time": "2024-05-30T01:50:20.506698900Z",
     "start_time": "2024-05-30T01:50:20.502794500Z"
    }
   },
   "id": "3b2e65500386765e"
  },
  {
   "cell_type": "code",
   "execution_count": 35,
   "outputs": [
    {
     "data": {
      "text/plain": "<Figure size 1000x400 with 1 Axes>",
      "image/png": "[encoded data removed]"
     },
     "metadata": {},
     "output_type": "display_data"
    }
   ],
   "source": [
    "import matplotlib.pyplot as plt\n",
    "# 创建直方图\n",
    "plt.figure(figsize=(10, 4))  # 设置图形大小\n",
    "bars = count_range_counts.plot(kind='bar', color='skyblue')  # 绘制条形图\n",
    "\n",
    "# 添加标题和轴标签\n",
    "plt.title('Distribution of User Counts by Range')  # 设置标题\n",
    "plt.xlabel('Count Range')  # 设置x轴标签\n",
    "plt.ylabel('Number of Users')  # 设置y轴标签\n",
    "\n",
    "# 计算总用户数\n",
    "total_users = count_range_counts.sum()\n",
    "\n",
    "# 在每个条形上添加百分比\n",
    "for bar in bars.patches:\n",
    "    # 计算百分比\n",
    "    percentage = (bar.get_height() / total_users) * 100\n",
    "    # 在条形图上添加文本\n",
    "    plt.text(bar.get_x() + bar.get_width() / 2,  # x位置，位于条形中心\n",
    "             bar.get_height(),  # y位置，位于条形顶部\n",
    "             f'{percentage:.3f}%',  # 文本内容，百分比格式\n",
    "             ha='center',  # 水平对齐方式\n",
    "             va='bottom',  # 垂直对齐方式\n",
    "             color='black',  # 文本颜色\n",
    "             fontsize=10)  # 字体大小\n",
    "\n",
    "# 显示图形\n",
    "plt.show()"
   ],
   "metadata": {
    "collapsed": false,
    "ExecuteTime": {
     "end_time": "2024-05-30T01:50:24.315989600Z",
     "start_time": "2024-05-30T01:50:23.742474700Z"
    }
   },
   "id": "5b2dd5f8829bd101"
  },
  {
   "cell_type": "markdown",
   "source": [
    "## 表2 活跃用户行为表"
   ],
   "metadata": {
    "collapsed": false
   },
   "id": "8d520d7f3a6cd791"
  },
  {
   "cell_type": "markdown",
   "source": [
    "先筛选出交互大于20的用户，再筛选时间间隔,间隔小,一共只有6天，该数据集，应该不符合长中短期兴趣"
   ],
   "metadata": {
    "collapsed": false
   },
   "id": "34727086f587f6b1"
  },
  {
   "cell_type": "code",
   "execution_count": 36,
   "outputs": [],
   "source": [
    "# 将bf和uc按照user_id进行左连接\n",
    "merged_df = pd.merge(bf, uc, on='user_id', how='left')\n",
    "\n",
    "# 使用query方法筛选出count大于等于20的行\n",
    "trimmed_bf = merged_df.query('count >= 20')"
   ],
   "metadata": {
    "collapsed": false,
    "ExecuteTime": {
     "end_time": "2024-05-30T01:50:26.290562600Z",
     "start_time": "2024-05-30T01:50:26.255623100Z"
    }
   },
   "id": "18000ea6138b7e91"
  },
  {
   "cell_type": "code",
   "execution_count": 37,
   "outputs": [
    {
     "data": {
      "text/plain": "     user_id                time  \\\n465      287 2019-11-12 06:04:22   \n466      287 2019-11-14 08:06:16   \n467      287 2019-11-09 15:08:20   \n468      287 2019-11-10 23:24:46   \n469      287 2019-11-14 07:26:00   \n\n                                               history  \\\n465  N6466 N53954 N51163 N26618 N55743 N44796 N5670...   \n466  N6466 N53954 N51163 N26618 N55743 N44796 N5670...   \n467  N6466 N53954 N51163 N26618 N55743 N44796 N5670...   \n468  N6466 N53954 N51163 N26618 N55743 N44796 N5670...   \n469  N6466 N53954 N51163 N26618 N55743 N44796 N5670...   \n\n                                           impressions  choose  count  \\\n465                                  N33619-1 N49180-0  N33619     20   \n466                                  N23446-0 N38779-1  N38779     20   \n467  N8929-0 N43595-0 N5442-0 N60374-0 N27845-0 N18...  N18870     20   \n468  N27486-0 N63646-0 N50060-1 N28047-0 N27581-0 N...  N50060     20   \n469  N48017-0 N47098-1 N49712-0 N50872-0 N51570-0 N...  N47098     20   \n\n    count_range  \n465       11-20  \n466       11-20  \n467       11-20  \n468       11-20  \n469       11-20  ",
      "text/html": "<div>\n<style scoped>\n    .dataframe tbody tr th:only-of-type {\n        vertical-align: middle;\n    }\n\n    .dataframe tbody tr th {\n        vertical-align: top;\n    }\n\n    .dataframe thead th {\n        text-align: right;\n    }\n</style>\n<table border=\"1\" class=\"dataframe\">\n  <thead>\n    <tr style=\"text-align: right;\">\n      <th></th>\n      <th>user_id</th>\n      <th>time</th>\n      <th>history</th>\n      <th>impressions</th>\n      <th>choose</th>\n      <th>count</th>\n      <th>count_range</th>\n    </tr>\n  </thead>\n  <tbody>\n    <tr>\n      <th>465</th>\n      <td>287</td>\n      <td>2019-11-12 06:04:22</td>\n      <td>N6466 N53954 N51163 N26618 N55743 N44796 N5670...</td>\n      <td>N33619-1 N49180-0</td>\n      <td>N33619</td>\n      <td>20</td>\n      <td>11-20</td>\n    </tr>\n    <tr>\n      <th>466</th>\n      <td>287</td>\n      <td>2019-11-14 08:06:16</td>\n      <td>N6466 N53954 N51163 N26618 N55743 N44796 N5670...</td>\n      <td>N23446-0 N38779-1</td>\n      <td>N38779</td>\n      <td>20</td>\n      <td>11-20</td>\n    </tr>\n    <tr>\n      <th>467</th>\n      <td>287</td>\n      <td>2019-11-09 15:08:20</td>\n      <td>N6466 N53954 N51163 N26618 N55743 N44796 N5670...</td>\n      <td>N8929-0 N43595-0 N5442-0 N60374-0 N27845-0 N18...</td>\n      <td>N18870</td>\n      <td>20</td>\n      <td>11-20</td>\n    </tr>\n    <tr>\n      <th>468</th>\n      <td>287</td>\n      <td>2019-11-10 23:24:46</td>\n      <td>N6466 N53954 N51163 N26618 N55743 N44796 N5670...</td>\n      <td>N27486-0 N63646-0 N50060-1 N28047-0 N27581-0 N...</td>\n      <td>N50060</td>\n      <td>20</td>\n      <td>11-20</td>\n    </tr>\n    <tr>\n      <th>469</th>\n      <td>287</td>\n      <td>2019-11-14 07:26:00</td>\n      <td>N6466 N53954 N51163 N26618 N55743 N44796 N5670...</td>\n      <td>N48017-0 N47098-1 N49712-0 N50872-0 N51570-0 N...</td>\n      <td>N47098</td>\n      <td>20</td>\n      <td>11-20</td>\n    </tr>\n  </tbody>\n</table>\n</div>"
     },
     "execution_count": 37,
     "metadata": {},
     "output_type": "execute_result"
    }
   ],
   "source": [
    "trimmed_bf.head()"
   ],
   "metadata": {
    "collapsed": false,
    "ExecuteTime": {
     "end_time": "2024-05-30T01:50:28.191812900Z",
     "start_time": "2024-05-30T01:50:28.185962800Z"
    }
   },
   "id": "c15cbd947fa17eb2"
  },
  {
   "cell_type": "markdown",
   "source": [
    "把impressions中的-0-1去掉"
   ],
   "metadata": {
    "collapsed": false
   },
   "id": "bfc217f309969cbd"
  },
  {
   "cell_type": "code",
   "execution_count": 38,
   "outputs": [
    {
     "data": {
      "text/plain": "     user_id                time  \\\n465      287 2019-11-12 06:04:22   \n466      287 2019-11-14 08:06:16   \n467      287 2019-11-09 15:08:20   \n468      287 2019-11-10 23:24:46   \n469      287 2019-11-14 07:26:00   \n\n                                               history  \\\n465  N6466 N53954 N51163 N26618 N55743 N44796 N5670...   \n466  N6466 N53954 N51163 N26618 N55743 N44796 N5670...   \n467  N6466 N53954 N51163 N26618 N55743 N44796 N5670...   \n468  N6466 N53954 N51163 N26618 N55743 N44796 N5670...   \n469  N6466 N53954 N51163 N26618 N55743 N44796 N5670...   \n\n                                           impressions  choose  count  \\\n465                                      N33619 N49180  N33619     20   \n466                                      N23446 N38779  N38779     20   \n467  N8929 N43595 N5442 N60374 N27845 N18870 N3930 ...  N18870     20   \n468  N27486 N63646 N50060 N28047 N27581 N31273 N430...  N50060     20   \n469  N48017 N47098 N49712 N50872 N51570 N46821 N234...  N47098     20   \n\n    count_range  \n465       11-20  \n466       11-20  \n467       11-20  \n468       11-20  \n469       11-20  ",
      "text/html": "<div>\n<style scoped>\n    .dataframe tbody tr th:only-of-type {\n        vertical-align: middle;\n    }\n\n    .dataframe tbody tr th {\n        vertical-align: top;\n    }\n\n    .dataframe thead th {\n        text-align: right;\n    }\n</style>\n<table border=\"1\" class=\"dataframe\">\n  <thead>\n    <tr style=\"text-align: right;\">\n      <th></th>\n      <th>user_id</th>\n      <th>time</th>\n      <th>history</th>\n      <th>impressions</th>\n      <th>choose</th>\n      <th>count</th>\n      <th>count_range</th>\n    </tr>\n  </thead>\n  <tbody>\n    <tr>\n      <th>465</th>\n      <td>287</td>\n      <td>2019-11-12 06:04:22</td>\n      <td>N6466 N53954 N51163 N26618 N55743 N44796 N5670...</td>\n      <td>N33619 N49180</td>\n      <td>N33619</td>\n      <td>20</td>\n      <td>11-20</td>\n    </tr>\n    <tr>\n      <th>466</th>\n      <td>287</td>\n      <td>2019-11-14 08:06:16</td>\n      <td>N6466 N53954 N51163 N26618 N55743 N44796 N5670...</td>\n      <td>N23446 N38779</td>\n      <td>N38779</td>\n      <td>20</td>\n      <td>11-20</td>\n    </tr>\n    <tr>\n      <th>467</th>\n      <td>287</td>\n      <td>2019-11-09 15:08:20</td>\n      <td>N6466 N53954 N51163 N26618 N55743 N44796 N5670...</td>\n      <td>N8929 N43595 N5442 N60374 N27845 N18870 N3930 ...</td>\n      <td>N18870</td>\n      <td>20</td>\n      <td>11-20</td>\n    </tr>\n    <tr>\n      <th>468</th>\n      <td>287</td>\n      <td>2019-11-10 23:24:46</td>\n      <td>N6466 N53954 N51163 N26618 N55743 N44796 N5670...</td>\n      <td>N27486 N63646 N50060 N28047 N27581 N31273 N430...</td>\n      <td>N50060</td>\n      <td>20</td>\n      <td>11-20</td>\n    </tr>\n    <tr>\n      <th>469</th>\n      <td>287</td>\n      <td>2019-11-14 07:26:00</td>\n      <td>N6466 N53954 N51163 N26618 N55743 N44796 N5670...</td>\n      <td>N48017 N47098 N49712 N50872 N51570 N46821 N234...</td>\n      <td>N47098</td>\n      <td>20</td>\n      <td>11-20</td>\n    </tr>\n  </tbody>\n</table>\n</div>"
     },
     "execution_count": 38,
     "metadata": {},
     "output_type": "execute_result"
    }
   ],
   "source": [
    "trimmed_bf.loc[:, 'impressions'] = trimmed_bf['impressions'].apply(lambda x: ' '.join([item.split('-')[0] for item in x.split(' ')]))\n",
    "\n",
    "trimmed_bf.head()"
   ],
   "metadata": {
    "collapsed": false,
    "ExecuteTime": {
     "end_time": "2024-05-30T01:50:35.142495300Z",
     "start_time": "2024-05-30T01:50:35.129766100Z"
    }
   },
   "id": "d6b55b3e3ec2fbe0"
  },
  {
   "cell_type": "code",
   "execution_count": 39,
   "outputs": [
    {
     "data": {
      "text/plain": "     user_id                time  choose  \\\n465      287 2019-11-12 06:04:22  N33619   \n466      287 2019-11-14 08:06:16  N38779   \n467      287 2019-11-09 15:08:20  N18870   \n468      287 2019-11-10 23:24:46  N50060   \n469      287 2019-11-14 07:26:00  N47098   \n\n                                           impressions  \\\n465                                      N33619 N49180   \n466                                      N23446 N38779   \n467  N8929 N43595 N5442 N60374 N27845 N18870 N3930 ...   \n468  N27486 N63646 N50060 N28047 N27581 N31273 N430...   \n469  N48017 N47098 N49712 N50872 N51570 N46821 N234...   \n\n                                               history  \n465  N6466 N53954 N51163 N26618 N55743 N44796 N5670...  \n466  N6466 N53954 N51163 N26618 N55743 N44796 N5670...  \n467  N6466 N53954 N51163 N26618 N55743 N44796 N5670...  \n468  N6466 N53954 N51163 N26618 N55743 N44796 N5670...  \n469  N6466 N53954 N51163 N26618 N55743 N44796 N5670...  ",
      "text/html": "<div>\n<style scoped>\n    .dataframe tbody tr th:only-of-type {\n        vertical-align: middle;\n    }\n\n    .dataframe tbody tr th {\n        vertical-align: top;\n    }\n\n    .dataframe thead th {\n        text-align: right;\n    }\n</style>\n<table border=\"1\" class=\"dataframe\">\n  <thead>\n    <tr style=\"text-align: right;\">\n      <th></th>\n      <th>user_id</th>\n      <th>time</th>\n      <th>choose</th>\n      <th>impressions</th>\n      <th>history</th>\n    </tr>\n  </thead>\n  <tbody>\n    <tr>\n      <th>465</th>\n      <td>287</td>\n      <td>2019-11-12 06:04:22</td>\n      <td>N33619</td>\n      <td>N33619 N49180</td>\n      <td>N6466 N53954 N51163 N26618 N55743 N44796 N5670...</td>\n    </tr>\n    <tr>\n      <th>466</th>\n      <td>287</td>\n      <td>2019-11-14 08:06:16</td>\n      <td>N38779</td>\n      <td>N23446 N38779</td>\n      <td>N6466 N53954 N51163 N26618 N55743 N44796 N5670...</td>\n    </tr>\n    <tr>\n      <th>467</th>\n      <td>287</td>\n      <td>2019-11-09 15:08:20</td>\n      <td>N18870</td>\n      <td>N8929 N43595 N5442 N60374 N27845 N18870 N3930 ...</td>\n      <td>N6466 N53954 N51163 N26618 N55743 N44796 N5670...</td>\n    </tr>\n    <tr>\n      <th>468</th>\n      <td>287</td>\n      <td>2019-11-10 23:24:46</td>\n      <td>N50060</td>\n      <td>N27486 N63646 N50060 N28047 N27581 N31273 N430...</td>\n      <td>N6466 N53954 N51163 N26618 N55743 N44796 N5670...</td>\n    </tr>\n    <tr>\n      <th>469</th>\n      <td>287</td>\n      <td>2019-11-14 07:26:00</td>\n      <td>N47098</td>\n      <td>N48017 N47098 N49712 N50872 N51570 N46821 N234...</td>\n      <td>N6466 N53954 N51163 N26618 N55743 N44796 N5670...</td>\n    </tr>\n  </tbody>\n</table>\n</div>"
     },
     "execution_count": 39,
     "metadata": {},
     "output_type": "execute_result"
    }
   ],
   "source": [
    "feature_names = ['user_id', 'time', 'choose', 'impressions', 'history']\n",
    "trimmed_bf = trimmed_bf[feature_names]\n",
    "trimmed_bf.head()"
   ],
   "metadata": {
    "collapsed": false,
    "ExecuteTime": {
     "end_time": "2024-05-30T01:50:39.434975500Z",
     "start_time": "2024-05-30T01:50:39.428040600Z"
    }
   },
   "id": "f266cebc155b9d3b"
  },
  {
   "cell_type": "code",
   "execution_count": 40,
   "outputs": [
    {
     "data": {
      "text/plain": "   user_id                time  choose  \\\n0      287 2019-11-12 06:04:22  N33619   \n1      287 2019-11-14 08:06:16  N38779   \n2      287 2019-11-09 15:08:20  N18870   \n3      287 2019-11-10 23:24:46  N50060   \n4      287 2019-11-14 07:26:00  N47098   \n\n                                         impressions  \\\n0                                      N33619 N49180   \n1                                      N23446 N38779   \n2  N8929 N43595 N5442 N60374 N27845 N18870 N3930 ...   \n3  N27486 N63646 N50060 N28047 N27581 N31273 N430...   \n4  N48017 N47098 N49712 N50872 N51570 N46821 N234...   \n\n                                             history  \n0  N6466 N53954 N51163 N26618 N55743 N44796 N5670...  \n1  N6466 N53954 N51163 N26618 N55743 N44796 N5670...  \n2  N6466 N53954 N51163 N26618 N55743 N44796 N5670...  \n3  N6466 N53954 N51163 N26618 N55743 N44796 N5670...  \n4  N6466 N53954 N51163 N26618 N55743 N44796 N5670...  ",
      "text/html": "<div>\n<style scoped>\n    .dataframe tbody tr th:only-of-type {\n        vertical-align: middle;\n    }\n\n    .dataframe tbody tr th {\n        vertical-align: top;\n    }\n\n    .dataframe thead th {\n        text-align: right;\n    }\n</style>\n<table border=\"1\" class=\"dataframe\">\n  <thead>\n    <tr style=\"text-align: right;\">\n      <th></th>\n      <th>user_id</th>\n      <th>time</th>\n      <th>choose</th>\n      <th>impressions</th>\n      <th>history</th>\n    </tr>\n  </thead>\n  <tbody>\n    <tr>\n      <th>0</th>\n      <td>287</td>\n      <td>2019-11-12 06:04:22</td>\n      <td>N33619</td>\n      <td>N33619 N49180</td>\n      <td>N6466 N53954 N51163 N26618 N55743 N44796 N5670...</td>\n    </tr>\n    <tr>\n      <th>1</th>\n      <td>287</td>\n      <td>2019-11-14 08:06:16</td>\n      <td>N38779</td>\n      <td>N23446 N38779</td>\n      <td>N6466 N53954 N51163 N26618 N55743 N44796 N5670...</td>\n    </tr>\n    <tr>\n      <th>2</th>\n      <td>287</td>\n      <td>2019-11-09 15:08:20</td>\n      <td>N18870</td>\n      <td>N8929 N43595 N5442 N60374 N27845 N18870 N3930 ...</td>\n      <td>N6466 N53954 N51163 N26618 N55743 N44796 N5670...</td>\n    </tr>\n    <tr>\n      <th>3</th>\n      <td>287</td>\n      <td>2019-11-10 23:24:46</td>\n      <td>N50060</td>\n      <td>N27486 N63646 N50060 N28047 N27581 N31273 N430...</td>\n      <td>N6466 N53954 N51163 N26618 N55743 N44796 N5670...</td>\n    </tr>\n    <tr>\n      <th>4</th>\n      <td>287</td>\n      <td>2019-11-14 07:26:00</td>\n      <td>N47098</td>\n      <td>N48017 N47098 N49712 N50872 N51570 N46821 N234...</td>\n      <td>N6466 N53954 N51163 N26618 N55743 N44796 N5670...</td>\n    </tr>\n  </tbody>\n</table>\n</div>"
     },
     "execution_count": 40,
     "metadata": {},
     "output_type": "execute_result"
    }
   ],
   "source": [
    "trimmed_bf = trimmed_bf.reset_index(drop=True)\n",
    "trimmed_bf.head()"
   ],
   "metadata": {
    "collapsed": false,
    "ExecuteTime": {
     "end_time": "2024-05-30T01:50:41.336142200Z",
     "start_time": "2024-05-30T01:50:41.328831400Z"
    }
   },
   "id": "70ce787f9032d3ca"
  },
  {
   "cell_type": "markdown",
   "source": [
    "## 计算用户的中期兴趣"
   ],
   "metadata": {
    "collapsed": false
   },
   "id": "cc1cb621b8ff0862"
  },
  {
   "cell_type": "markdown",
   "source": [
    "形似定义？什么样的相似度属于中期兴趣，什么样的相似度属于短期兴趣。因为没有topic，什么样的实体属于topic，实体和topic维度差距较大\n",
    "只能通过比较，但是相似度没法区分“探索兴趣”"
   ],
   "metadata": {
    "collapsed": false
   },
   "id": "69eae9b8a9991996"
  },
  {
   "cell_type": "markdown",
   "source": [
    "为何不直接搜索到用户最后一天的交互，history就是历史兴趣，impressions就是系统推荐流量(展示量)\n",
    "若有时间，可以试试收集refuse，即负反馈，但是负反馈不能代表负面兴趣，它不是隐式反馈\n",
    "拿“活跃用户”进行试验看看，长期兴趣的相似度\n",
    "思路：每一行计算一个组相似度：\n",
    "* interest: history_avg_embedding作为**用户兴趣（当前时间）**。\n",
    "* item_diversity: impressions成对距离作为**多样性（项目间）**（不同用户兴趣本身就不同，可能没有参考价值），相似度和多样性负相关。\n",
    "* rec_diversity: 用户兴趣和impressions的平均距离作为**推荐多样性**（最后归一化处理），距离和多样性负相关，和准确度正相关。\n",
    "* faithful/belief: choose和interest的距离作为用户忠于现有兴趣（固有兴趣？）的程度，一定程度上反应陷入过滤气泡的深浅。(忠诚，信念)用户信念？"
   ],
   "metadata": {
    "collapsed": false
   },
   "id": "a7bea3670c482f34"
  },
  {
   "cell_type": "markdown",
   "source": [
    "### interest 用户实时兴趣\n",
    "计算每行bf（用户行为列表）的每行数据的history对应嵌入的平均值，作为当前time下user_id的interest"
   ],
   "metadata": {
    "collapsed": false
   },
   "id": "54df99d1fcda8a64"
  },
  {
   "cell_type": "markdown",
   "source": [
    "将ne转为字典"
   ],
   "metadata": {
    "collapsed": false
   },
   "id": "f2bc6aa41362223d"
  },
  {
   "cell_type": "code",
   "execution_count": 76,
   "outputs": [],
   "source": [
    "# 将ne DataFrame转换为一个字典，news_id为键，embedding为值\n",
    "embedding_dict = ne.set_index('news_id').to_dict()['embedding']"
   ],
   "metadata": {
    "collapsed": false,
    "ExecuteTime": {
     "end_time": "2024-05-30T07:01:58.722943500Z",
     "start_time": "2024-05-30T07:01:58.686468100Z"
    }
   },
   "id": "a8005641e70e53e8"
  },
  {
   "cell_type": "code",
   "execution_count": 77,
   "outputs": [
    {
     "name": "stdout",
     "output_type": "stream",
     "text": [
      "0    [-0.018555935625000002, -0.026766454375000005,...\n",
      "1    [-0.018555935625000002, -0.026766454375000005,...\n",
      "Name: interest, dtype: object\n"
     ]
    }
   ],
   "source": [
    "def calculate_average_embedding(history_str):\n",
    "    news_ids = history_str.split()\n",
    "    embeddings = [embedding_dict[news_id] for news_id in news_ids if news_id in embedding_dict and embedding_dict[news_id].shape[0] == 100]\n",
    "    \n",
    "    if embeddings:\n",
    "        # 当有有效的embedding时，计算平均值\n",
    "        average_embedding = np.mean(embeddings, axis=0)\n",
    "    else:\n",
    "        # 在没有有效embedding的情况下，可以返回一个全零向量或NaN\n",
    "        # 这里返回一个与其他embedding同维度的全零向量\n",
    "        average_embedding = np.zeros(100)\n",
    "    \n",
    "    return average_embedding\n",
    "\n",
    "# 对df中的每个history列应用calculate_average_embedding函数\n",
    "trimmed_bf['interest'] = trimmed_bf['history'].apply(calculate_average_embedding)\n",
    "\n",
    "# 检查结果\n",
    "print(trimmed_bf['interest'].head(2))"
   ],
   "metadata": {
    "collapsed": false,
    "ExecuteTime": {
     "end_time": "2024-05-30T07:01:59.678622600Z",
     "start_time": "2024-05-30T07:01:59.390278Z"
    }
   },
   "id": "c3ab58490dbb8850"
  },
  {
   "cell_type": "code",
   "execution_count": 78,
   "outputs": [
    {
     "data": {
      "text/plain": "   user_id                time  choose    impressions  \\\n0      287 2019-11-12 06:04:22  N33619  N33619 N49180   \n1      287 2019-11-14 08:06:16  N38779  N23446 N38779   \n\n                                             history  \\\n0  N6466 N53954 N51163 N26618 N55743 N44796 N5670...   \n1  N6466 N53954 N51163 N26618 N55743 N44796 N5670...   \n\n                                            interest item_diversity  \\\n0  [-0.018555935625000002, -0.026766454375000005,...       1.014947   \n1  [-0.018555935625000002, -0.026766454375000005,...       0.615181   \n\n   rec_diversity  faithful  \n0       0.637767  0.617363  \n1       0.425862  0.345148  ",
      "text/html": "<div>\n<style scoped>\n    .dataframe tbody tr th:only-of-type {\n        vertical-align: middle;\n    }\n\n    .dataframe tbody tr th {\n        vertical-align: top;\n    }\n\n    .dataframe thead th {\n        text-align: right;\n    }\n</style>\n<table border=\"1\" class=\"dataframe\">\n  <thead>\n    <tr style=\"text-align: right;\">\n      <th></th>\n      <th>user_id</th>\n      <th>time</th>\n      <th>choose</th>\n      <th>impressions</th>\n      <th>history</th>\n      <th>interest</th>\n      <th>item_diversity</th>\n      <th>rec_diversity</th>\n      <th>faithful</th>\n    </tr>\n  </thead>\n  <tbody>\n    <tr>\n      <th>0</th>\n      <td>287</td>\n      <td>2019-11-12 06:04:22</td>\n      <td>N33619</td>\n      <td>N33619 N49180</td>\n      <td>N6466 N53954 N51163 N26618 N55743 N44796 N5670...</td>\n      <td>[-0.018555935625000002, -0.026766454375000005,...</td>\n      <td>1.014947</td>\n      <td>0.637767</td>\n      <td>0.617363</td>\n    </tr>\n    <tr>\n      <th>1</th>\n      <td>287</td>\n      <td>2019-11-14 08:06:16</td>\n      <td>N38779</td>\n      <td>N23446 N38779</td>\n      <td>N6466 N53954 N51163 N26618 N55743 N44796 N5670...</td>\n      <td>[-0.018555935625000002, -0.026766454375000005,...</td>\n      <td>0.615181</td>\n      <td>0.425862</td>\n      <td>0.345148</td>\n    </tr>\n  </tbody>\n</table>\n</div>"
     },
     "execution_count": 78,
     "metadata": {},
     "output_type": "execute_result"
    }
   ],
   "source": [
    "trimmed_bf.head(2)"
   ],
   "metadata": {
    "collapsed": false,
    "ExecuteTime": {
     "end_time": "2024-05-30T07:02:01.818722400Z",
     "start_time": "2024-05-30T07:02:01.803930500Z"
    }
   },
   "id": "ec912a8e3fed540c"
  },
  {
   "cell_type": "markdown",
   "source": [
    "### item_diversity 项目多样性\n",
    "计算impressions成对距离average_pairwise_distance,距离越大，多样性越大，相似性越小"
   ],
   "metadata": {
    "collapsed": false
   },
   "id": "df3f121b42f67fc1"
  },
  {
   "cell_type": "code",
   "execution_count": 79,
   "outputs": [
    {
     "data": {
      "text/plain": "   user_id                time  choose    impressions  \\\n0      287 2019-11-12 06:04:22  N33619  N33619 N49180   \n1      287 2019-11-14 08:06:16  N38779  N23446 N38779   \n\n                                             history  \\\n0  N6466 N53954 N51163 N26618 N55743 N44796 N5670...   \n1  N6466 N53954 N51163 N26618 N55743 N44796 N5670...   \n\n                                            interest  item_diversity  \\\n0  [-0.018555935625000002, -0.026766454375000005,...        1.014947   \n1  [-0.018555935625000002, -0.026766454375000005,...        0.615181   \n\n   rec_diversity  faithful  \n0       0.637767  0.617363  \n1       0.425862  0.345148  ",
      "text/html": "<div>\n<style scoped>\n    .dataframe tbody tr th:only-of-type {\n        vertical-align: middle;\n    }\n\n    .dataframe tbody tr th {\n        vertical-align: top;\n    }\n\n    .dataframe thead th {\n        text-align: right;\n    }\n</style>\n<table border=\"1\" class=\"dataframe\">\n  <thead>\n    <tr style=\"text-align: right;\">\n      <th></th>\n      <th>user_id</th>\n      <th>time</th>\n      <th>choose</th>\n      <th>impressions</th>\n      <th>history</th>\n      <th>interest</th>\n      <th>item_diversity</th>\n      <th>rec_diversity</th>\n      <th>faithful</th>\n    </tr>\n  </thead>\n  <tbody>\n    <tr>\n      <th>0</th>\n      <td>287</td>\n      <td>2019-11-12 06:04:22</td>\n      <td>N33619</td>\n      <td>N33619 N49180</td>\n      <td>N6466 N53954 N51163 N26618 N55743 N44796 N5670...</td>\n      <td>[-0.018555935625000002, -0.026766454375000005,...</td>\n      <td>1.014947</td>\n      <td>0.637767</td>\n      <td>0.617363</td>\n    </tr>\n    <tr>\n      <th>1</th>\n      <td>287</td>\n      <td>2019-11-14 08:06:16</td>\n      <td>N38779</td>\n      <td>N23446 N38779</td>\n      <td>N6466 N53954 N51163 N26618 N55743 N44796 N5670...</td>\n      <td>[-0.018555935625000002, -0.026766454375000005,...</td>\n      <td>0.615181</td>\n      <td>0.425862</td>\n      <td>0.345148</td>\n    </tr>\n  </tbody>\n</table>\n</div>"
     },
     "execution_count": 79,
     "metadata": {},
     "output_type": "execute_result"
    }
   ],
   "source": [
    "def calculate_pairwise_distances(embeddings):\n",
    "    distances = []\n",
    "    for i in range(0, len(embeddings)-1):\n",
    "        for j in range(i+1, len(embeddings)):\n",
    "            if embeddings[i].shape == (100,) and embeddings[j].shape == (100,):\n",
    "                distance = np.linalg.norm(embeddings[i] - embeddings[j])\n",
    "                distances.append(distance)\n",
    "    return np.mean(distances) if distances else np.nan\n",
    "\n",
    "def calculate_average_pairwise_distance(impressions_str):\n",
    "    news_ids = impressions_str.split()\n",
    "    embeddings = [embedding_dict.get(news_id) for news_id in news_ids if news_id in embedding_dict and embedding_dict[news_id].shape[0] == 100]\n",
    "    return calculate_pairwise_distances(embeddings)\n",
    "\n",
    "# 对trimmed_bf中的每个impressions列应用calculate_average_pairwise_distance函数\n",
    "trimmed_bf['item_diversity'] = trimmed_bf['impressions'].apply(calculate_average_pairwise_distance)\n",
    "\n",
    "# 检查结果\n",
    "trimmed_bf.head(2)"
   ],
   "metadata": {
    "collapsed": false,
    "ExecuteTime": {
     "end_time": "2024-05-30T07:02:08.450308600Z",
     "start_time": "2024-05-30T07:02:03.540246200Z"
    }
   },
   "id": "d2d8d3916ca87b34"
  },
  {
   "cell_type": "markdown",
   "source": [
    "### rec_diversity 推荐多样性\n",
    "用户兴趣interest和impressions的平均距离,距离越大，越符合用户兴趣，准确性越高，多样性越低，越符合用户表面兴趣"
   ],
   "metadata": {
    "collapsed": false
   },
   "id": "558b091b075a13c2"
  },
  {
   "cell_type": "code",
   "execution_count": 80,
   "outputs": [
    {
     "data": {
      "text/plain": "   user_id                time  choose    impressions  \\\n0      287 2019-11-12 06:04:22  N33619  N33619 N49180   \n1      287 2019-11-14 08:06:16  N38779  N23446 N38779   \n\n                                             history  \\\n0  N6466 N53954 N51163 N26618 N55743 N44796 N5670...   \n1  N6466 N53954 N51163 N26618 N55743 N44796 N5670...   \n\n                                            interest  item_diversity  \\\n0  [-0.018555935625000002, -0.026766454375000005,...        1.014947   \n1  [-0.018555935625000002, -0.026766454375000005,...        0.615181   \n\n   rec_diversity  faithful  \n0       0.637767  0.617363  \n1       0.425862  0.345148  ",
      "text/html": "<div>\n<style scoped>\n    .dataframe tbody tr th:only-of-type {\n        vertical-align: middle;\n    }\n\n    .dataframe tbody tr th {\n        vertical-align: top;\n    }\n\n    .dataframe thead th {\n        text-align: right;\n    }\n</style>\n<table border=\"1\" class=\"dataframe\">\n  <thead>\n    <tr style=\"text-align: right;\">\n      <th></th>\n      <th>user_id</th>\n      <th>time</th>\n      <th>choose</th>\n      <th>impressions</th>\n      <th>history</th>\n      <th>interest</th>\n      <th>item_diversity</th>\n      <th>rec_diversity</th>\n      <th>faithful</th>\n    </tr>\n  </thead>\n  <tbody>\n    <tr>\n      <th>0</th>\n      <td>287</td>\n      <td>2019-11-12 06:04:22</td>\n      <td>N33619</td>\n      <td>N33619 N49180</td>\n      <td>N6466 N53954 N51163 N26618 N55743 N44796 N5670...</td>\n      <td>[-0.018555935625000002, -0.026766454375000005,...</td>\n      <td>1.014947</td>\n      <td>0.637767</td>\n      <td>0.617363</td>\n    </tr>\n    <tr>\n      <th>1</th>\n      <td>287</td>\n      <td>2019-11-14 08:06:16</td>\n      <td>N38779</td>\n      <td>N23446 N38779</td>\n      <td>N6466 N53954 N51163 N26618 N55743 N44796 N5670...</td>\n      <td>[-0.018555935625000002, -0.026766454375000005,...</td>\n      <td>0.615181</td>\n      <td>0.425862</td>\n      <td>0.345148</td>\n    </tr>\n  </tbody>\n</table>\n</div>"
     },
     "execution_count": 80,
     "metadata": {},
     "output_type": "execute_result"
    }
   ],
   "source": [
    "def calculate_distance_to_interest(impressions_str, interest_embedding):\n",
    "    news_ids = impressions_str.split()\n",
    "    embeddings = [embedding_dict.get(news_id) for news_id in news_ids if news_id in embedding_dict and embedding_dict[news_id].shape[0] == 100]\n",
    "    \n",
    "    distances = [np.linalg.norm(embedding - interest_embedding) for embedding in embeddings if embedding is not None]\n",
    "    \n",
    "    return np.mean(distances) if distances else np.nan\n",
    "\n",
    "# 假设每行的interest是一个100维的ndarray，我们遍历df的每一行来计算平均距离\n",
    "trimmed_bf['rec_diversity'] = trimmed_bf.apply(lambda row: calculate_distance_to_interest(row['impressions'], row['interest']), axis=1)\n",
    "\n",
    "# 检查结果\n",
    "trimmed_bf.head(2)"
   ],
   "metadata": {
    "collapsed": false,
    "ExecuteTime": {
     "end_time": "2024-05-30T07:02:10.293807100Z",
     "start_time": "2024-05-30T07:02:09.988765400Z"
    }
   },
   "id": "dec4ade81d80da8c"
  },
  {
   "cell_type": "markdown",
   "source": [
    "### faithful 用户信念\n",
    "choose和interest的距离作为用户忠于现有兴趣（固有兴趣？）的程度，一定程度上反应陷入过滤气泡的深浅。称作：用户信念（待定）"
   ],
   "metadata": {
    "collapsed": false
   },
   "id": "d019a6619ed051ab"
  },
  {
   "cell_type": "code",
   "execution_count": 81,
   "outputs": [
    {
     "data": {
      "text/plain": "   user_id                time  choose    impressions  \\\n0      287 2019-11-12 06:04:22  N33619  N33619 N49180   \n1      287 2019-11-14 08:06:16  N38779  N23446 N38779   \n\n                                             history  \\\n0  N6466 N53954 N51163 N26618 N55743 N44796 N5670...   \n1  N6466 N53954 N51163 N26618 N55743 N44796 N5670...   \n\n                                            interest  item_diversity  \\\n0  [-0.018555935625000002, -0.026766454375000005,...        1.014947   \n1  [-0.018555935625000002, -0.026766454375000005,...        0.615181   \n\n   rec_diversity  faithful  \n0       0.637767  0.617363  \n1       0.425862  0.345148  ",
      "text/html": "<div>\n<style scoped>\n    .dataframe tbody tr th:only-of-type {\n        vertical-align: middle;\n    }\n\n    .dataframe tbody tr th {\n        vertical-align: top;\n    }\n\n    .dataframe thead th {\n        text-align: right;\n    }\n</style>\n<table border=\"1\" class=\"dataframe\">\n  <thead>\n    <tr style=\"text-align: right;\">\n      <th></th>\n      <th>user_id</th>\n      <th>time</th>\n      <th>choose</th>\n      <th>impressions</th>\n      <th>history</th>\n      <th>interest</th>\n      <th>item_diversity</th>\n      <th>rec_diversity</th>\n      <th>faithful</th>\n    </tr>\n  </thead>\n  <tbody>\n    <tr>\n      <th>0</th>\n      <td>287</td>\n      <td>2019-11-12 06:04:22</td>\n      <td>N33619</td>\n      <td>N33619 N49180</td>\n      <td>N6466 N53954 N51163 N26618 N55743 N44796 N5670...</td>\n      <td>[-0.018555935625000002, -0.026766454375000005,...</td>\n      <td>1.014947</td>\n      <td>0.637767</td>\n      <td>0.617363</td>\n    </tr>\n    <tr>\n      <th>1</th>\n      <td>287</td>\n      <td>2019-11-14 08:06:16</td>\n      <td>N38779</td>\n      <td>N23446 N38779</td>\n      <td>N6466 N53954 N51163 N26618 N55743 N44796 N5670...</td>\n      <td>[-0.018555935625000002, -0.026766454375000005,...</td>\n      <td>0.615181</td>\n      <td>0.425862</td>\n      <td>0.345148</td>\n    </tr>\n  </tbody>\n</table>\n</div>"
     },
     "execution_count": 81,
     "metadata": {},
     "output_type": "execute_result"
    }
   ],
   "source": [
    "# 假设每行的interest是一个100维的ndarray，我们遍历df的每一行来计算平均距离\n",
    "trimmed_bf['faithful'] = trimmed_bf.apply(lambda row: calculate_distance_to_interest(row['choose'], row['interest']), axis=1)\n",
    "\n",
    "trimmed_bf.head(2)"
   ],
   "metadata": {
    "collapsed": false,
    "ExecuteTime": {
     "end_time": "2024-05-30T07:02:14.431981400Z",
     "start_time": "2024-05-30T07:02:14.359033700Z"
    }
   },
   "id": "2bbb7642864025c0"
  },
  {
   "cell_type": "markdown",
   "source": [
    "## 可视化分析"
   ],
   "metadata": {
    "collapsed": false
   },
   "id": "7396e439e3be53c4"
  },
  {
   "cell_type": "code",
   "execution_count": 82,
   "outputs": [
    {
     "data": {
      "text/plain": "            user_id                           time  item_diversity  \\\ncount   4661.000000                           4661     4605.000000   \nmean   46479.792534  2019-11-12 08:04:49.603089408        0.610132   \nmin      287.000000            2019-11-09 00:10:50        0.284822   \n25%    20833.000000            2019-11-11 07:20:53        0.570559   \n50%    47315.000000            2019-11-12 10:49:36        0.615410   \n75%    69455.000000            2019-11-13 13:47:53        0.652268   \nmax    93773.000000            2019-11-14 23:55:21        1.025810   \nstd    27692.487917                            NaN        0.074607   \n\n       rec_diversity     faithful  \ncount    4650.000000  3931.000000  \nmean        0.436650     0.426667  \nmin         0.237132     0.162420  \n25%         0.409813     0.325509  \n50%         0.438977     0.394831  \n75%         0.465392     0.499981  \nmax         0.776388     0.969509  \nstd         0.050069     0.138389  ",
      "text/html": "<div>\n<style scoped>\n    .dataframe tbody tr th:only-of-type {\n        vertical-align: middle;\n    }\n\n    .dataframe tbody tr th {\n        vertical-align: top;\n    }\n\n    .dataframe thead th {\n        text-align: right;\n    }\n</style>\n<table border=\"1\" class=\"dataframe\">\n  <thead>\n    <tr style=\"text-align: right;\">\n      <th></th>\n      <th>user_id</th>\n      <th>time</th>\n      <th>item_diversity</th>\n      <th>rec_diversity</th>\n      <th>faithful</th>\n    </tr>\n  </thead>\n  <tbody>\n    <tr>\n      <th>count</th>\n      <td>4661.000000</td>\n      <td>4661</td>\n      <td>4605.000000</td>\n      <td>4650.000000</td>\n      <td>3931.000000</td>\n    </tr>\n    <tr>\n      <th>mean</th>\n      <td>46479.792534</td>\n      <td>2019-11-12 08:04:49.603089408</td>\n      <td>0.610132</td>\n      <td>0.436650</td>\n      <td>0.426667</td>\n    </tr>\n    <tr>\n      <th>min</th>\n      <td>287.000000</td>\n      <td>2019-11-09 00:10:50</td>\n      <td>0.284822</td>\n      <td>0.237132</td>\n      <td>0.162420</td>\n    </tr>\n    <tr>\n      <th>25%</th>\n      <td>20833.000000</td>\n      <td>2019-11-11 07:20:53</td>\n      <td>0.570559</td>\n      <td>0.409813</td>\n      <td>0.325509</td>\n    </tr>\n    <tr>\n      <th>50%</th>\n      <td>47315.000000</td>\n      <td>2019-11-12 10:49:36</td>\n      <td>0.615410</td>\n      <td>0.438977</td>\n      <td>0.394831</td>\n    </tr>\n    <tr>\n      <th>75%</th>\n      <td>69455.000000</td>\n      <td>2019-11-13 13:47:53</td>\n      <td>0.652268</td>\n      <td>0.465392</td>\n      <td>0.499981</td>\n    </tr>\n    <tr>\n      <th>max</th>\n      <td>93773.000000</td>\n      <td>2019-11-14 23:55:21</td>\n      <td>1.025810</td>\n      <td>0.776388</td>\n      <td>0.969509</td>\n    </tr>\n    <tr>\n      <th>std</th>\n      <td>27692.487917</td>\n      <td>NaN</td>\n      <td>0.074607</td>\n      <td>0.050069</td>\n      <td>0.138389</td>\n    </tr>\n  </tbody>\n</table>\n</div>"
     },
     "execution_count": 82,
     "metadata": {},
     "output_type": "execute_result"
    }
   ],
   "source": [
    "# 用户表bubble_analysis\n",
    "feature_names = ['user_id', 'time', 'interest', 'item_diversity', 'rec_diversity', 'faithful']\n",
    "bubble_analysis = trimmed_bf[feature_names]\n",
    "bubble_analysis.describe()"
   ],
   "metadata": {
    "collapsed": false,
    "ExecuteTime": {
     "end_time": "2024-05-30T07:02:16.213613700Z",
     "start_time": "2024-05-30T07:02:16.198423500Z"
    }
   },
   "id": "215ebe0d2af46d97"
  },
  {
   "cell_type": "markdown",
   "source": [
    "统计用户数和id"
   ],
   "metadata": {
    "collapsed": false
   },
   "id": "f94bed0872b6eb5c"
  },
  {
   "cell_type": "code",
   "execution_count": 88,
   "outputs": [
    {
     "name": "stdout",
     "output_type": "stream",
     "text": [
      "The number of unique values in 'feature_column' is: 189\n",
      "'user id' is:\n",
      " [32146, 15740, 20833, 44201, 51286, 79449, 30304, 47521, 57047, 56120, 79210, 63482, 27166, 85878, 43884, 68925, 21954, 72280, 44210, 38387, 77427, 83337, 67455, 19040, 58715, 17204, 52496, 48826, 1296, 81564, 80596, 69150, 70493, 16818, 39770, 66141, 73145, 2906, 70147, 11921, 7210, 10760, 26994, 8933, 1028, 20995, 62382, 8561, 4992, 12508, 67252, 58642, 69965, 45958, 70550, 92991, 72730, 10103, 85972, 10233, 15231, 5008, 8568, 26458, 85230, 74354, 27259, 49232, 68923, 67478, 82214, 42382, 54826, 16265, 2701, 62470, 72489, 63050, 90649, 27912, 84434, 84756, 8162, 4929, 31470, 12652, 75917, 6396, 93306, 45956, 31709, 60483, 44162, 11236, 39701, 59440, 20170, 27827, 64432, 57926, 60879, 57445, 93377, 30869, 57214, 8557, 29898, 41976, 93717, 19572, 48898, 80599, 16674, 72148, 2226, 25381, 9992, 20485, 20536, 63968, 16144, 68482, 4743, 4501, 75154, 19015, 74460, 3666, 89744, 63200, 55166, 30284, 88352, 27198, 78920, 41254, 89824, 46524, 47310, 51456, 13061, 55621, 56031, 56417, 27870, 92846, 91548, 59901, 83199, 82693, 79816, 92476, 85108, 93079, 85978, 88033, 287, 47315, 73657, 32395, 5806, 7525, 7835, 8907, 10096, 11522, 11850, 21331, 21980, 25005, 27850, 30962, 31631, 35406, 69455, 37293, 43467, 45342, 46179, 46937, 58235, 61540, 62084, 62687, 62718, 63860, 68843, 69084, 93773]\n"
     ]
    }
   ],
   "source": [
    "unique_user = bubble_analysis['user_id'].value_counts().index.to_list()\n",
    "unique_values_count = len(unique_user)\n",
    "\n",
    "print(f\"The number of unique values in 'feature_column' is: {unique_values_count}\")\n",
    "print(f\"'user id' is:\\n {unique_user}\")"
   ],
   "metadata": {
    "collapsed": false,
    "ExecuteTime": {
     "end_time": "2024-05-30T07:09:40.386739900Z",
     "start_time": "2024-05-30T07:09:40.380228700Z"
    }
   },
   "id": "58a84d31fa6cc002"
  },
  {
   "cell_type": "markdown",
   "source": [
    "### 用户兴趣变化"
   ],
   "metadata": {
    "collapsed": false
   },
   "id": "e8b04e44aceb9116"
  },
  {
   "cell_type": "code",
   "execution_count": 91,
   "outputs": [
    {
     "data": {
      "text/plain": "pandas._libs.tslibs.timestamps.Timestamp"
     },
     "execution_count": 91,
     "metadata": {},
     "output_type": "execute_result"
    }
   ],
   "source": [
    "type(bubble_analysis['time'][0])"
   ],
   "metadata": {
    "collapsed": false,
    "ExecuteTime": {
     "end_time": "2024-05-30T08:10:27.140595100Z",
     "start_time": "2024-05-30T08:10:27.135244300Z"
    }
   },
   "id": "3787042fedbfc39b"
  },
  {
   "cell_type": "markdown",
   "source": [
    "### 归一化处理\n",
    "对数据集做归一化处理"
   ],
   "metadata": {
    "collapsed": false
   },
   "id": "31f4be43f86e3777"
  },
  {
   "cell_type": "code",
   "execution_count": 97,
   "outputs": [
    {
     "data": {
      "text/plain": "   user_id                time  \\\n0      287 2019-11-12 06:04:22   \n1      287 2019-11-14 08:06:16   \n2      287 2019-11-09 15:08:20   \n3      287 2019-11-10 23:24:46   \n4      287 2019-11-14 07:26:00   \n\n                                            interest  item_diversity  \\\n0  [-0.018555935625000002, -0.026766454375000005,...        0.985339   \n1  [-0.018555935625000002, -0.026766454375000005,...        0.445835   \n2  [-0.018555935625000002, -0.026766454375000005,...        0.406168   \n3  [-0.018555935625000002, -0.026766454375000005,...        0.426993   \n4  [-0.018555935625000002, -0.026766454375000005,...        0.506547   \n\n   rec_diversity  faithful  \n0       0.742940  0.563684  \n1       0.349982  0.226403  \n2       0.387527  0.338783  \n3       0.426742  0.506325  \n4       0.444766       NaN  ",
      "text/html": "<div>\n<style scoped>\n    .dataframe tbody tr th:only-of-type {\n        vertical-align: middle;\n    }\n\n    .dataframe tbody tr th {\n        vertical-align: top;\n    }\n\n    .dataframe thead th {\n        text-align: right;\n    }\n</style>\n<table border=\"1\" class=\"dataframe\">\n  <thead>\n    <tr style=\"text-align: right;\">\n      <th></th>\n      <th>user_id</th>\n      <th>time</th>\n      <th>interest</th>\n      <th>item_diversity</th>\n      <th>rec_diversity</th>\n      <th>faithful</th>\n    </tr>\n  </thead>\n  <tbody>\n    <tr>\n      <th>0</th>\n      <td>287</td>\n      <td>2019-11-12 06:04:22</td>\n      <td>[-0.018555935625000002, -0.026766454375000005,...</td>\n      <td>0.985339</td>\n      <td>0.742940</td>\n      <td>0.563684</td>\n    </tr>\n    <tr>\n      <th>1</th>\n      <td>287</td>\n      <td>2019-11-14 08:06:16</td>\n      <td>[-0.018555935625000002, -0.026766454375000005,...</td>\n      <td>0.445835</td>\n      <td>0.349982</td>\n      <td>0.226403</td>\n    </tr>\n    <tr>\n      <th>2</th>\n      <td>287</td>\n      <td>2019-11-09 15:08:20</td>\n      <td>[-0.018555935625000002, -0.026766454375000005,...</td>\n      <td>0.406168</td>\n      <td>0.387527</td>\n      <td>0.338783</td>\n    </tr>\n    <tr>\n      <th>3</th>\n      <td>287</td>\n      <td>2019-11-10 23:24:46</td>\n      <td>[-0.018555935625000002, -0.026766454375000005,...</td>\n      <td>0.426993</td>\n      <td>0.426742</td>\n      <td>0.506325</td>\n    </tr>\n    <tr>\n      <th>4</th>\n      <td>287</td>\n      <td>2019-11-14 07:26:00</td>\n      <td>[-0.018555935625000002, -0.026766454375000005,...</td>\n      <td>0.506547</td>\n      <td>0.444766</td>\n      <td>NaN</td>\n    </tr>\n  </tbody>\n</table>\n</div>"
     },
     "execution_count": 97,
     "metadata": {},
     "output_type": "execute_result"
    }
   ],
   "source": [
    "# 创建一个MinMaxScaler对象\n",
    "scaler = MinMaxScaler()\n",
    "\n",
    "# 定义要归一化的列\n",
    "columns_to_normalize = ['item_diversity', 'rec_diversity', 'faithful']\n",
    "\n",
    "# 对每一列进行归一化处理\n",
    "for column in columns_to_normalize:\n",
    "    # 首先提取列并将NaN值的影响排除出计算，只对非NaN值进行归一化\n",
    "    non_null_data = bubble_analysis[column][bubble_analysis[column].notna()].values.reshape(-1, 1)\n",
    "    \n",
    "    # 归一化非空数据\n",
    "    scaled_non_null_data = scaler.fit_transform(non_null_data)\n",
    "    \n",
    "    # 将归一化后的数据放回原来的位置\n",
    "    bubble_analysis.loc[bubble_analysis[column].notna(), column] = scaled_non_null_data.flatten()\n",
    "\n",
    "# 查看归一化后的DataFrame\n",
    "bubble_analysis.head()"
   ],
   "metadata": {
    "collapsed": false,
    "ExecuteTime": {
     "end_time": "2024-05-30T08:27:40.559686800Z",
     "start_time": "2024-05-30T08:27:40.547024400Z"
    }
   },
   "id": "67989100ad654416"
  },
  {
   "cell_type": "markdown",
   "source": [
    "### 向量降维\n",
    "对interest降维处理，将100维降至2或3维"
   ],
   "metadata": {
    "collapsed": false
   },
   "id": "e976574ab776a142"
  },
  {
   "cell_type": "code",
   "execution_count": 112,
   "outputs": [
    {
     "name": "stderr",
     "output_type": "stream",
     "text": [
      "C:\\Users\\gusuc\\AppData\\Local\\Temp\\ipykernel_13720\\2386781712.py:14: SettingWithCopyWarning: \n",
      "A value is trying to be set on a copy of a slice from a DataFrame.\n",
      "Try using .loc[row_indexer,col_indexer] = value instead\n",
      "\n",
      "See the caveats in the documentation: https://pandas.pydata.org/pandas-docs/stable/user_guide/indexing.html#returning-a-view-versus-a-copy\n",
      "  bubble_analysis['interest_2d'] = list(interest_data_2d)\n",
      "C:\\Users\\gusuc\\AppData\\Local\\Temp\\ipykernel_13720\\2386781712.py:15: SettingWithCopyWarning: \n",
      "A value is trying to be set on a copy of a slice from a DataFrame.\n",
      "Try using .loc[row_indexer,col_indexer] = value instead\n",
      "\n",
      "See the caveats in the documentation: https://pandas.pydata.org/pandas-docs/stable/user_guide/indexing.html#returning-a-view-versus-a-copy\n",
      "  bubble_analysis['interest_3d'] = list(interest_data_3d)\n"
     ]
    },
    {
     "data": {
      "text/plain": "                                  interest_2d  \\\n0  [0.12842511679303217, 0.04301006945952727]   \n1   [0.1284251167930326, 0.04301006945952711]   \n2   [0.1284251167930326, 0.04301006945952729]   \n3   [0.1284251167930326, 0.04301006945952729]   \n4   [0.1284251167930326, 0.04301006945952729]   \n\n                                         interest_3d  \n0  [0.12842511679302976, 0.04301006946695567, 1.8...  \n1  [0.12842511679303006, 0.04301006946695413, 1.8...  \n2  [0.12842511679303006, 0.04301006946695423, 1.8...  \n3  [0.12842511679303006, 0.04301006946695423, 1.8...  \n4  [0.12842511679303006, 0.04301006946695423, 1.8...  ",
      "text/html": "<div>\n<style scoped>\n    .dataframe tbody tr th:only-of-type {\n        vertical-align: middle;\n    }\n\n    .dataframe tbody tr th {\n        vertical-align: top;\n    }\n\n    .dataframe thead th {\n        text-align: right;\n    }\n</style>\n<table border=\"1\" class=\"dataframe\">\n  <thead>\n    <tr style=\"text-align: right;\">\n      <th></th>\n      <th>interest_2d</th>\n      <th>interest_3d</th>\n    </tr>\n  </thead>\n  <tbody>\n    <tr>\n      <th>0</th>\n      <td>[0.12842511679303217, 0.04301006945952727]</td>\n      <td>[0.12842511679302976, 0.04301006946695567, 1.8...</td>\n    </tr>\n    <tr>\n      <th>1</th>\n      <td>[0.1284251167930326, 0.04301006945952711]</td>\n      <td>[0.12842511679303006, 0.04301006946695413, 1.8...</td>\n    </tr>\n    <tr>\n      <th>2</th>\n      <td>[0.1284251167930326, 0.04301006945952729]</td>\n      <td>[0.12842511679303006, 0.04301006946695423, 1.8...</td>\n    </tr>\n    <tr>\n      <th>3</th>\n      <td>[0.1284251167930326, 0.04301006945952729]</td>\n      <td>[0.12842511679303006, 0.04301006946695423, 1.8...</td>\n    </tr>\n    <tr>\n      <th>4</th>\n      <td>[0.1284251167930326, 0.04301006945952729]</td>\n      <td>[0.12842511679303006, 0.04301006946695423, 1.8...</td>\n    </tr>\n  </tbody>\n</table>\n</div>"
     },
     "execution_count": 112,
     "metadata": {},
     "output_type": "execute_result"
    }
   ],
   "source": [
    "interest_data = np.stack(bubble_analysis['interest'].values)\n",
    "\n",
    "# 创建PCA对象，设置降维后的维度为2\n",
    "pca_2d = PCA(n_components=2)\n",
    "# 对数据进行降维\n",
    "interest_data_2d = pca_2d.fit_transform(interest_data)\n",
    "\n",
    "# 创建另一个PCA对象，设置降维后的维度为3\n",
    "pca_3d = PCA(n_components=3)\n",
    "# 对数据进行降维\n",
    "interest_data_3d = pca_3d.fit_transform(interest_data)\n",
    "\n",
    "# 你现在可以将结果添加到原始DataFrame中，或者创建一个新的DataFrame\n",
    "bubble_analysis['interest_2d'] = list(interest_data_2d)\n",
    "bubble_analysis['interest_3d'] = list(interest_data_3d)\n",
    "\n",
    "# 查看降维结果的前几行\n",
    "bubble_analysis[['interest_2d', 'interest_3d']].head()"
   ],
   "metadata": {
    "collapsed": false,
    "ExecuteTime": {
     "end_time": "2024-05-30T09:03:48.078618200Z",
     "start_time": "2024-05-30T09:03:48.045417200Z"
    }
   },
   "id": "c7bdd0ec6ca26cab"
  },
  {
   "cell_type": "markdown",
   "source": [
    "根据传入id参数，选出用户数据，并按照时间排序"
   ],
   "metadata": {
    "collapsed": false
   },
   "id": "62c196440233676e"
  },
  {
   "cell_type": "code",
   "execution_count": 132,
   "outputs": [],
   "source": [
    "uid = 287\n",
    "feature = ['item_diversity', 'rec_diversity', 'faithful']"
   ],
   "metadata": {
    "collapsed": false,
    "ExecuteTime": {
     "end_time": "2024-05-30T09:26:26.601182100Z",
     "start_time": "2024-05-30T09:26:26.593663600Z"
    }
   },
   "id": "c737ff7b49f7d879"
  },
  {
   "cell_type": "code",
   "execution_count": 114,
   "outputs": [],
   "source": [
    "# 根据user_id筛选数据\n",
    "filtered_data = bubble_analysis[bubble_analysis['user_id'] == uid]\n",
    "\n",
    "# 根据时间time进行排序\n",
    "sorted_data = filtered_data.sort_values(by='time')\n",
    "\n",
    "# 将排序后的索引重置为从0开始的连续整数\n",
    "sorted_data = sorted_data.reset_index(drop=True)"
   ],
   "metadata": {
    "collapsed": false,
    "ExecuteTime": {
     "end_time": "2024-05-30T09:05:46.235852800Z",
     "start_time": "2024-05-30T09:05:46.229676Z"
    }
   },
   "id": "bfd82ba75a2e7198"
  },
  {
   "cell_type": "code",
   "execution_count": 115,
   "outputs": [
    {
     "data": {
      "text/plain": "    user_id                time  \\\n0       287 2019-11-09 14:04:12   \n1       287 2019-11-09 14:36:05   \n2       287 2019-11-09 15:08:20   \n3       287 2019-11-10 16:32:22   \n4       287 2019-11-10 22:44:16   \n5       287 2019-11-10 23:24:46   \n6       287 2019-11-11 10:28:56   \n7       287 2019-11-11 14:02:17   \n8       287 2019-11-11 14:56:11   \n9       287 2019-11-12 05:12:20   \n10      287 2019-11-12 06:04:22   \n11      287 2019-11-12 14:34:14   \n12      287 2019-11-12 20:35:20   \n13      287 2019-11-13 09:03:58   \n14      287 2019-11-13 12:32:56   \n15      287 2019-11-14 07:26:00   \n16      287 2019-11-14 08:06:16   \n17      287 2019-11-14 09:46:37   \n18      287 2019-11-14 21:39:13   \n19      287 2019-11-14 23:21:41   \n\n                                             interest  item_diversity  \\\n0   [-0.018555935625000002, -0.026766454375000005,...        0.388646   \n1   [-0.018555935625000002, -0.026766454375000005,...        0.452371   \n2   [-0.018555935625000002, -0.026766454375000005,...        0.406168   \n3   [-0.018555935625000002, -0.026766454375000005,...        0.449095   \n4   [-0.018555935625000002, -0.026766454375000005,...        0.383966   \n5   [-0.018555935625000002, -0.026766454375000005,...        0.426993   \n6   [-0.018555935625000002, -0.026766454375000005,...        0.311399   \n7   [-0.018555935625000002, -0.026766454375000005,...        0.009464   \n8   [-0.018555935625000002, -0.026766454375000005,...        0.541328   \n9   [-0.018555935625000002, -0.026766454375000005,...        0.511313   \n10  [-0.018555935625000002, -0.026766454375000005,...        0.985339   \n11  [-0.018555935625000002, -0.026766454375000005,...        0.464778   \n12  [-0.018555935625000002, -0.026766454375000005,...        0.491429   \n13  [-0.018555935625000002, -0.026766454375000005,...        0.561807   \n14  [-0.018555935625000002, -0.026766454375000005,...        0.510540   \n15  [-0.018555935625000002, -0.026766454375000005,...        0.506547   \n16  [-0.018555935625000002, -0.026766454375000005,...        0.445835   \n17  [-0.018555935625000002, -0.026766454375000005,...        0.486301   \n18  [-0.018555935625000002, -0.026766454375000005,...        0.452834   \n19  [-0.018555935625000002, -0.026766454375000005,...        0.465924   \n\n    rec_diversity  faithful                                 interest_2d  \\\n0        0.388043  0.310408   [0.1284251167930326, 0.04301006945952729]   \n1        0.441282  0.577299   [0.1284251167930326, 0.04301006945952729]   \n2        0.387527  0.338783   [0.1284251167930326, 0.04301006945952729]   \n3        0.413839  0.266470   [0.1284251167930326, 0.04301006945952729]   \n4        0.177449  0.203104   [0.1284251167930326, 0.04301006945952729]   \n5        0.426742  0.506325   [0.1284251167930326, 0.04301006945952729]   \n6        0.343627  0.261435   [0.1284251167930326, 0.04301006945952729]   \n7        0.598969  0.460931   [0.1284251167930326, 0.04301006945952729]   \n8        0.642927  0.562237   [0.1284251167930326, 0.04301006945952729]   \n9        0.440922  0.132691   [0.1284251167930326, 0.04301006945952729]   \n10       0.742940  0.563684  [0.12842511679303217, 0.04301006945952727]   \n11       0.445990  0.341029   [0.1284251167930326, 0.04301006945952729]   \n12       0.482905  0.711905   [0.1284251167930326, 0.04301006945952729]   \n13       0.541251  0.696250   [0.1284251167930326, 0.04301006945952729]   \n14       0.480230       NaN   [0.1284251167930326, 0.04301006945952729]   \n15       0.444766       NaN   [0.1284251167930326, 0.04301006945952729]   \n16       0.349982  0.226403   [0.1284251167930326, 0.04301006945952711]   \n17       0.434224  0.831413   [0.1284251167930326, 0.04301006945952729]   \n18       0.417914  0.384247   [0.1284251167930326, 0.04301006945952729]   \n19       0.446160  0.223240   [0.1284251167930326, 0.04301006945952729]   \n\n                                          interest_3d  \n0   [0.12842511679303006, 0.04301006946695423, 1.8...  \n1   [0.12842511679303006, 0.04301006946695423, 1.8...  \n2   [0.12842511679303006, 0.04301006946695423, 1.8...  \n3   [0.12842511679303006, 0.04301006946695423, 1.8...  \n4   [0.12842511679303006, 0.04301006946695423, 1.8...  \n5   [0.12842511679303006, 0.04301006946695423, 1.8...  \n6   [0.12842511679303006, 0.04301006946695423, 1.8...  \n7   [0.12842511679303006, 0.04301006946695423, 1.8...  \n8   [0.12842511679303006, 0.04301006946695423, 1.8...  \n9   [0.12842511679303006, 0.04301006946695423, 1.8...  \n10  [0.12842511679302976, 0.04301006946695567, 1.8...  \n11  [0.12842511679303006, 0.04301006946695423, 1.8...  \n12  [0.12842511679303006, 0.04301006946695423, 1.8...  \n13  [0.12842511679303006, 0.04301006946695423, 1.8...  \n14  [0.12842511679303006, 0.04301006946695423, 1.8...  \n15  [0.12842511679303006, 0.04301006946695423, 1.8...  \n16  [0.12842511679303006, 0.04301006946695413, 1.8...  \n17  [0.12842511679303006, 0.04301006946695423, 1.8...  \n18  [0.12842511679303006, 0.04301006946695423, 1.8...  \n19  [0.12842511679303006, 0.04301006946695423, 1.8...  ",
      "text/html": "<div>\n<style scoped>\n    .dataframe tbody tr th:only-of-type {\n        vertical-align: middle;\n    }\n\n    .dataframe tbody tr th {\n        vertical-align: top;\n    }\n\n    .dataframe thead th {\n        text-align: right;\n    }\n</style>\n<table border=\"1\" class=\"dataframe\">\n  <thead>\n    <tr style=\"text-align: right;\">\n      <th></th>\n      <th>user_id</th>\n      <th>time</th>\n      <th>interest</th>\n      <th>item_diversity</th>\n      <th>rec_diversity</th>\n      <th>faithful</th>\n      <th>interest_2d</th>\n      <th>interest_3d</th>\n    </tr>\n  </thead>\n  <tbody>\n    <tr>\n      <th>0</th>\n      <td>287</td>\n      <td>2019-11-09 14:04:12</td>\n      <td>[-0.018555935625000002, -0.026766454375000005,...</td>\n      <td>0.388646</td>\n      <td>0.388043</td>\n      <td>0.310408</td>\n      <td>[0.1284251167930326, 0.04301006945952729]</td>\n      <td>[0.12842511679303006, 0.04301006946695423, 1.8...</td>\n    </tr>\n    <tr>\n      <th>1</th>\n      <td>287</td>\n      <td>2019-11-09 14:36:05</td>\n      <td>[-0.018555935625000002, -0.026766454375000005,...</td>\n      <td>0.452371</td>\n      <td>0.441282</td>\n      <td>0.577299</td>\n      <td>[0.1284251167930326, 0.04301006945952729]</td>\n      <td>[0.12842511679303006, 0.04301006946695423, 1.8...</td>\n    </tr>\n    <tr>\n      <th>2</th>\n      <td>287</td>\n      <td>2019-11-09 15:08:20</td>\n      <td>[-0.018555935625000002, -0.026766454375000005,...</td>\n      <td>0.406168</td>\n      <td>0.387527</td>\n      <td>0.338783</td>\n      <td>[0.1284251167930326, 0.04301006945952729]</td>\n      <td>[0.12842511679303006, 0.04301006946695423, 1.8...</td>\n    </tr>\n    <tr>\n      <th>3</th>\n      <td>287</td>\n      <td>2019-11-10 16:32:22</td>\n      <td>[-0.018555935625000002, -0.026766454375000005,...</td>\n      <td>0.449095</td>\n      <td>0.413839</td>\n      <td>0.266470</td>\n      <td>[0.1284251167930326, 0.04301006945952729]</td>\n      <td>[0.12842511679303006, 0.04301006946695423, 1.8...</td>\n    </tr>\n    <tr>\n      <th>4</th>\n      <td>287</td>\n      <td>2019-11-10 22:44:16</td>\n      <td>[-0.018555935625000002, -0.026766454375000005,...</td>\n      <td>0.383966</td>\n      <td>0.177449</td>\n      <td>0.203104</td>\n      <td>[0.1284251167930326, 0.04301006945952729]</td>\n      <td>[0.12842511679303006, 0.04301006946695423, 1.8...</td>\n    </tr>\n    <tr>\n      <th>5</th>\n      <td>287</td>\n      <td>2019-11-10 23:24:46</td>\n      <td>[-0.018555935625000002, -0.026766454375000005,...</td>\n      <td>0.426993</td>\n      <td>0.426742</td>\n      <td>0.506325</td>\n      <td>[0.1284251167930326, 0.04301006945952729]</td>\n      <td>[0.12842511679303006, 0.04301006946695423, 1.8...</td>\n    </tr>\n    <tr>\n      <th>6</th>\n      <td>287</td>\n      <td>2019-11-11 10:28:56</td>\n      <td>[-0.018555935625000002, -0.026766454375000005,...</td>\n      <td>0.311399</td>\n      <td>0.343627</td>\n      <td>0.261435</td>\n      <td>[0.1284251167930326, 0.04301006945952729]</td>\n      <td>[0.12842511679303006, 0.04301006946695423, 1.8...</td>\n    </tr>\n    <tr>\n      <th>7</th>\n      <td>287</td>\n      <td>2019-11-11 14:02:17</td>\n      <td>[-0.018555935625000002, -0.026766454375000005,...</td>\n      <td>0.009464</td>\n      <td>0.598969</td>\n      <td>0.460931</td>\n      <td>[0.1284251167930326, 0.04301006945952729]</td>\n      <td>[0.12842511679303006, 0.04301006946695423, 1.8...</td>\n    </tr>\n    <tr>\n      <th>8</th>\n      <td>287</td>\n      <td>2019-11-11 14:56:11</td>\n      <td>[-0.018555935625000002, -0.026766454375000005,...</td>\n      <td>0.541328</td>\n      <td>0.642927</td>\n      <td>0.562237</td>\n      <td>[0.1284251167930326, 0.04301006945952729]</td>\n      <td>[0.12842511679303006, 0.04301006946695423, 1.8...</td>\n    </tr>\n    <tr>\n      <th>9</th>\n      <td>287</td>\n      <td>2019-11-12 05:12:20</td>\n      <td>[-0.018555935625000002, -0.026766454375000005,...</td>\n      <td>0.511313</td>\n      <td>0.440922</td>\n      <td>0.132691</td>\n      <td>[0.1284251167930326, 0.04301006945952729]</td>\n      <td>[0.12842511679303006, 0.04301006946695423, 1.8...</td>\n    </tr>\n    <tr>\n      <th>10</th>\n      <td>287</td>\n      <td>2019-11-12 06:04:22</td>\n      <td>[-0.018555935625000002, -0.026766454375000005,...</td>\n      <td>0.985339</td>\n      <td>0.742940</td>\n      <td>0.563684</td>\n      <td>[0.12842511679303217, 0.04301006945952727]</td>\n      <td>[0.12842511679302976, 0.04301006946695567, 1.8...</td>\n    </tr>\n    <tr>\n      <th>11</th>\n      <td>287</td>\n      <td>2019-11-12 14:34:14</td>\n      <td>[-0.018555935625000002, -0.026766454375000005,...</td>\n      <td>0.464778</td>\n      <td>0.445990</td>\n      <td>0.341029</td>\n      <td>[0.1284251167930326, 0.04301006945952729]</td>\n      <td>[0.12842511679303006, 0.04301006946695423, 1.8...</td>\n    </tr>\n    <tr>\n      <th>12</th>\n      <td>287</td>\n      <td>2019-11-12 20:35:20</td>\n      <td>[-0.018555935625000002, -0.026766454375000005,...</td>\n      <td>0.491429</td>\n      <td>0.482905</td>\n      <td>0.711905</td>\n      <td>[0.1284251167930326, 0.04301006945952729]</td>\n      <td>[0.12842511679303006, 0.04301006946695423, 1.8...</td>\n    </tr>\n    <tr>\n      <th>13</th>\n      <td>287</td>\n      <td>2019-11-13 09:03:58</td>\n      <td>[-0.018555935625000002, -0.026766454375000005,...</td>\n      <td>0.561807</td>\n      <td>0.541251</td>\n      <td>0.696250</td>\n      <td>[0.1284251167930326, 0.04301006945952729]</td>\n      <td>[0.12842511679303006, 0.04301006946695423, 1.8...</td>\n    </tr>\n    <tr>\n      <th>14</th>\n      <td>287</td>\n      <td>2019-11-13 12:32:56</td>\n      <td>[-0.018555935625000002, -0.026766454375000005,...</td>\n      <td>0.510540</td>\n      <td>0.480230</td>\n      <td>NaN</td>\n      <td>[0.1284251167930326, 0.04301006945952729]</td>\n      <td>[0.12842511679303006, 0.04301006946695423, 1.8...</td>\n    </tr>\n    <tr>\n      <th>15</th>\n      <td>287</td>\n      <td>2019-11-14 07:26:00</td>\n      <td>[-0.018555935625000002, -0.026766454375000005,...</td>\n      <td>0.506547</td>\n      <td>0.444766</td>\n      <td>NaN</td>\n      <td>[0.1284251167930326, 0.04301006945952729]</td>\n      <td>[0.12842511679303006, 0.04301006946695423, 1.8...</td>\n    </tr>\n    <tr>\n      <th>16</th>\n      <td>287</td>\n      <td>2019-11-14 08:06:16</td>\n      <td>[-0.018555935625000002, -0.026766454375000005,...</td>\n      <td>0.445835</td>\n      <td>0.349982</td>\n      <td>0.226403</td>\n      <td>[0.1284251167930326, 0.04301006945952711]</td>\n      <td>[0.12842511679303006, 0.04301006946695413, 1.8...</td>\n    </tr>\n    <tr>\n      <th>17</th>\n      <td>287</td>\n      <td>2019-11-14 09:46:37</td>\n      <td>[-0.018555935625000002, -0.026766454375000005,...</td>\n      <td>0.486301</td>\n      <td>0.434224</td>\n      <td>0.831413</td>\n      <td>[0.1284251167930326, 0.04301006945952729]</td>\n      <td>[0.12842511679303006, 0.04301006946695423, 1.8...</td>\n    </tr>\n    <tr>\n      <th>18</th>\n      <td>287</td>\n      <td>2019-11-14 21:39:13</td>\n      <td>[-0.018555935625000002, -0.026766454375000005,...</td>\n      <td>0.452834</td>\n      <td>0.417914</td>\n      <td>0.384247</td>\n      <td>[0.1284251167930326, 0.04301006945952729]</td>\n      <td>[0.12842511679303006, 0.04301006946695423, 1.8...</td>\n    </tr>\n    <tr>\n      <th>19</th>\n      <td>287</td>\n      <td>2019-11-14 23:21:41</td>\n      <td>[-0.018555935625000002, -0.026766454375000005,...</td>\n      <td>0.465924</td>\n      <td>0.446160</td>\n      <td>0.223240</td>\n      <td>[0.1284251167930326, 0.04301006945952729]</td>\n      <td>[0.12842511679303006, 0.04301006946695423, 1.8...</td>\n    </tr>\n  </tbody>\n</table>\n</div>"
     },
     "execution_count": 115,
     "metadata": {},
     "output_type": "execute_result"
    }
   ],
   "source": [
    "sorted_data"
   ],
   "metadata": {
    "collapsed": false,
    "ExecuteTime": {
     "end_time": "2024-05-30T09:05:50.344801400Z",
     "start_time": "2024-05-30T09:05:50.323235800Z"
    }
   },
   "id": "e781d6e9e6941562"
  },
  {
   "cell_type": "code",
   "execution_count": 128,
   "outputs": [],
   "source": [
    "\n",
    "def plot_feature_over_time(uid, df, feature):\n",
    "    # 提取出所有 user_id = uid 的数据\n",
    "    user_data = df[df['user_id'] == uid].dropna(subset=['time', feature])\n",
    "\n",
    "    # 确保特征存在于数据中\n",
    "    if feature not in user_data.columns:\n",
    "        print(f\"Feature '{feature}' not found in the DataFrame. Skipping.\")\n",
    "        return\n",
    "\n",
    "    # 绘制折线图\n",
    "    plt.figure(figsize=(10, 5))\n",
    "    plt.plot(user_data['time'], user_data[feature], label=f'{feature} (normalized)', color='tab:blue')\n",
    "    plt.xlabel('Time')\n",
    "    plt.ylabel(f'{feature} (normalized)')\n",
    "    plt.title(f'Feature {feature} over Time for User {uid}')\n",
    "    plt.legend()\n",
    "\n",
    "    # 绘制直方图\n",
    "    plt.hist(user_data[feature], bins=30, alpha=0.3, color='tab:orange', orientation='horizontal', label='Frequency')\n",
    "    plt.ylabel('Time')  # 由于直方图是水平绘制的，所以y轴现在是时间\n",
    "    plt.legend()\n",
    "\n",
    "    plt.tight_layout()\n",
    "    plt.show()\n",
    "\n",
    "# 示例使用，df 是包含 'user_id', 'time', 和多个特征列的 DataFrame\n",
    "# plot_feature_over_time(1, df, 'feature1')\n"
   ],
   "metadata": {
    "collapsed": false,
    "ExecuteTime": {
     "end_time": "2024-05-30T09:26:07.177081800Z",
     "start_time": "2024-05-30T09:26:07.170564100Z"
    }
   },
   "id": "51fc0238d955391b"
  },
  {
   "cell_type": "code",
   "execution_count": 133,
   "outputs": [
    {
     "data": {
      "text/plain": "<Figure size 1000x500 with 1 Axes>",
      "image/png": "[encoded data removed]"
     },
     "metadata": {},
     "output_type": "display_data"
    }
   ],
   "source": [
    "plot_feature_over_time(uid, bubble_analysis, \"item_diversity\")"
   ],
   "metadata": {
    "collapsed": false,
    "ExecuteTime": {
     "end_time": "2024-05-30T09:26:54.282933800Z",
     "start_time": "2024-05-30T09:26:54.144472200Z"
    }
   },
   "id": "4a40e946a883a754"
  }
 ],
 "metadata": {
  "kernelspec": {
   "display_name": "Python 3",
   "language": "python",
   "name": "python3"
  },
  "language_info": {
   "codemirror_mode": {
    "name": "ipython",
    "version": 2
   },
   "file_extension": ".py",
   "mimetype": "text/x-python",
   "name": "python",
   "nbconvert_exporter": "python",
   "pygments_lexer": "ipython2",
   "version": "2.7.6"
  }
 },
 "nbformat": 4,
 "nbformat_minor": 5
}
