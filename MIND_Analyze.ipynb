{
 "cells": [
  {
   "cell_type": "markdown",
   "source": [
    "# MIND 微软新闻数据集"
   ],
   "metadata": {
    "collapsed": false
   },
   "id": "1cd3329869c20470"
  },
  {
   "cell_type": "markdown",
   "source": [
    " MIND\n",
    "  ├── MINDlarge_dev\n",
    "  │   ├── \\_\\_placeholder\\_\\_\n",
    "  │   ├── behaviors.tsv\n",
    "  │   ├── entity_embedding.vec\n",
    "  │   ├── news.tsv\n",
    "  │   └── relation_embedding.vec\n",
    "  ├── MINDlarge_test\n",
    "  ├── MINDlarge_train\n",
    "  ├── MINDsmall_dev\n",
    "  ├── MINDsmall_train\n"
   ],
   "metadata": {
    "collapsed": false
   },
   "id": "8275d7bf0c8d7b5"
  },
  {
   "cell_type": "code",
   "execution_count": 38,
   "outputs": [],
   "source": [
    "import pandas as pd\n",
    "import numpy as np"
   ],
   "metadata": {
    "collapsed": false,
    "ExecuteTime": {
     "end_time": "2024-05-17T08:56:14.189827200Z",
     "start_time": "2024-05-17T08:56:14.179166900Z"
    }
   },
   "id": "773587577b0d6477"
  },
  {
   "cell_type": "markdown",
   "source": [
    "数据路径"
   ],
   "metadata": {
    "collapsed": false
   },
   "id": "bf9b6ea1dbf0e244"
  },
  {
   "cell_type": "code",
   "execution_count": 39,
   "id": "initial_id",
   "metadata": {
    "collapsed": true,
    "ExecuteTime": {
     "end_time": "2024-05-17T08:56:14.189827200Z",
     "start_time": "2024-05-17T08:56:14.184318900Z"
    }
   },
   "outputs": [],
   "source": [
    "data_path = \"F:/DataSets/MIND/MINDsmall_train/\"\n",
    "behaviors_path = data_path + \"behaviors.tsv\"\n",
    "entity_embeddings_path = data_path + \"entity_embedding.vec\"\n",
    "news_path = data_path + \"news.tsv\""
   ]
  },
  {
   "cell_type": "markdown",
   "source": [
    "* 印象 ID。展示的 ID。 int64\n",
    "* 用户身份。用户的匿名 ID。str\n",
    "* 时间。展示时间，格式为“MM/DD/YYYY HH:MM:SS AM/PM”。str\n",
    "* 历史。该用户在本次曝光前的新闻点击历史记录（点击新闻的ID列表）。点击的新闻文章按时间排序。str\n",
    "* 印象。本次展示中展示的新闻列表以及用户对其的点击行为（1为点击，0为未点击）。印象中的新闻顺序已被打乱。str"
   ],
   "metadata": {
    "collapsed": false
   },
   "id": "e081189919170ed2"
  },
  {
   "cell_type": "code",
   "execution_count": 40,
   "outputs": [
    {
     "name": "stdout",
     "output_type": "stream",
     "text": [
      "<class 'numpy.int64'> <class 'str'> <class 'str'> <class 'str'> <class 'str'>\n"
     ]
    },
    {
     "data": {
      "text/plain": "   impression_id user_id                   time  \\\n0              1  U13740  11/11/2019 9:05:58 AM   \n1              2  U91836  11/12/2019 6:11:30 PM   \n\n                                             history  \\\n0  N55189 N42782 N34694 N45794 N18445 N63302 N104...   \n1  N31739 N6072 N63045 N23979 N35656 N43353 N8129...   \n\n                                         impressions  \n0                                  N55689-1 N35729-0  \n1  N20678-0 N39317-0 N58114-0 N20495-0 N42977-0 N...  ",
      "text/html": "<div>\n<style scoped>\n    .dataframe tbody tr th:only-of-type {\n        vertical-align: middle;\n    }\n\n    .dataframe tbody tr th {\n        vertical-align: top;\n    }\n\n    .dataframe thead th {\n        text-align: right;\n    }\n</style>\n<table border=\"1\" class=\"dataframe\">\n  <thead>\n    <tr style=\"text-align: right;\">\n      <th></th>\n      <th>impression_id</th>\n      <th>user_id</th>\n      <th>time</th>\n      <th>history</th>\n      <th>impressions</th>\n    </tr>\n  </thead>\n  <tbody>\n    <tr>\n      <th>0</th>\n      <td>1</td>\n      <td>U13740</td>\n      <td>11/11/2019 9:05:58 AM</td>\n      <td>N55189 N42782 N34694 N45794 N18445 N63302 N104...</td>\n      <td>N55689-1 N35729-0</td>\n    </tr>\n    <tr>\n      <th>1</th>\n      <td>2</td>\n      <td>U91836</td>\n      <td>11/12/2019 6:11:30 PM</td>\n      <td>N31739 N6072 N63045 N23979 N35656 N43353 N8129...</td>\n      <td>N20678-0 N39317-0 N58114-0 N20495-0 N42977-0 N...</td>\n    </tr>\n  </tbody>\n</table>\n</div>"
     },
     "execution_count": 40,
     "metadata": {},
     "output_type": "execute_result"
    }
   ],
   "source": [
    "feature_names = ['impression_id', 'user_id', 'time', 'history', 'impressions']\n",
    "behaviors_file = pd.read_table(behaviors_path, header=None, names=feature_names)\n",
    "print(type(behaviors_file['impression_id'][0]),type(behaviors_file['user_id'][0]),type(behaviors_file['time'][0]),type(behaviors_file['history'][0]),type(behaviors_file['impressions'][0]))\n",
    "behaviors_file.head(2)"
   ],
   "metadata": {
    "collapsed": false,
    "ExecuteTime": {
     "end_time": "2024-05-17T08:56:14.983108200Z",
     "start_time": "2024-05-17T08:56:14.191826200Z"
    }
   },
   "id": "c36df78b7aadbd2c"
  },
  {
   "cell_type": "markdown",
   "source": [
    "## 嵌入表示\n",
    "读取实体嵌入向量，每个向量是一个100维的数组\n",
    "问题：\n",
    "1. 只有实体的嵌入，每个新闻有标题和摘要的若干实体，没有正文内容的实体\n",
    "2. 暂用：mean(（标题+摘要）.嵌入) 代表 新闻嵌入\n"
   ],
   "metadata": {
    "collapsed": false
   },
   "id": "6eca3134bb4722f"
  },
  {
   "cell_type": "code",
   "execution_count": 61,
   "outputs": [
    {
     "data": {
      "text/plain": "     EID                                             Vector\n0    Q41  [-0.063388, -0.181451, 0.057501, -0.091254, -0...\n1  Q1860  [0.060958, 0.069934, 0.015832, 0.079471, -0.02...",
      "text/html": "<div>\n<style scoped>\n    .dataframe tbody tr th:only-of-type {\n        vertical-align: middle;\n    }\n\n    .dataframe tbody tr th {\n        vertical-align: top;\n    }\n\n    .dataframe thead th {\n        text-align: right;\n    }\n</style>\n<table border=\"1\" class=\"dataframe\">\n  <thead>\n    <tr style=\"text-align: right;\">\n      <th></th>\n      <th>EID</th>\n      <th>Vector</th>\n    </tr>\n  </thead>\n  <tbody>\n    <tr>\n      <th>0</th>\n      <td>Q41</td>\n      <td>[-0.063388, -0.181451, 0.057501, -0.091254, -0...</td>\n    </tr>\n    <tr>\n      <th>1</th>\n      <td>Q1860</td>\n      <td>[0.060958, 0.069934, 0.015832, 0.079471, -0.02...</td>\n    </tr>\n  </tbody>\n</table>\n</div>"
     },
     "execution_count": 61,
     "metadata": {},
     "output_type": "execute_result"
    }
   ],
   "source": [
    "entity_embeddings_file = pd.read_csv(entity_embeddings_path, header=None, sep='\\t')\n",
    "\n",
    "# 将ID和向量分离，ID在第一列，向量在剩余的列\n",
    "entity_ids = entity_embeddings_file.iloc[:, 0]\n",
    "embedding_vectors = entity_embeddings_file.iloc[:, 1:]\n",
    "\n",
    "# 使用apply函数去除\"Q\"前缀并转换为整数\n",
    "converted_entity_ids = entity_embeddings_file.iloc[:, 0].apply(lambda x: int(x[1:]))\n",
    "\n",
    "# 将向量转换为一个numpy数组，这样每个向量就是一个数组形式\n",
    "embedding_vectors = embedding_vectors.apply(lambda row: np.array(row), axis=1)\n",
    "\n",
    "# 创建一个新的DataFrame来存储这些值\n",
    "entity_embeddings = pd.DataFrame({'EID': entity_ids, 'Vector': embedding_vectors})\n",
    "\n",
    "# 设置ID为索引，方便后续查询\n",
    "# entity_embeddings.set_index('EID', inplace=True)\n",
    "entity_embeddings.head(2)"
   ],
   "metadata": {
    "collapsed": false,
    "ExecuteTime": {
     "end_time": "2024-05-17T09:01:57.469792600Z",
     "start_time": "2024-05-17T09:01:56.986891500Z"
    }
   },
   "id": "30279482c137b19f"
  },
  {
   "cell_type": "markdown",
   "source": [
    "## 构造用户兴趣表（行为表）\n",
    "不是所有新闻都存在标题实体和摘要实体\n",
    "步骤：\n",
    "1. 构建新闻-嵌入表\n",
    "2. 以user_id排序behavior_file\n",
    "3. impressions到处交互新闻id\n",
    "4. 通过新闻id，得到新闻嵌入\n",
    "5. groupby用户id和不同时间段，计算平均嵌入，作为用户长中短期兴趣"
   ],
   "metadata": {
    "collapsed": false
   },
   "id": "5e80677701b7a4d1"
  },
  {
   "cell_type": "code",
   "execution_count": 42,
   "outputs": [
    {
     "data": {
      "text/plain": "0        [{\"Label\": \"Prince Philip, Duke of Edinburgh\",...\n1        [{\"Label\": \"Adipose tissue\", \"Type\": \"C\", \"Wik...\n2                                                       []\n3                                                       []\n4        [{\"Label\": \"Skin tag\", \"Type\": \"C\", \"WikidataI...\n                               ...                        \n51277    [{\"Label\": \"Woolsey Fire\", \"Type\": \"N\", \"Wikid...\n51278    [{\"Label\": \"Broadway theatre\", \"Type\": \"F\", \"W...\n51279                                                   []\n51280    [{\"Label\": \"MLS Cup\", \"Type\": \"U\", \"WikidataId...\n51281    [{\"Label\": \"Peugeot RCZ\", \"Type\": \"V\", \"Wikida...\nName: title_entity, Length: 51282, dtype: object"
     },
     "execution_count": 42,
     "metadata": {},
     "output_type": "execute_result"
    }
   ],
   "source": [
    "import json\n",
    "feature_names = ['news_id', 'label', 'sub_label', 'title', 'abstract', 'url', 'title_entity', 'abstract_entity']\n",
    "news = pd.read_table(news_path, header=None, names=feature_names)\n",
    "\n",
    "news['title_entity']"
   ],
   "metadata": {
    "collapsed": false,
    "ExecuteTime": {
     "end_time": "2024-05-17T08:56:15.852519500Z",
     "start_time": "2024-05-17T08:56:15.497836200Z"
    }
   },
   "id": "54d5e09a0972d9ac"
  },
  {
   "cell_type": "code",
   "execution_count": 43,
   "outputs": [
    {
     "name": "stdout",
     "output_type": "stream",
     "text": [
      "[]\n",
      "<class 'str'>\n"
     ]
    }
   ],
   "source": [
    "print(news['title_entity'][2])\n",
    "print(type(news['title_entity'][2]))"
   ],
   "metadata": {
    "collapsed": false,
    "ExecuteTime": {
     "end_time": "2024-05-17T08:56:15.852519500Z",
     "start_time": "2024-05-17T08:56:15.848981400Z"
    }
   },
   "id": "9dce14dbe7f25f31"
  },
  {
   "cell_type": "markdown",
   "source": [
    "实体存储在title_entity和abstract_entity中，以json格式的字符串存在"
   ],
   "metadata": {
    "collapsed": false
   },
   "id": "3bc0840114eff98a"
  },
  {
   "cell_type": "code",
   "execution_count": 44,
   "outputs": [],
   "source": [
    "df = news\n",
    "\n",
    "# 定义一个函数来提取WikidataId和Confidence\n",
    "def extract_wikidata_confidence(json_str):\n",
    "    if type(json_str) == str:  # 检查字符串是否为空\n",
    "        entities = json.loads(json_str)\n",
    "        return [(entity[\"WikidataId\"], entity[\"Confidence\"]) for entity in entities]\n",
    "    else:\n",
    "        return []  # 返回一个空列表\n",
    "\n",
    "# 应用这个函数到title_entity列\n",
    "df['wikidata_confidence1'] = df['title_entity'].apply(extract_wikidata_confidence)\n",
    "df['wikidata_confidence2'] = df['abstract_entity'].apply(extract_wikidata_confidence)\n",
    "\n",
    "# print(df['wikidata_confidence1'])\n",
    "# print(df['wikidata_confidence2'])"
   ],
   "metadata": {
    "collapsed": false,
    "ExecuteTime": {
     "end_time": "2024-05-17T08:56:16.406084200Z",
     "start_time": "2024-05-17T08:56:15.854520Z"
    }
   },
   "id": "6e3d0127981a4a32"
  },
  {
   "cell_type": "code",
   "execution_count": 79,
   "outputs": [
    {
     "data": {
      "text/plain": "  news_id      label        sub_label  \\\n0  N55528  lifestyle  lifestyleroyals   \n1  N19639     health       weightloss   \n2  N61837       news        newsworld   \n3  N53526     health           voices   \n4  N38324     health          medical   \n\n                                               title  \\\n0  The Brands Queen Elizabeth, Prince Charles, an...   \n1                      50 Worst Habits For Belly Fat   \n2  The Cost of Trump's Aid Freeze in the Trenches...   \n3  I Was An NBA Wife. Here's How It Affected My M...   \n4  How to Get Rid of Skin Tags, According to a De...   \n\n                                            abstract  \\\n0  Shop the notebooks, jackets, and more that the...   \n1  These seemingly harmless habits are holding yo...   \n2  Lt. Ivan Molchanets peeked over a parapet of s...   \n3  I felt like I was a fraud, and being an NBA wi...   \n4  They seem harmless, but there's a very good re...   \n\n                                             url  \\\n0  https://assets.msn.com/labs/mind/AAGH0ET.html   \n1  https://assets.msn.com/labs/mind/AAB19MK.html   \n2  https://assets.msn.com/labs/mind/AAJgNsz.html   \n3  https://assets.msn.com/labs/mind/AACk2N6.html   \n4  https://assets.msn.com/labs/mind/AAAKEkt.html   \n\n                                        title_entity  \\\n0  [{\"Label\": \"Prince Philip, Duke of Edinburgh\",...   \n1  [{\"Label\": \"Adipose tissue\", \"Type\": \"C\", \"Wik...   \n2                                                 []   \n3                                                 []   \n4  [{\"Label\": \"Skin tag\", \"Type\": \"C\", \"WikidataI...   \n\n                                     abstract_entity  \\\n0                                                 []   \n1  [{\"Label\": \"Adipose tissue\", \"Type\": \"C\", \"Wik...   \n2  [{\"Label\": \"Ukraine\", \"Type\": \"G\", \"WikidataId...   \n3  [{\"Label\": \"National Basketball Association\", ...   \n4  [{\"Label\": \"Skin tag\", \"Type\": \"C\", \"WikidataI...   \n\n                            wikidata_confidence1  \\\n0  [(Q80976, 1.0), (Q43274, 1.0), (Q9682, 0.97)]   \n1                               [(Q193583, 1.0)]   \n2                                             []   \n3                                             []   \n4                              [(Q3179593, 1.0)]   \n\n                                wikidata_confidence2  \\\n0                                                 []   \n1                                   [(Q193583, 1.0)]   \n2                                    [(Q212, 0.946)]   \n3                                   [(Q155223, 1.0)]   \n4  [(Q3179593, 1.0), (Q171171, 1.0), (Q371820, 0....   \n\n                                   average_embedding  \\\n0  [0.004057333333333334, -0.03991733333333333, -...   \n1  [-0.013597, -0.009758, 0.01712, -0.051993, 0.0...   \n2                                                 []   \n3                                                 []   \n4  [0.014257, 0.018351, 0.005199, 0.001773, 0.031...   \n\n                                  average_embedding1  \\\n0  [0.004057333333333334, -0.03991733333333333, -...   \n1  [-0.013597, -0.009758, 0.01712, -0.051993, 0.0...   \n2                                                 []   \n3                                                 []   \n4  [0.014257, 0.018351, 0.005199, 0.001773, 0.031...   \n\n                                  average_embedding2  \n0                                                 []  \n1  [-0.013597, -0.009758, 0.01712, -0.051993, 0.0...  \n2  [-0.065324, -0.088163, -0.015203, -0.031949, 0...  \n3  [0.003752, -0.061771, -0.037073, 0.02677, -0.0...  \n4  [-0.008593666666666668, -0.0001680000000000003...  ",
      "text/html": "<div>\n<style scoped>\n    .dataframe tbody tr th:only-of-type {\n        vertical-align: middle;\n    }\n\n    .dataframe tbody tr th {\n        vertical-align: top;\n    }\n\n    .dataframe thead th {\n        text-align: right;\n    }\n</style>\n<table border=\"1\" class=\"dataframe\">\n  <thead>\n    <tr style=\"text-align: right;\">\n      <th></th>\n      <th>news_id</th>\n      <th>label</th>\n      <th>sub_label</th>\n      <th>title</th>\n      <th>abstract</th>\n      <th>url</th>\n      <th>title_entity</th>\n      <th>abstract_entity</th>\n      <th>wikidata_confidence1</th>\n      <th>wikidata_confidence2</th>\n      <th>average_embedding</th>\n      <th>average_embedding1</th>\n      <th>average_embedding2</th>\n    </tr>\n  </thead>\n  <tbody>\n    <tr>\n      <th>0</th>\n      <td>N55528</td>\n      <td>lifestyle</td>\n      <td>lifestyleroyals</td>\n      <td>The Brands Queen Elizabeth, Prince Charles, an...</td>\n      <td>Shop the notebooks, jackets, and more that the...</td>\n      <td>https://assets.msn.com/labs/mind/AAGH0ET.html</td>\n      <td>[{\"Label\": \"Prince Philip, Duke of Edinburgh\",...</td>\n      <td>[]</td>\n      <td>[(Q80976, 1.0), (Q43274, 1.0), (Q9682, 0.97)]</td>\n      <td>[]</td>\n      <td>[0.004057333333333334, -0.03991733333333333, -...</td>\n      <td>[0.004057333333333334, -0.03991733333333333, -...</td>\n      <td>[]</td>\n    </tr>\n    <tr>\n      <th>1</th>\n      <td>N19639</td>\n      <td>health</td>\n      <td>weightloss</td>\n      <td>50 Worst Habits For Belly Fat</td>\n      <td>These seemingly harmless habits are holding yo...</td>\n      <td>https://assets.msn.com/labs/mind/AAB19MK.html</td>\n      <td>[{\"Label\": \"Adipose tissue\", \"Type\": \"C\", \"Wik...</td>\n      <td>[{\"Label\": \"Adipose tissue\", \"Type\": \"C\", \"Wik...</td>\n      <td>[(Q193583, 1.0)]</td>\n      <td>[(Q193583, 1.0)]</td>\n      <td>[-0.013597, -0.009758, 0.01712, -0.051993, 0.0...</td>\n      <td>[-0.013597, -0.009758, 0.01712, -0.051993, 0.0...</td>\n      <td>[-0.013597, -0.009758, 0.01712, -0.051993, 0.0...</td>\n    </tr>\n    <tr>\n      <th>2</th>\n      <td>N61837</td>\n      <td>news</td>\n      <td>newsworld</td>\n      <td>The Cost of Trump's Aid Freeze in the Trenches...</td>\n      <td>Lt. Ivan Molchanets peeked over a parapet of s...</td>\n      <td>https://assets.msn.com/labs/mind/AAJgNsz.html</td>\n      <td>[]</td>\n      <td>[{\"Label\": \"Ukraine\", \"Type\": \"G\", \"WikidataId...</td>\n      <td>[]</td>\n      <td>[(Q212, 0.946)]</td>\n      <td>[]</td>\n      <td>[]</td>\n      <td>[-0.065324, -0.088163, -0.015203, -0.031949, 0...</td>\n    </tr>\n    <tr>\n      <th>3</th>\n      <td>N53526</td>\n      <td>health</td>\n      <td>voices</td>\n      <td>I Was An NBA Wife. Here's How It Affected My M...</td>\n      <td>I felt like I was a fraud, and being an NBA wi...</td>\n      <td>https://assets.msn.com/labs/mind/AACk2N6.html</td>\n      <td>[]</td>\n      <td>[{\"Label\": \"National Basketball Association\", ...</td>\n      <td>[]</td>\n      <td>[(Q155223, 1.0)]</td>\n      <td>[]</td>\n      <td>[]</td>\n      <td>[0.003752, -0.061771, -0.037073, 0.02677, -0.0...</td>\n    </tr>\n    <tr>\n      <th>4</th>\n      <td>N38324</td>\n      <td>health</td>\n      <td>medical</td>\n      <td>How to Get Rid of Skin Tags, According to a De...</td>\n      <td>They seem harmless, but there's a very good re...</td>\n      <td>https://assets.msn.com/labs/mind/AAAKEkt.html</td>\n      <td>[{\"Label\": \"Skin tag\", \"Type\": \"C\", \"WikidataI...</td>\n      <td>[{\"Label\": \"Skin tag\", \"Type\": \"C\", \"WikidataI...</td>\n      <td>[(Q3179593, 1.0)]</td>\n      <td>[(Q3179593, 1.0), (Q171171, 1.0), (Q371820, 0....</td>\n      <td>[0.014257, 0.018351, 0.005199, 0.001773, 0.031...</td>\n      <td>[0.014257, 0.018351, 0.005199, 0.001773, 0.031...</td>\n      <td>[-0.008593666666666668, -0.0001680000000000003...</td>\n    </tr>\n  </tbody>\n</table>\n</div>"
     },
     "execution_count": 79,
     "metadata": {},
     "output_type": "execute_result"
    }
   ],
   "source": [
    "# 定义函数计算平均嵌入\n",
    "def calculate_average_embedding(wikidata_confidence):\n",
    "    embeddings = []\n",
    "    for wikidata_id, _ in wikidata_confidence:\n",
    "        embedding = entity_embeddings.loc[entity_embeddings['EID'] == wikidata_id, 'Vector'].values\n",
    "        if embedding.size > 0:\n",
    "            embeddings.append(embedding[0])\n",
    "    \n",
    "    if embeddings:\n",
    "        # 计算找到的嵌入向量的平均值\n",
    "        average_embedding = np.mean(embeddings, axis=0)\n",
    "        return average_embedding\n",
    "    else:\n",
    "        return np.array([])  # 如果没有找到嵌入向量，返回空数组\n",
    "\n",
    "# 应用函数到wikidata_confidence列\n",
    "df['average_embedding1'] = df['wikidata_confidence1'].apply(calculate_average_embedding)\n",
    "df['average_embedding2'] = df['wikidata_confidence2'].apply(calculate_average_embedding)\n",
    "\n",
    "df.head()"
   ],
   "metadata": {
    "collapsed": false,
    "ExecuteTime": {
     "end_time": "2024-05-17T09:13:35.859894500Z",
     "start_time": "2024-05-17T09:10:50.508943100Z"
    }
   },
   "id": "39ac0857b9c81f2c"
  },
  {
   "cell_type": "markdown",
   "source": [
    "验证一下"
   ],
   "metadata": {
    "collapsed": false
   },
   "id": "b4280edec2524d14"
  },
  {
   "cell_type": "code",
   "execution_count": 78,
   "outputs": [],
   "source": [
    "# # 80976 43284 9682\n",
    "# print((entity_embeddings.loc[entity_embeddings[\"EID\"]== \"Q80976\",'Vector'].values +\n",
    "#       entity_embeddings.loc[entity_embeddings[\"EID\"]== \"Q43274\",'Vector'].values +\n",
    "#       entity_embeddings.loc[entity_embeddings[\"EID\"]== \"Q9682\",'Vector'].values)/3)\n"
   ],
   "metadata": {
    "collapsed": false,
    "ExecuteTime": {
     "end_time": "2024-05-17T09:10:23.729269800Z",
     "start_time": "2024-05-17T09:10:23.723760100Z"
    }
   },
   "id": "a2c9417242d394bc"
  },
  {
   "cell_type": "markdown",
   "source": [
    "保存csv文件"
   ],
   "metadata": {
    "collapsed": false
   },
   "id": "9361e0ccfcd2249b"
  },
  {
   "cell_type": "code",
   "execution_count": 80,
   "outputs": [],
   "source": [
    "df.to_csv(\"news_embedding.csv\")"
   ],
   "metadata": {
    "collapsed": false,
    "ExecuteTime": {
     "end_time": "2024-05-17T09:18:11.209266500Z",
     "start_time": "2024-05-17T09:17:39.690060600Z"
    }
   },
   "id": "39b8eb1f6ff92c98"
  }
 ],
 "metadata": {
  "kernelspec": {
   "display_name": "Python 3",
   "language": "python",
   "name": "python3"
  },
  "language_info": {
   "codemirror_mode": {
    "name": "ipython",
    "version": 2
   },
   "file_extension": ".py",
   "mimetype": "text/x-python",
   "name": "python",
   "nbconvert_exporter": "python",
   "pygments_lexer": "ipython2",
   "version": "2.7.6"
  }
 },
 "nbformat": 4,
 "nbformat_minor": 5
}
