{
 "cells": [
  {
   "cell_type": "code",
   "execution_count": 2,
   "id": "initial_id",
   "metadata": {
    "collapsed": true,
    "ExecuteTime": {
     "end_time": "2024-05-31T06:46:32.099457100Z",
     "start_time": "2024-05-31T06:46:28.291168700Z"
    }
   },
   "outputs": [],
   "source": [
    "import pandas as pd\n",
    "import numpy as np\n",
    "import re\n",
    "import ast\n",
    "from ast import literal_eval\n",
    "from sklearn.preprocessing import MinMaxScaler\n",
    "from sklearn.decomposition import PCA\n",
    "import matplotlib.pyplot as plt"
   ]
  },
  {
   "cell_type": "code",
   "execution_count": 3,
   "outputs": [],
   "source": [
    "data_path = \"F:/DataSets/MIND/MINDsmall_train/\"\n",
    "behaviors_path = data_path + \"behaviors.tsv\"\n",
    "entity_embeddings_path = data_path + \"entity_embedding.vec\"\n",
    "news_path = data_path + \"news.tsv\""
   ],
   "metadata": {
    "collapsed": false,
    "ExecuteTime": {
     "end_time": "2024-05-31T06:46:32.104638500Z",
     "start_time": "2024-05-31T06:46:32.101458100Z"
    }
   },
   "id": "f42d2de5e2c7b379"
  },
  {
   "cell_type": "code",
   "execution_count": 5,
   "outputs": [
    {
     "data": {
      "text/plain": "   N55528 lifestyle lifestyleroyals  \\\n0  N19639    health      weightloss   \n1  N61837      news       newsworld   \n2  N53526    health          voices   \n3  N38324    health         medical   \n4   N2073    sports    football_nfl   \n\n  The Brands Queen Elizabeth, Prince Charles, and Prince Philip Swear By  \\\n0                      50 Worst Habits For Belly Fat                       \n1  The Cost of Trump's Aid Freeze in the Trenches...                       \n2  I Was An NBA Wife. Here's How It Affected My M...                       \n3  How to Get Rid of Skin Tags, According to a De...                       \n4  Should NFL be able to fine players for critici...                       \n\n  Shop the notebooks, jackets, and more that the royals can't live without.  \\\n0  These seemingly harmless habits are holding yo...                          \n1  Lt. Ivan Molchanets peeked over a parapet of s...                          \n2  I felt like I was a fraud, and being an NBA wi...                          \n3  They seem harmless, but there's a very good re...                          \n4  Several fines came down against NFL players fo...                          \n\n   https://assets.msn.com/labs/mind/AAGH0ET.html  \\\n0  https://assets.msn.com/labs/mind/AAB19MK.html   \n1  https://assets.msn.com/labs/mind/AAJgNsz.html   \n2  https://assets.msn.com/labs/mind/AACk2N6.html   \n3  https://assets.msn.com/labs/mind/AAAKEkt.html   \n4  https://assets.msn.com/labs/mind/AAJ4lap.html   \n\n  [{\"Label\": \"Prince Philip, Duke of Edinburgh\", \"Type\": \"P\", \"WikidataId\": \"Q80976\", \"Confidence\": 1.0, \"OccurrenceOffsets\": [48], \"SurfaceForms\": [\"Prince Philip\"]}, {\"Label\": \"Charles, Prince of Wales\", \"Type\": \"P\", \"WikidataId\": \"Q43274\", \"Confidence\": 1.0, \"OccurrenceOffsets\": [28], \"SurfaceForms\": [\"Prince Charles\"]}, {\"Label\": \"Elizabeth II\", \"Type\": \"P\", \"WikidataId\": \"Q9682\", \"Confidence\": 0.97, \"OccurrenceOffsets\": [11], \"SurfaceForms\": [\"Queen Elizabeth\"]}]  \\\n0  [{\"Label\": \"Adipose tissue\", \"Type\": \"C\", \"Wik...                                                                                                                                                                                                                                                                                                                                                                                                                                       \n1                                                 []                                                                                                                                                                                                                                                                                                                                                                                                                                       \n2                                                 []                                                                                                                                                                                                                                                                                                                                                                                                                                       \n3  [{\"Label\": \"Skin tag\", \"Type\": \"C\", \"WikidataI...                                                                                                                                                                                                                                                                                                                                                                                                                                       \n4  [{\"Label\": \"National Football League\", \"Type\":...                                                                                                                                                                                                                                                                                                                                                                                                                                       \n\n                                                  []  \n0  [{\"Label\": \"Adipose tissue\", \"Type\": \"C\", \"Wik...  \n1  [{\"Label\": \"Ukraine\", \"Type\": \"G\", \"WikidataId...  \n2  [{\"Label\": \"National Basketball Association\", ...  \n3  [{\"Label\": \"Skin tag\", \"Type\": \"C\", \"WikidataI...  \n4  [{\"Label\": \"National Football League\", \"Type\":...  ",
      "text/html": "<div>\n<style scoped>\n    .dataframe tbody tr th:only-of-type {\n        vertical-align: middle;\n    }\n\n    .dataframe tbody tr th {\n        vertical-align: top;\n    }\n\n    .dataframe thead th {\n        text-align: right;\n    }\n</style>\n<table border=\"1\" class=\"dataframe\">\n  <thead>\n    <tr style=\"text-align: right;\">\n      <th></th>\n      <th>N55528</th>\n      <th>lifestyle</th>\n      <th>lifestyleroyals</th>\n      <th>The Brands Queen Elizabeth, Prince Charles, and Prince Philip Swear By</th>\n      <th>Shop the notebooks, jackets, and more that the royals can't live without.</th>\n      <th>https://assets.msn.com/labs/mind/AAGH0ET.html</th>\n      <th>[{\"Label\": \"Prince Philip, Duke of Edinburgh\", \"Type\": \"P\", \"WikidataId\": \"Q80976\", \"Confidence\": 1.0, \"OccurrenceOffsets\": [48], \"SurfaceForms\": [\"Prince Philip\"]}, {\"Label\": \"Charles, Prince of Wales\", \"Type\": \"P\", \"WikidataId\": \"Q43274\", \"Confidence\": 1.0, \"OccurrenceOffsets\": [28], \"SurfaceForms\": [\"Prince Charles\"]}, {\"Label\": \"Elizabeth II\", \"Type\": \"P\", \"WikidataId\": \"Q9682\", \"Confidence\": 0.97, \"OccurrenceOffsets\": [11], \"SurfaceForms\": [\"Queen Elizabeth\"]}]</th>\n      <th>[]</th>\n    </tr>\n  </thead>\n  <tbody>\n    <tr>\n      <th>0</th>\n      <td>N19639</td>\n      <td>health</td>\n      <td>weightloss</td>\n      <td>50 Worst Habits For Belly Fat</td>\n      <td>These seemingly harmless habits are holding yo...</td>\n      <td>https://assets.msn.com/labs/mind/AAB19MK.html</td>\n      <td>[{\"Label\": \"Adipose tissue\", \"Type\": \"C\", \"Wik...</td>\n      <td>[{\"Label\": \"Adipose tissue\", \"Type\": \"C\", \"Wik...</td>\n    </tr>\n    <tr>\n      <th>1</th>\n      <td>N61837</td>\n      <td>news</td>\n      <td>newsworld</td>\n      <td>The Cost of Trump's Aid Freeze in the Trenches...</td>\n      <td>Lt. Ivan Molchanets peeked over a parapet of s...</td>\n      <td>https://assets.msn.com/labs/mind/AAJgNsz.html</td>\n      <td>[]</td>\n      <td>[{\"Label\": \"Ukraine\", \"Type\": \"G\", \"WikidataId...</td>\n    </tr>\n    <tr>\n      <th>2</th>\n      <td>N53526</td>\n      <td>health</td>\n      <td>voices</td>\n      <td>I Was An NBA Wife. Here's How It Affected My M...</td>\n      <td>I felt like I was a fraud, and being an NBA wi...</td>\n      <td>https://assets.msn.com/labs/mind/AACk2N6.html</td>\n      <td>[]</td>\n      <td>[{\"Label\": \"National Basketball Association\", ...</td>\n    </tr>\n    <tr>\n      <th>3</th>\n      <td>N38324</td>\n      <td>health</td>\n      <td>medical</td>\n      <td>How to Get Rid of Skin Tags, According to a De...</td>\n      <td>They seem harmless, but there's a very good re...</td>\n      <td>https://assets.msn.com/labs/mind/AAAKEkt.html</td>\n      <td>[{\"Label\": \"Skin tag\", \"Type\": \"C\", \"WikidataI...</td>\n      <td>[{\"Label\": \"Skin tag\", \"Type\": \"C\", \"WikidataI...</td>\n    </tr>\n    <tr>\n      <th>4</th>\n      <td>N2073</td>\n      <td>sports</td>\n      <td>football_nfl</td>\n      <td>Should NFL be able to fine players for critici...</td>\n      <td>Several fines came down against NFL players fo...</td>\n      <td>https://assets.msn.com/labs/mind/AAJ4lap.html</td>\n      <td>[{\"Label\": \"National Football League\", \"Type\":...</td>\n      <td>[{\"Label\": \"National Football League\", \"Type\":...</td>\n    </tr>\n  </tbody>\n</table>\n</div>"
     },
     "execution_count": 5,
     "metadata": {},
     "output_type": "execute_result"
    }
   ],
   "source": [
    "news = pd.read_table(news_path)\n",
    "news.head()"
   ],
   "metadata": {
    "collapsed": false,
    "ExecuteTime": {
     "end_time": "2024-05-31T06:46:53.766009100Z",
     "start_time": "2024-05-31T06:46:53.412721900Z"
    }
   },
   "id": "f9e7a3b92266c813"
  }
 ],
 "metadata": {
  "kernelspec": {
   "display_name": "Python 3",
   "language": "python",
   "name": "python3"
  },
  "language_info": {
   "codemirror_mode": {
    "name": "ipython",
    "version": 2
   },
   "file_extension": ".py",
   "mimetype": "text/x-python",
   "name": "python",
   "nbconvert_exporter": "python",
   "pygments_lexer": "ipython2",
   "version": "2.7.6"
  }
 },
 "nbformat": 4,
 "nbformat_minor": 5
}
